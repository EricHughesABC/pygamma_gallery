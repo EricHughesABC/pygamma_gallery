{
 "cells": [
  {
   "cell_type": "code",
   "execution_count": 1,
   "metadata": {},
   "outputs": [],
   "source": [
    "import numpy as np\n",
    "from IPython.display import display, Math, Latex\n",
    "from print_latex import printLatex\n",
    "\n",
    "import pygamma as pg"
   ]
  },
  {
   "cell_type": "markdown",
   "metadata": {},
   "source": [
    "## 2.4 Description\n",
    "\n",
    "The GAMMA module ***SpinOpSng*** provides all the common single spin angular momentum operators. These are used internally to provide the class ***spin_op*** with the core elements needed for construction of spin operators defined over systems containing multiple spins. Normally, GAMMA users do not employ these single spin operator functions explicitly in programs. Rather, spin operators defined over the Hilbert space of a spin system are used. These are more general and will handle any number of spins in the system and in any combination. When the system contains only one spin then such spin operators will be equivalent to the single spin operators returned by the functions of this section.\n",
    "\n",
    "Each spin operator can be presented is in terms of single spin operators. In turn, each single spin operator in this context is stored in the spin Hilbert space of dimension of *2I+1*, not in the full spin system Hilbert space. The full Hilbert space representation is obtained from these single spin matrices by taking direct products.\n",
    "\n",
    "\\begin{equation}\n",
    "SOp = SOp(1) \\; \\otimes \\; SOp(2) \\; \\otimes SOp(2) \\; \\otimes \\dotsc \\otimes \\; SOp(n) \\;\\;\\;\\;\\;\\;\\;\\;  (2.1)\n",
    "\\end{equation}\n",
    "\n",
    "In this equation, ***SOp(i)*** is the single spin operator acting on spin i. All spins which are active in ***SOp*** are included in the product and each single spin operator here spans its own Hilbert Space. Although not generally possible for any arbitrary spin operators 1 , use of this operator description can result in both computational and memory savings. The memory savings can be made evident by consideration of the spin operator $I_{1x} in a three spin system with spins having quantum numbers of 1/2, 1, and 1/2 respectively. The full Hilbert space of this spin system is 12 resulting from the product of the individual spin sub-spaces of 2, 3, and 2. The operator then looks like\n",
    "\n",
    "\\begin{equation}\n",
    "I_{1x} = \n",
    "\\begin{bmatrix}\n",
    " 12 \\times 12 \\\\\n",
    " Array        \\\\\n",
    "\\end{bmatrix} =\n",
    "\\begin{bmatrix}\n",
    " 0 & 1  \\\\\n",
    " 1 & 0  \\\\\n",
    "\\end{bmatrix} \\otimes\n",
    "\\begin{bmatrix}\n",
    " 1 & 0 & 0 \\\\\n",
    " 0 & 1 & 0 \\\\\n",
    " 0 & 0 & 0 \\\\\n",
    "\\end{bmatrix} \\otimes\n",
    "\\begin{bmatrix}\n",
    " 1 & 0  \\\\\n",
    " 0 & 1 \\\\\n",
    "\\end{bmatrix}  \\;\\;\\;\\;\\;\\;\\;\\;  (2.2)\n",
    "\\end{equation}\n",
    "\n",
    "or equivalently\n",
    "\n",
    "\\begin{equation}\n",
    "I_{1x} = I_{1x} \\; \\otimes \\; I_{2e} \\; \\otimes \\; I_{3e}\n",
    "\\;\\;\\;\\;\\;\\;\\;\\;  (2.3)\n",
    "\\end{equation}\n",
    "\n",
    "For this simple three spin system, the full Hilbert space representation is a 12 x 12 array whereas by the individual spin matrices it is significantly smaller. GAMMA wisely stores only the diagonal elements in a diagonal array, thus internally storing only 9 elements rather than 144 for this array. Computations occur along a similar vein, when GAMMA can work with this sub-space representations it will do so preferentially, hence running significantly faster than when working with the expanded form.\n",
    "\n",
    "----\n",
    "\n",
    "1. The question immediately arises as to when a spin operator (or any operator) can be expressed in terms of direct products. This will be true when the operator can be broken up into products of mutually commuting operators, such as the set {$I_{ix}$} for a spin system which all must commute as they act on different spins."
   ]
  },
  {
   "cell_type": "code",
   "execution_count": null,
   "metadata": {},
   "outputs": [],
   "source": []
  }
 ],
 "metadata": {
  "kernelspec": {
   "display_name": "Python 3",
   "language": "python",
   "name": "python3"
  },
  "language_info": {
   "codemirror_mode": {
    "name": "ipython",
    "version": 3
   },
   "file_extension": ".py",
   "mimetype": "text/x-python",
   "name": "python",
   "nbconvert_exporter": "python",
   "pygments_lexer": "ipython3",
   "version": "3.7.3"
  }
 },
 "nbformat": 4,
 "nbformat_minor": 2
}
