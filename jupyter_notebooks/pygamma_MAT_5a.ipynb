{
 "metadata": {
  "name": ""
 },
 "nbformat": 3,
 "nbformat_minor": 0,
 "worksheets": [
  {
   "cells": [
    {
     "cell_type": "heading",
     "level": 2,
     "metadata": {},
     "source": [
      "Magic Angle Hopping Experiment simulated in Pygamma Eric Hughes "
     ]
    },
    {
     "cell_type": "heading",
     "level": 2,
     "metadata": {},
     "source": [
      "Two isolated spin system"
     ]
    },
    {
     "cell_type": "code",
     "collapsed": false,
     "input": [
      "\n",
      "\n",
      "import numpy\n",
      "import scipy\n",
      "import pylab\n",
      "import pygamma\n",
      "from scipy import fftpack\n",
      "\n",
      "from pygamma import spin_system, gen_op, Iz, sigma_eq, Ixypuls_U, Fm, evolve, prop, exponential_multiply\n",
      "\n",
      "from scipy import cos,sin, pi\n",
      "\n",
      "\n",
      "\n",
      "import matplotlib.pyplot as plt\n",
      "from matplotlib.ticker import NullFormatter"
     ],
     "language": "python",
     "metadata": {},
     "outputs": [],
     "prompt_number": 164
    },
    {
     "cell_type": "code",
     "collapsed": false,
     "input": [
      "def calculate_tiling_angles(num_tiling_points ):\n",
      "    \n",
      "    \"\"\"Calulates tiling angles alpha, beta, gamma for MAS\"\"\"\n",
      "    alpha   = scipy.zeros( num_tiling_points )\n",
      "    beta    = scipy.zeros( num_tiling_points )\n",
      "    gamma   = scipy.zeros( num_tiling_points )\n",
      "    \n",
      "    twos_array = numpy.array([1,2,4,8,16,32,64,128,256,512,1024,2048,4096,8192,16384,32768,65536])\n",
      "    threes_array = numpy.array([1,3,9,27,81,243,729,2187,6561,19683,59049])  \n",
      "\n",
      "    num_twos = len(twos_array)-1; print num_twos\n",
      "    num_threes = len(threes_array)-1; print num_threes\n",
      "    \n",
      "    for m in range( num_tiling_points ):\n",
      "    \n",
      "        number = 1*m\n",
      "        alphaa = 0.0\n",
      "        for j in range(num_threes, -1, -1 ):\n",
      "        \n",
      "            num = number/threes_array[j]\n",
      "        \n",
      "            number = number - num*threes_array[j]\n",
      "            alphaa  = alphaa + num / ( 3.0 * threes_array[j] )\n",
      "        \n",
      "        alpha[m] = alphaa * 2.0 * scipy.pi\n",
      "    \n",
      "        beta[m] =  1.0* m * scipy.pi / ( 1.0 * num_tiling_points )\n",
      "    \n",
      "    \n",
      "        gammaa = 0.0\n",
      "        for j in range(num_twos):\n",
      "    \n",
      "           if m & twos_array[j]:\n",
      "            \n",
      "                gammaa = gammaa + 1.0/(1.0*twos_array[j+1])\n",
      "            \n",
      "        gamma[m] = gammaa * 2.0 * scipy.pi\n",
      "    \n",
      "    return( alpha, beta, gamma )\n",
      "\n",
      " "
     ],
     "language": "python",
     "metadata": {},
     "outputs": [],
     "prompt_number": 165
    },
    {
     "cell_type": "heading",
     "level": 3,
     "metadata": {},
     "source": [
      "Calculate Hamiltonian using Hammersley Tiling Points "
     ]
    },
    {
     "cell_type": "markdown",
     "metadata": {},
     "source": [
      "$$ \\omega \\left ( r \\right ) = \\delta_0 + \\delta \\space \\left ( C_1 \\space \\cos  \\space   \\omega_r  +\n",
      "                                                                S_1 \\space \\sin  \\space   \\omega_r  +\n",
      "                                                                C_2 \\space \\cos  \\space 2 \\omega_r  +\n",
      "                                                                S_2 \\space \\sin  \\space 2 \\omega_r \n",
      "\\right )\n",
      "$$"
     ]
    },
    {
     "cell_type": "markdown",
     "metadata": {},
     "source": [
      "where :"
     ]
    },
    {
     "cell_type": "markdown",
     "metadata": {},
     "source": [
      "\n",
      "$$\n",
      "C_1 = \\frac {1}{2} \\sin 2 \\theta  \\space \\sin  \\beta  \\space \\cos  \\beta \\space \\left [ \\space \\eta \\space \\cos ( 2 \\gamma - 3 ) \\space \\cos  \\alpha - \\eta \\space \\sin 2 \\gamma \\space \\sin \\alpha \\space \\right ]\n",
      "$$ "
     ]
    },
    {
     "cell_type": "markdown",
     "metadata": {},
     "source": [
      "\n",
      "$$\n",
      "S_1 = \\frac {1}{2} \\sin 2 \\theta  \\space \\sin  \\beta  \\space \\cos  \\beta \\space \\left [ \\space \\eta \\space \\cos ( 2 \\gamma - 3 ) \\space \\sin  \\alpha - \\eta \\space \\sin 2 \\gamma \\space \\cos \\alpha \\space \\right ]\n",
      "$$\n"
     ]
    },
    {
     "cell_type": "markdown",
     "metadata": {},
     "source": [
      "\n",
      "$$\n",
      "C_2 = \\frac {1} {2} \\space \\sin^2 \\theta \\space  ( \\cos 2 \\alpha \\space \\left [ \\frac {3}{2} \\space \\sin^2 \\beta + \\frac {1}{2} \\eta \\space \\cos 2 \\gamma \\space ( 1 + \\cos^2 \\beta ) \\right ] - \\eta \\space \\cos \\beta \\space \\sin 2 \\gamma \\space \\sin 2 \\alpha )\n",
      "$$"
     ]
    },
    {
     "cell_type": "markdown",
     "metadata": {},
     "source": [
      "$$\n",
      "S_2 = \\frac {1} {2} \\space \\sin^2 \\theta \\space  ( \\sin 2 \\alpha \\space \\left [ \\frac {3}{2} \\space \\sin^2 \\beta + \\frac {1}{2} \\eta \\space \\cos 2 \\gamma \\space ( 1 + \\cos^2 \\beta ) \\right ] - \\eta \\space \\cos \\beta \\space \\sin 2 \\gamma \\space \\cos 2 \\alpha )\n",
      "$$"
     ]
    },
    {
     "cell_type": "code",
     "collapsed": false,
     "input": [
      "\n",
      "def spinning_H_angles():\n",
      "    \n",
      "    omega_r = numpy.arange(0,3)*2.0*pi/3.0\n",
      "    [alpha, beta, gamma ] = calculate_tiling_angles(num_tiling_points )\n",
      "\n",
      "    \n",
      "    theta = 54.73561*scipy.pi/180.0\n",
      "    s_2t = sin(2.0*theta)\n",
      "    s_t2 = sin(theta)*sin(theta)    \n",
      "    s_b = sin(beta)\n",
      "    c_b = cos(beta)\n",
      "    s_b2 = s_b*s_b\n",
      "    c_b2 = c_b*c_b\n",
      "    \n",
      "    c_2g = cos(2.0*gamma)\n",
      "    s_2g = sin(2.0*gamma)\n",
      "    \n",
      "    s_a  = sin(alpha)\n",
      "    c_a  = cos(alpha)\n",
      "    c_2a = cos(2.0*alpha)\n",
      "    s_2a = sin(2.0*alpha)\n",
      "    \n",
      "    C1 = 0.5*s_2t*s_b*(c_b*(eta*c_2g-3)*c_a-eta*s_2g*s_a)\n",
      "    S1 = 0.5*s_2t*s_b*(c_b*(3-eta*c_2g)*s_a-eta*s_2g*c_a)\n",
      "    \n",
      "    C2 = 0.5*s_t2*((1.5*s_b2+0.5*eta*c_2g*(1+c_b2))*c_2a - eta*c_b*s_2g*s_2a)\n",
      "\n",
      "    S2 = 0.5*s_t2*(-1*(1.5*s_b2+0.5*eta*c_2g*(1+c_b2))*s_2a - eta*c_b*s_2g*c_2a)\n",
      "\n",
      "    c_omega_r = cos(omega_r)\n",
      "    s_omega_r = sin(omega_r)\n",
      "    c_2_omega_r = cos(2.0*omega_r)\n",
      "    s_2_omega_r = sin(2.0*omega_r)\n",
      "\n",
      "    H1  =  (delta_0+delta*( numpy.outer(C1,c_omega_r)+numpy.outer(S1,s_omega_r)+numpy.outer(C2,c_2_omega_r)+numpy.outer(S2,s_2_omega_r)))\n",
      "\n",
      "    C1 = 0.5*s_2t*s_b*(c_b*(eta1*c_2g-3)*c_a-eta1*s_2g*s_a)\n",
      "    S1 = 0.5*s_2t*s_b*(c_b*(3-eta1*c_2g)*s_a-eta1*s_2g*c_a)\n",
      "    \n",
      "    C2 = 0.5*s_t2*((1.5*s_b2+0.5*eta1*c_2g*(1+c_b2))*c_2a - eta1*c_b*s_2g*s_2a)\n",
      "\n",
      "    S2 = 0.5*s_t2*(-1*(1.5*s_b2+0.5*eta1*c_2g*(1+c_b2))*s_2a - eta1*c_b*s_2g*c_2a)\n",
      "\n",
      "    H2  =  (delta1_0+delta1*( numpy.outer(C1,c_omega_r)+numpy.outer(S1,s_omega_r)+numpy.outer(C2,c_2_omega_r)+numpy.outer(S2,s_2_omega_r)))\n",
      "    \n",
      "    return( omega_r, H1, H2, s_b)    \n",
      "    \n"
     ],
     "language": "python",
     "metadata": {},
     "outputs": [],
     "prompt_number": 166
    },
    {
     "cell_type": "heading",
     "level": 2,
     "metadata": {},
     "source": [
      "Expermental and Spin System Parameters"
     ]
    },
    {
     "cell_type": "code",
     "collapsed": false,
     "input": [
      "\n",
      "    \n",
      "Larmor_freq = 100.0 # MHz\n",
      "sw1         = 50.0e3   #Hz\n",
      "sw2         = 8e3 # Hz\n",
      "\n",
      "dt2 = dw2 = 1./sw1\n",
      "dt1 = dw1 = 1./sw2\n",
      "    \n",
      "np2 = 512\n",
      "np1 = 128\n",
      "    \n",
      "# Chemical Shift Values\n",
      "\n",
      "delta_0     = 30.0*Larmor_freq;\n",
      "delta       = -2.0* 80.*Larmor_freq/3.0\n",
      "eta         = 0.5\n",
      "\n",
      "delta1_0     = -35.0*Larmor_freq;\n",
      "delta1       = 2.0* 80.*Larmor_freq/3.0\n",
      "eta1         = 0.75\n",
      "\n",
      "\n",
      "lb = 20.0\n",
      "num_tiling_points = 500\n",
      "    \n",
      "# Spin System\n",
      "\n",
      "sys = spin_system(2)\n",
      "sys.spectrometer_frequency(Larmor_freq)\n",
      "sys.Omega(Larmor_freq)\n",
      "\n",
      "\n",
      "Ized     = Iz(sys,0)\n",
      "identity = gen_op(pygamma.Ie(sys,0))\n",
      "\n",
      "sigma_eq = sigma_eq(sys)\n",
      "    \n",
      "sigma_0 =  gen_op()"
     ],
     "language": "python",
     "metadata": {},
     "outputs": [],
     "prompt_number": 167
    },
    {
     "cell_type": "heading",
     "level": 2,
     "metadata": {},
     "source": [
      "Unitary Pulse and Detection Operators"
     ]
    },
    {
     "cell_type": "code",
     "collapsed": false,
     "input": [
      "\n",
      "# Pulse phases and Unitary operators\n",
      "\n",
      "#    phase_down_pos = [ 90.0, 90.0, 90.0, 90.0 ]\n",
      "#    phase_sel0_pos = [ 90.0,  0.0,  0.0, 90.0 ]\n",
      "#    phase_sel1_pos = [ 90.0,  0.0, 90.0,  0.0 ] \n",
      "#    phase_sel2_pos = [ 90.0, 90.0,  0.0,  0.0 ]\n",
      "\n",
      "#    phase_detect_pos = [ 90.0, 90.0, 90.0, 90.0 ]\n",
      "\n",
      "#    phase_down_min = [ 90.0, 90.0, 90.0, 90.0 ]\n",
      "#    phase_sel0_min = [  0.0, 90.0, 90.0,  0.0 ]\n",
      "#    phase_sel1_min = [ 90.0,  0.0, 90.0,  0.0 ]\n",
      "#    phase_sel2_min = [ 90.0, 90.0,  0.0,  0.0 ]\n",
      "\n",
      "#    phase_detect_min = [ 90.0, 90.0, 90.0, 90.0 ]\n",
      "\n",
      "#phase_down_pos = [ 90.0, 90.0, 90.0, 90.0 ]\n",
      "\n",
      "#phase_sel0_pos = [  0.0, 90.0, 90.0, 0.0 ]\n",
      "#phase_sel1_pos = [  0.0, 90.0,  0.0, 90.0 ] \n",
      "#phase_sel2_pos = [  0.0,  0.0, 90.0, 90.0 ]\n",
      "\n",
      "#phase_detect_pos = [ 0.0, 180.0, 180.0, 180.0 ]\n",
      "\n",
      "#phase_down_min = [ 90.0, 90.0, 90.0, 90.0 ]\n",
      "#phase_sel0_min = [ 90.0,  0.0,  0.0, 90.0 ]\n",
      "#phase_sel1_min = [  0.0, 90.0,  0.0, 90.0 ]\n",
      "#phase_sel2_min = [  0.0,  0.0, 90.0, 90.0 ]\n",
      "\n",
      "#phase_detect_min = [ 180.0, 180.0, 180.0, 0.0 ]\n",
      "\n",
      "\n",
      "# Good phases\n",
      "\n",
      "phase_down_pos = [ 90.0, 90.0, 90.0, 90.0 ]\n",
      "\n",
      "phase_sel0_pos = [  270.0, 0.0, 0.0, 270.0 ]\n",
      "phase_sel1_pos = [  270.0, 0.0,  270.0, 0.0 ] \n",
      "phase_sel2_pos = [  270.0,  270.0, 0.0, 0.0 ]\n",
      "\n",
      "phase_detect_pos = [ 0.0, 180.0, 180.0, 180.0 ]\n",
      "\n",
      "phase_down_min = [ 90.0, 90.0, 90.0, 90.0 ]\n",
      "phase_sel0_min = [ 0.0,  270.0,  270.0, 0.0 ]\n",
      "phase_sel1_min = [  270.0, 0.0,  270.0, 0.0 ]\n",
      "phase_sel2_min = [  270.0,  270.0, 0.0, 0.0 ]\n",
      "\n",
      "phase_detect_min = [ 180.0, 180.0, 180.0, 0.0 ]\n",
      "\n",
      "\n",
      "phase_quad = [ 0.0, 0.0, 0.0, 0.0 ]\n",
      "    \n",
      "Up_down_pos = [gen_op()]*4\n",
      "Up_sel0_pos = [gen_op()]*4\n",
      "Up_sel1_pos = [gen_op()]*4\n",
      "Up_sel2_pos = [gen_op()]*4\n",
      "\n",
      "Up_down_min = [gen_op()]*4\n",
      "Up_sel0_min = [gen_op()]*4\n",
      "Up_sel1_min = [gen_op()]*4\n",
      "Up_sel2_min = [gen_op()]*4\n",
      "\n",
      "detect_array_p = [gen_op()]*4\n",
      "detect_array_m = [gen_op()]*4\n",
      "    \n",
      "print \"Hello world\"\n",
      "\n",
      "Up_quad = [pygamma.gen_op()]*4"
     ],
     "language": "python",
     "metadata": {},
     "outputs": [
      {
       "output_type": "stream",
       "stream": "stdout",
       "text": [
        "Hello world\n"
       ]
      }
     ],
     "prompt_number": 168
    },
    {
     "cell_type": "code",
     "collapsed": false,
     "input": [
      "for i in range(4):\n",
      "    \n",
      "        Up_down_pos[i] = Ixypuls_U( sys, phase_down_pos[i], 90.0 )\n",
      "        Up_sel0_pos[i] = Ixypuls_U( sys, phase_sel0_pos[i], 90.0 )\n",
      "        Up_sel1_pos[i] = Ixypuls_U( sys, phase_sel1_pos[i], 90.0 )\n",
      "        Up_sel2_pos[i] = Ixypuls_U( sys, phase_sel2_pos[i], 90.0 )\n",
      "    \n",
      "        Up_down_min[i] = Ixypuls_U( sys, phase_down_min[i], 90.0 )\n",
      "        Up_sel0_min[i] = Ixypuls_U( sys, phase_sel0_min[i], 90.0 )\n",
      "        Up_sel1_min[i] = Ixypuls_U( sys, phase_sel1_min[i], 90.0 )\n",
      "        Up_sel2_min[i] = Ixypuls_U( sys, phase_sel2_min[i], 90.0 )\n",
      "\n",
      "        Up_quad[i] = Ixypuls_U( sys, phase_quad[i], 90.0 )\n",
      "    \n",
      "        detect_array_p[i] = Fm( sys, phase_detect_pos[i] )  \n",
      "        detect_array_m[i] = Fm( sys, phase_detect_min[i] )  \n",
      "        "
     ],
     "language": "python",
     "metadata": {},
     "outputs": [],
     "prompt_number": 169
    },
    {
     "cell_type": "heading",
     "level": 2,
     "metadata": {},
     "source": [
      "Calculation of Data using States-Haberkorn System"
     ]
    },
    {
     "cell_type": "code",
     "collapsed": false,
     "input": [
      "\n",
      "\n",
      "\n",
      "[omega_r, H1, H2, sine_beta] = spinning_H_angles()\n",
      "    \n",
      "fid2dp = [pygamma.row_vector(np2, pygamma.complex(0,0))]*np1    \n",
      "fid2dm = [pygamma.row_vector(np2, pygamma.complex(0,0))]*np1    \n",
      "fid   =  pygamma.row_vector(np2, pygamma.complex(0,0))\n",
      "    \n",
      "for m in range(num_tiling_points):\n",
      "        print m,\n",
      "        iz0a = Iz(sys,0)\n",
      "        iz0b = Iz(sys,1)\n",
      "        iz0a *= H1[m][0]\n",
      "        iz0b *= H2[m][0]\n",
      "        iz0 = iz0a+iz0b\n",
      "        \n",
      "        iz1a = Iz(sys,0)\n",
      "        iz1b = Iz(sys,1)\n",
      "        iz1a *= H1[m][1]\n",
      "        iz1b *= H2[m][1]\n",
      "        iz1 = iz1a+iz1b        \n",
      "\n",
      "        iz2a = Iz(sys,0)\n",
      "        iz2b = Iz(sys,1)\n",
      "        iz2a *= H1[m][2]\n",
      "        iz2b *= H2[m][2]\n",
      "        iz2 = iz2a+iz2b         \n",
      "\n",
      "\n",
      "        \n",
      "        for t1 in range(np1):\n",
      "            u_H0 = prop(gen_op(iz0), dt1*t1)\n",
      "            u_H1 = prop(gen_op(iz1), dt1*t1)\n",
      "            u_H2 = prop(gen_op(iz2), dt1*t1)\n",
      "\n",
      "            for k in range(4):\n",
      "            \n",
      "                sigma_p = pygamma.sigma_eq(sys)\n",
      "                \n",
      "                sigma_p = evolve( sigma_p, Up_down_pos[k] ) # first pulse\n",
      "\n",
      "                sigma_p = evolve( sigma_p, u_H0 )            # first evolution period\n",
      "                \n",
      "                sigma_p = evolve( sigma_p, Up_sel0_pos[k])  # first storage pulse\n",
      "                \n",
      "                for ii in range(4):\n",
      "                    for jj in range(4):\n",
      "                        if ii != jj:\n",
      "                            sigma_p.put( pygamma.complex(0,0), ii,jj ) \n",
      "                            \n",
      "                \n",
      "#                sigma_p.put( pygamma.complex(0,0), 0, 1 )   # purge xy magnetization\n",
      "#                sigma_p.put( pygamma.complex(0,0), 1, 0 )\n",
      "\n",
      "                sigma_p = evolve( sigma_p, Up_down_pos[k] ) # second pulse\n",
      "\n",
      "                sigma_p = evolve( sigma_p, u_H1 )            # second evolution period\n",
      "                \n",
      "                sigma_p = evolve( sigma_p, Up_sel1_pos[k])  # second storage pulse\n",
      "                \n",
      "                for ii in range(4):\n",
      "                    for jj in range(4):\n",
      "                        if ii != jj:\n",
      "                            sigma_p.put( pygamma.complex(0,0), ii,jj ) \n",
      "                            \n",
      "                sigma_p = evolve( sigma_p, Up_down_pos[k] ) # third pulse\n",
      "\n",
      "                sigma_p = evolve( sigma_p, u_H2 )            # third evolution period\n",
      "                \n",
      "                sigma_p = evolve( sigma_p, Up_sel2_pos[k])  # third storage pulse\n",
      "                \n",
      "                for ii in range(4):\n",
      "                    for jj in range(4):\n",
      "                        if ii != jj:\n",
      "                            sigma_p.put( pygamma.complex(0,0), ii,jj ) \n",
      "                            \n",
      "                sigma_p = evolve( sigma_p, Up_down_pos[k] )\n",
      "                             \n",
      "                pygamma.acquire(gen_op(detect_array_p[k]), sigma_p, gen_op(iz0),   dt2, np2, fid)\n",
      "                \n",
      "                fid2dp[t1] = fid2dp[t1]+fid*sine_beta[m]\n",
      "\n",
      "                ####\n",
      "                # Acquire -ve data\n",
      "                ###\n",
      "                \n",
      "                sigma_m = pygamma.sigma_eq(sys)\n",
      "                \n",
      "                sigma_m = evolve( sigma_m, Up_down_min[k] ) # first pulse\n",
      "\n",
      "                sigma_m = evolve( sigma_m, u_H0 )            # first evolution period\n",
      "                \n",
      "                sigma_m = evolve( sigma_m, Up_sel0_min[k])  # first storage pulse\n",
      "                \n",
      "                for ii in range(4):\n",
      "                    for jj in range(4):\n",
      "                        if ii != jj:\n",
      "                            sigma_m.put( pygamma.complex(0,0), ii,jj ) \n",
      "                            \n",
      "                sigma_m = evolve( sigma_m, Up_down_min[k] ) # second pulse\n",
      "\n",
      "                sigma_m = evolve( sigma_m, u_H1 )            # second evolution period\n",
      "                \n",
      "                sigma_m = evolve( sigma_m, Up_sel1_min[k])  # second storage pulse\n",
      "                \n",
      "                for ii in range(4):\n",
      "                    for jj in range(4):\n",
      "                        if ii != jj:\n",
      "                            sigma_m.put( pygamma.complex(0,0), ii,jj ) \n",
      "                            \n",
      "                sigma_m = evolve( sigma_m, Up_down_min[k] ) # third pulse\n",
      "\n",
      "                sigma_m = evolve( sigma_m, u_H2 )            # third evolution period\n",
      "                \n",
      "                sigma_m = evolve( sigma_m, Up_sel2_min[k])  # third storage pulse\n",
      "                \n",
      "                for ii in range(4):\n",
      "                    for jj in range(4):\n",
      "                        if ii != jj:\n",
      "                            sigma_m.put( pygamma.complex(0,0), ii,jj ) \n",
      "                            \n",
      "                sigma_m = evolve( sigma_m, Up_down_min[k] )\n",
      "                             \n",
      "                pygamma.acquire(gen_op(detect_array_m[k]), sigma_m, gen_op(iz0),   dt2, np2, fid)\n",
      "                \n",
      "                fid2dm[t1] = fid2dm[t1]+fid*sine_beta[m]\n",
      "\n",
      "        \n"
     ],
     "language": "python",
     "metadata": {},
     "outputs": [
      {
       "output_type": "stream",
       "stream": "stdout",
       "text": [
        "16\n",
        "10\n",
        "0 "
       ]
      },
      {
       "output_type": "stream",
       "stream": "stdout",
       "text": [
        "1 "
       ]
      },
      {
       "output_type": "stream",
       "stream": "stdout",
       "text": [
        "2 "
       ]
      },
      {
       "output_type": "stream",
       "stream": "stdout",
       "text": [
        "3 "
       ]
      },
      {
       "output_type": "stream",
       "stream": "stdout",
       "text": [
        "4 "
       ]
      },
      {
       "output_type": "stream",
       "stream": "stdout",
       "text": [
        "5 "
       ]
      },
      {
       "output_type": "stream",
       "stream": "stdout",
       "text": [
        "6 "
       ]
      },
      {
       "output_type": "stream",
       "stream": "stdout",
       "text": [
        "7 "
       ]
      },
      {
       "output_type": "stream",
       "stream": "stdout",
       "text": [
        "8 "
       ]
      },
      {
       "output_type": "stream",
       "stream": "stdout",
       "text": [
        "9 "
       ]
      },
      {
       "output_type": "stream",
       "stream": "stdout",
       "text": [
        "10 "
       ]
      },
      {
       "output_type": "stream",
       "stream": "stdout",
       "text": [
        "11 "
       ]
      },
      {
       "output_type": "stream",
       "stream": "stdout",
       "text": [
        "12 "
       ]
      },
      {
       "output_type": "stream",
       "stream": "stdout",
       "text": [
        "13 "
       ]
      },
      {
       "output_type": "stream",
       "stream": "stdout",
       "text": [
        "14 "
       ]
      },
      {
       "output_type": "stream",
       "stream": "stdout",
       "text": [
        "15 "
       ]
      },
      {
       "output_type": "stream",
       "stream": "stdout",
       "text": [
        "16 "
       ]
      },
      {
       "output_type": "stream",
       "stream": "stdout",
       "text": [
        "17 "
       ]
      },
      {
       "output_type": "stream",
       "stream": "stdout",
       "text": [
        "18 "
       ]
      },
      {
       "output_type": "stream",
       "stream": "stdout",
       "text": [
        "19 "
       ]
      },
      {
       "output_type": "stream",
       "stream": "stdout",
       "text": [
        "20 "
       ]
      },
      {
       "output_type": "stream",
       "stream": "stdout",
       "text": [
        "21 "
       ]
      },
      {
       "output_type": "stream",
       "stream": "stdout",
       "text": [
        "22 "
       ]
      },
      {
       "output_type": "stream",
       "stream": "stdout",
       "text": [
        "23 "
       ]
      },
      {
       "output_type": "stream",
       "stream": "stdout",
       "text": [
        "24 "
       ]
      },
      {
       "output_type": "stream",
       "stream": "stdout",
       "text": [
        "25 "
       ]
      },
      {
       "output_type": "stream",
       "stream": "stdout",
       "text": [
        "26 "
       ]
      },
      {
       "output_type": "stream",
       "stream": "stdout",
       "text": [
        "27 "
       ]
      },
      {
       "output_type": "stream",
       "stream": "stdout",
       "text": [
        "28 "
       ]
      },
      {
       "output_type": "stream",
       "stream": "stdout",
       "text": [
        "29 "
       ]
      },
      {
       "output_type": "stream",
       "stream": "stdout",
       "text": [
        "30 "
       ]
      },
      {
       "output_type": "stream",
       "stream": "stdout",
       "text": [
        "31 "
       ]
      },
      {
       "output_type": "stream",
       "stream": "stdout",
       "text": [
        "32 "
       ]
      },
      {
       "output_type": "stream",
       "stream": "stdout",
       "text": [
        "33 "
       ]
      },
      {
       "output_type": "stream",
       "stream": "stdout",
       "text": [
        "34 "
       ]
      },
      {
       "output_type": "stream",
       "stream": "stdout",
       "text": [
        "35 "
       ]
      },
      {
       "output_type": "stream",
       "stream": "stdout",
       "text": [
        "36 "
       ]
      },
      {
       "output_type": "stream",
       "stream": "stdout",
       "text": [
        "37 "
       ]
      },
      {
       "output_type": "stream",
       "stream": "stdout",
       "text": [
        "38 "
       ]
      },
      {
       "output_type": "stream",
       "stream": "stdout",
       "text": [
        "39 "
       ]
      },
      {
       "output_type": "stream",
       "stream": "stdout",
       "text": [
        "40 "
       ]
      },
      {
       "output_type": "stream",
       "stream": "stdout",
       "text": [
        "41 "
       ]
      },
      {
       "output_type": "stream",
       "stream": "stdout",
       "text": [
        "42 "
       ]
      },
      {
       "output_type": "stream",
       "stream": "stdout",
       "text": [
        "43 "
       ]
      },
      {
       "output_type": "stream",
       "stream": "stdout",
       "text": [
        "44 "
       ]
      },
      {
       "output_type": "stream",
       "stream": "stdout",
       "text": [
        "45 "
       ]
      },
      {
       "output_type": "stream",
       "stream": "stdout",
       "text": [
        "46 "
       ]
      },
      {
       "output_type": "stream",
       "stream": "stdout",
       "text": [
        "47 "
       ]
      },
      {
       "output_type": "stream",
       "stream": "stdout",
       "text": [
        "48 "
       ]
      },
      {
       "output_type": "stream",
       "stream": "stdout",
       "text": [
        "49 "
       ]
      },
      {
       "output_type": "stream",
       "stream": "stdout",
       "text": [
        "50 "
       ]
      },
      {
       "output_type": "stream",
       "stream": "stdout",
       "text": [
        "51 "
       ]
      },
      {
       "output_type": "stream",
       "stream": "stdout",
       "text": [
        "52 "
       ]
      },
      {
       "output_type": "stream",
       "stream": "stdout",
       "text": [
        "53 "
       ]
      },
      {
       "output_type": "stream",
       "stream": "stdout",
       "text": [
        "54 "
       ]
      },
      {
       "output_type": "stream",
       "stream": "stdout",
       "text": [
        "55 "
       ]
      },
      {
       "output_type": "stream",
       "stream": "stdout",
       "text": [
        "56 "
       ]
      },
      {
       "output_type": "stream",
       "stream": "stdout",
       "text": [
        "57 "
       ]
      },
      {
       "output_type": "stream",
       "stream": "stdout",
       "text": [
        "58 "
       ]
      },
      {
       "output_type": "stream",
       "stream": "stdout",
       "text": [
        "59 "
       ]
      },
      {
       "output_type": "stream",
       "stream": "stdout",
       "text": [
        "60 "
       ]
      },
      {
       "output_type": "stream",
       "stream": "stdout",
       "text": [
        "61 "
       ]
      },
      {
       "output_type": "stream",
       "stream": "stdout",
       "text": [
        "62 "
       ]
      },
      {
       "output_type": "stream",
       "stream": "stdout",
       "text": [
        "63 "
       ]
      },
      {
       "output_type": "stream",
       "stream": "stdout",
       "text": [
        "64 "
       ]
      },
      {
       "output_type": "stream",
       "stream": "stdout",
       "text": [
        "65 "
       ]
      },
      {
       "output_type": "stream",
       "stream": "stdout",
       "text": [
        "66 "
       ]
      },
      {
       "output_type": "stream",
       "stream": "stdout",
       "text": [
        "67 "
       ]
      },
      {
       "output_type": "stream",
       "stream": "stdout",
       "text": [
        "68 "
       ]
      },
      {
       "output_type": "stream",
       "stream": "stdout",
       "text": [
        "69 "
       ]
      },
      {
       "output_type": "stream",
       "stream": "stdout",
       "text": [
        "70 "
       ]
      },
      {
       "output_type": "stream",
       "stream": "stdout",
       "text": [
        "71 "
       ]
      },
      {
       "output_type": "stream",
       "stream": "stdout",
       "text": [
        "72 "
       ]
      },
      {
       "output_type": "stream",
       "stream": "stdout",
       "text": [
        "73 "
       ]
      },
      {
       "output_type": "stream",
       "stream": "stdout",
       "text": [
        "74 "
       ]
      },
      {
       "output_type": "stream",
       "stream": "stdout",
       "text": [
        "75 "
       ]
      },
      {
       "output_type": "stream",
       "stream": "stdout",
       "text": [
        "76 "
       ]
      },
      {
       "output_type": "stream",
       "stream": "stdout",
       "text": [
        "77 "
       ]
      },
      {
       "output_type": "stream",
       "stream": "stdout",
       "text": [
        "78 "
       ]
      },
      {
       "output_type": "stream",
       "stream": "stdout",
       "text": [
        "79 "
       ]
      },
      {
       "output_type": "stream",
       "stream": "stdout",
       "text": [
        "80 "
       ]
      },
      {
       "output_type": "stream",
       "stream": "stdout",
       "text": [
        "81 "
       ]
      },
      {
       "output_type": "stream",
       "stream": "stdout",
       "text": [
        "82 "
       ]
      },
      {
       "output_type": "stream",
       "stream": "stdout",
       "text": [
        "83 "
       ]
      },
      {
       "output_type": "stream",
       "stream": "stdout",
       "text": [
        "84 "
       ]
      },
      {
       "output_type": "stream",
       "stream": "stdout",
       "text": [
        "85 "
       ]
      },
      {
       "output_type": "stream",
       "stream": "stdout",
       "text": [
        "86 "
       ]
      },
      {
       "output_type": "stream",
       "stream": "stdout",
       "text": [
        "87 "
       ]
      },
      {
       "output_type": "stream",
       "stream": "stdout",
       "text": [
        "88 "
       ]
      },
      {
       "output_type": "stream",
       "stream": "stdout",
       "text": [
        "89 "
       ]
      },
      {
       "output_type": "stream",
       "stream": "stdout",
       "text": [
        "90 "
       ]
      },
      {
       "output_type": "stream",
       "stream": "stdout",
       "text": [
        "91 "
       ]
      },
      {
       "output_type": "stream",
       "stream": "stdout",
       "text": [
        "92 "
       ]
      },
      {
       "output_type": "stream",
       "stream": "stdout",
       "text": [
        "93 "
       ]
      },
      {
       "output_type": "stream",
       "stream": "stdout",
       "text": [
        "94 "
       ]
      },
      {
       "output_type": "stream",
       "stream": "stdout",
       "text": [
        "95 "
       ]
      },
      {
       "output_type": "stream",
       "stream": "stdout",
       "text": [
        "96 "
       ]
      },
      {
       "output_type": "stream",
       "stream": "stdout",
       "text": [
        "97 "
       ]
      },
      {
       "output_type": "stream",
       "stream": "stdout",
       "text": [
        "98 "
       ]
      },
      {
       "output_type": "stream",
       "stream": "stdout",
       "text": [
        "99 "
       ]
      },
      {
       "output_type": "stream",
       "stream": "stdout",
       "text": [
        "100 "
       ]
      },
      {
       "output_type": "stream",
       "stream": "stdout",
       "text": [
        "101 "
       ]
      },
      {
       "output_type": "stream",
       "stream": "stdout",
       "text": [
        "102 "
       ]
      },
      {
       "output_type": "stream",
       "stream": "stdout",
       "text": [
        "103 "
       ]
      },
      {
       "output_type": "stream",
       "stream": "stdout",
       "text": [
        "104 "
       ]
      },
      {
       "output_type": "stream",
       "stream": "stdout",
       "text": [
        "105 "
       ]
      },
      {
       "output_type": "stream",
       "stream": "stdout",
       "text": [
        "106 "
       ]
      },
      {
       "output_type": "stream",
       "stream": "stdout",
       "text": [
        "107 "
       ]
      },
      {
       "output_type": "stream",
       "stream": "stdout",
       "text": [
        "108 "
       ]
      },
      {
       "output_type": "stream",
       "stream": "stdout",
       "text": [
        "109 "
       ]
      },
      {
       "output_type": "stream",
       "stream": "stdout",
       "text": [
        "110 "
       ]
      },
      {
       "output_type": "stream",
       "stream": "stdout",
       "text": [
        "111 "
       ]
      },
      {
       "output_type": "stream",
       "stream": "stdout",
       "text": [
        "112 "
       ]
      },
      {
       "output_type": "stream",
       "stream": "stdout",
       "text": [
        "113 "
       ]
      },
      {
       "output_type": "stream",
       "stream": "stdout",
       "text": [
        "114 "
       ]
      },
      {
       "output_type": "stream",
       "stream": "stdout",
       "text": [
        "115 "
       ]
      },
      {
       "output_type": "stream",
       "stream": "stdout",
       "text": [
        "116 "
       ]
      },
      {
       "output_type": "stream",
       "stream": "stdout",
       "text": [
        "117 "
       ]
      },
      {
       "output_type": "stream",
       "stream": "stdout",
       "text": [
        "118 "
       ]
      },
      {
       "output_type": "stream",
       "stream": "stdout",
       "text": [
        "119 "
       ]
      },
      {
       "output_type": "stream",
       "stream": "stdout",
       "text": [
        "120 "
       ]
      },
      {
       "output_type": "stream",
       "stream": "stdout",
       "text": [
        "121 "
       ]
      },
      {
       "output_type": "stream",
       "stream": "stdout",
       "text": [
        "122 "
       ]
      },
      {
       "output_type": "stream",
       "stream": "stdout",
       "text": [
        "123 "
       ]
      },
      {
       "output_type": "stream",
       "stream": "stdout",
       "text": [
        "124 "
       ]
      },
      {
       "output_type": "stream",
       "stream": "stdout",
       "text": [
        "125 "
       ]
      },
      {
       "output_type": "stream",
       "stream": "stdout",
       "text": [
        "126 "
       ]
      },
      {
       "output_type": "stream",
       "stream": "stdout",
       "text": [
        "127 "
       ]
      },
      {
       "output_type": "stream",
       "stream": "stdout",
       "text": [
        "128 "
       ]
      },
      {
       "output_type": "stream",
       "stream": "stdout",
       "text": [
        "129 "
       ]
      },
      {
       "output_type": "stream",
       "stream": "stdout",
       "text": [
        "130 "
       ]
      },
      {
       "output_type": "stream",
       "stream": "stdout",
       "text": [
        "131 "
       ]
      },
      {
       "output_type": "stream",
       "stream": "stdout",
       "text": [
        "132 "
       ]
      },
      {
       "output_type": "stream",
       "stream": "stdout",
       "text": [
        "133 "
       ]
      },
      {
       "output_type": "stream",
       "stream": "stdout",
       "text": [
        "134 "
       ]
      },
      {
       "output_type": "stream",
       "stream": "stdout",
       "text": [
        "135 "
       ]
      },
      {
       "output_type": "stream",
       "stream": "stdout",
       "text": [
        "136 "
       ]
      },
      {
       "output_type": "stream",
       "stream": "stdout",
       "text": [
        "137 "
       ]
      },
      {
       "output_type": "stream",
       "stream": "stdout",
       "text": [
        "138 "
       ]
      },
      {
       "output_type": "stream",
       "stream": "stdout",
       "text": [
        "139 "
       ]
      },
      {
       "output_type": "stream",
       "stream": "stdout",
       "text": [
        "140 "
       ]
      },
      {
       "output_type": "stream",
       "stream": "stdout",
       "text": [
        "141 "
       ]
      },
      {
       "output_type": "stream",
       "stream": "stdout",
       "text": [
        "142 "
       ]
      },
      {
       "output_type": "stream",
       "stream": "stdout",
       "text": [
        "143 "
       ]
      },
      {
       "output_type": "stream",
       "stream": "stdout",
       "text": [
        "144 "
       ]
      },
      {
       "output_type": "stream",
       "stream": "stdout",
       "text": [
        "145 "
       ]
      },
      {
       "output_type": "stream",
       "stream": "stdout",
       "text": [
        "146 "
       ]
      },
      {
       "output_type": "stream",
       "stream": "stdout",
       "text": [
        "147 "
       ]
      },
      {
       "output_type": "stream",
       "stream": "stdout",
       "text": [
        "148 "
       ]
      },
      {
       "output_type": "stream",
       "stream": "stdout",
       "text": [
        "149 "
       ]
      },
      {
       "output_type": "stream",
       "stream": "stdout",
       "text": [
        "150 "
       ]
      },
      {
       "output_type": "stream",
       "stream": "stdout",
       "text": [
        "151 "
       ]
      },
      {
       "output_type": "stream",
       "stream": "stdout",
       "text": [
        "152 "
       ]
      },
      {
       "output_type": "stream",
       "stream": "stdout",
       "text": [
        "153 "
       ]
      },
      {
       "output_type": "stream",
       "stream": "stdout",
       "text": [
        "154 "
       ]
      },
      {
       "output_type": "stream",
       "stream": "stdout",
       "text": [
        "155 "
       ]
      },
      {
       "output_type": "stream",
       "stream": "stdout",
       "text": [
        "156 "
       ]
      },
      {
       "output_type": "stream",
       "stream": "stdout",
       "text": [
        "157 "
       ]
      },
      {
       "output_type": "stream",
       "stream": "stdout",
       "text": [
        "158 "
       ]
      },
      {
       "output_type": "stream",
       "stream": "stdout",
       "text": [
        "159 "
       ]
      },
      {
       "output_type": "stream",
       "stream": "stdout",
       "text": [
        "160 "
       ]
      },
      {
       "output_type": "stream",
       "stream": "stdout",
       "text": [
        "161 "
       ]
      },
      {
       "output_type": "stream",
       "stream": "stdout",
       "text": [
        "162 "
       ]
      },
      {
       "output_type": "stream",
       "stream": "stdout",
       "text": [
        "163 "
       ]
      },
      {
       "output_type": "stream",
       "stream": "stdout",
       "text": [
        "164 "
       ]
      },
      {
       "output_type": "stream",
       "stream": "stdout",
       "text": [
        "165 "
       ]
      },
      {
       "output_type": "stream",
       "stream": "stdout",
       "text": [
        "166 "
       ]
      },
      {
       "output_type": "stream",
       "stream": "stdout",
       "text": [
        "167 "
       ]
      },
      {
       "output_type": "stream",
       "stream": "stdout",
       "text": [
        "168 "
       ]
      },
      {
       "output_type": "stream",
       "stream": "stdout",
       "text": [
        "169 "
       ]
      },
      {
       "output_type": "stream",
       "stream": "stdout",
       "text": [
        "170 "
       ]
      },
      {
       "output_type": "stream",
       "stream": "stdout",
       "text": [
        "171 "
       ]
      },
      {
       "output_type": "stream",
       "stream": "stdout",
       "text": [
        "172 "
       ]
      },
      {
       "output_type": "stream",
       "stream": "stdout",
       "text": [
        "173 "
       ]
      },
      {
       "output_type": "stream",
       "stream": "stdout",
       "text": [
        "174 "
       ]
      },
      {
       "output_type": "stream",
       "stream": "stdout",
       "text": [
        "175 "
       ]
      },
      {
       "output_type": "stream",
       "stream": "stdout",
       "text": [
        "176 "
       ]
      },
      {
       "output_type": "stream",
       "stream": "stdout",
       "text": [
        "177 "
       ]
      },
      {
       "output_type": "stream",
       "stream": "stdout",
       "text": [
        "178 "
       ]
      },
      {
       "output_type": "stream",
       "stream": "stdout",
       "text": [
        "179 "
       ]
      },
      {
       "output_type": "stream",
       "stream": "stdout",
       "text": [
        "180 "
       ]
      },
      {
       "output_type": "stream",
       "stream": "stdout",
       "text": [
        "181 "
       ]
      },
      {
       "output_type": "stream",
       "stream": "stdout",
       "text": [
        "182 "
       ]
      },
      {
       "output_type": "stream",
       "stream": "stdout",
       "text": [
        "183 "
       ]
      },
      {
       "output_type": "stream",
       "stream": "stdout",
       "text": [
        "184 "
       ]
      },
      {
       "output_type": "stream",
       "stream": "stdout",
       "text": [
        "185 "
       ]
      },
      {
       "output_type": "stream",
       "stream": "stdout",
       "text": [
        "186 "
       ]
      },
      {
       "output_type": "stream",
       "stream": "stdout",
       "text": [
        "187 "
       ]
      },
      {
       "output_type": "stream",
       "stream": "stdout",
       "text": [
        "188 "
       ]
      },
      {
       "output_type": "stream",
       "stream": "stdout",
       "text": [
        "189 "
       ]
      },
      {
       "output_type": "stream",
       "stream": "stdout",
       "text": [
        "190 "
       ]
      },
      {
       "output_type": "stream",
       "stream": "stdout",
       "text": [
        "191 "
       ]
      },
      {
       "output_type": "stream",
       "stream": "stdout",
       "text": [
        "192 "
       ]
      },
      {
       "output_type": "stream",
       "stream": "stdout",
       "text": [
        "193 "
       ]
      },
      {
       "output_type": "stream",
       "stream": "stdout",
       "text": [
        "194 "
       ]
      },
      {
       "output_type": "stream",
       "stream": "stdout",
       "text": [
        "195 "
       ]
      },
      {
       "output_type": "stream",
       "stream": "stdout",
       "text": [
        "196 "
       ]
      },
      {
       "output_type": "stream",
       "stream": "stdout",
       "text": [
        "197 "
       ]
      },
      {
       "output_type": "stream",
       "stream": "stdout",
       "text": [
        "198 "
       ]
      },
      {
       "output_type": "stream",
       "stream": "stdout",
       "text": [
        "199 "
       ]
      },
      {
       "output_type": "stream",
       "stream": "stdout",
       "text": [
        "200 "
       ]
      },
      {
       "output_type": "stream",
       "stream": "stdout",
       "text": [
        "201 "
       ]
      },
      {
       "output_type": "stream",
       "stream": "stdout",
       "text": [
        "202 "
       ]
      },
      {
       "output_type": "stream",
       "stream": "stdout",
       "text": [
        "203 "
       ]
      },
      {
       "output_type": "stream",
       "stream": "stdout",
       "text": [
        "204 "
       ]
      },
      {
       "output_type": "stream",
       "stream": "stdout",
       "text": [
        "205 "
       ]
      },
      {
       "output_type": "stream",
       "stream": "stdout",
       "text": [
        "206 "
       ]
      },
      {
       "output_type": "stream",
       "stream": "stdout",
       "text": [
        "207 "
       ]
      },
      {
       "output_type": "stream",
       "stream": "stdout",
       "text": [
        "208 "
       ]
      },
      {
       "output_type": "stream",
       "stream": "stdout",
       "text": [
        "209 "
       ]
      },
      {
       "output_type": "stream",
       "stream": "stdout",
       "text": [
        "210 "
       ]
      },
      {
       "output_type": "stream",
       "stream": "stdout",
       "text": [
        "211 "
       ]
      },
      {
       "output_type": "stream",
       "stream": "stdout",
       "text": [
        "212 "
       ]
      },
      {
       "output_type": "stream",
       "stream": "stdout",
       "text": [
        "213 "
       ]
      },
      {
       "output_type": "stream",
       "stream": "stdout",
       "text": [
        "214 "
       ]
      },
      {
       "output_type": "stream",
       "stream": "stdout",
       "text": [
        "215 "
       ]
      },
      {
       "output_type": "stream",
       "stream": "stdout",
       "text": [
        "216 "
       ]
      },
      {
       "output_type": "stream",
       "stream": "stdout",
       "text": [
        "217 "
       ]
      },
      {
       "output_type": "stream",
       "stream": "stdout",
       "text": [
        "218 "
       ]
      },
      {
       "output_type": "stream",
       "stream": "stdout",
       "text": [
        "219 "
       ]
      },
      {
       "output_type": "stream",
       "stream": "stdout",
       "text": [
        "220 "
       ]
      },
      {
       "output_type": "stream",
       "stream": "stdout",
       "text": [
        "221 "
       ]
      },
      {
       "output_type": "stream",
       "stream": "stdout",
       "text": [
        "222 "
       ]
      },
      {
       "output_type": "stream",
       "stream": "stdout",
       "text": [
        "223 "
       ]
      },
      {
       "output_type": "stream",
       "stream": "stdout",
       "text": [
        "224 "
       ]
      },
      {
       "output_type": "stream",
       "stream": "stdout",
       "text": [
        "225 "
       ]
      },
      {
       "output_type": "stream",
       "stream": "stdout",
       "text": [
        "226 "
       ]
      },
      {
       "output_type": "stream",
       "stream": "stdout",
       "text": [
        "227 "
       ]
      },
      {
       "output_type": "stream",
       "stream": "stdout",
       "text": [
        "228 "
       ]
      },
      {
       "output_type": "stream",
       "stream": "stdout",
       "text": [
        "229 "
       ]
      },
      {
       "output_type": "stream",
       "stream": "stdout",
       "text": [
        "230 "
       ]
      },
      {
       "output_type": "stream",
       "stream": "stdout",
       "text": [
        "231 "
       ]
      },
      {
       "output_type": "stream",
       "stream": "stdout",
       "text": [
        "232 "
       ]
      },
      {
       "output_type": "stream",
       "stream": "stdout",
       "text": [
        "233 "
       ]
      },
      {
       "output_type": "stream",
       "stream": "stdout",
       "text": [
        "234 "
       ]
      },
      {
       "output_type": "stream",
       "stream": "stdout",
       "text": [
        "235 "
       ]
      },
      {
       "output_type": "stream",
       "stream": "stdout",
       "text": [
        "236 "
       ]
      },
      {
       "output_type": "stream",
       "stream": "stdout",
       "text": [
        "237 "
       ]
      },
      {
       "output_type": "stream",
       "stream": "stdout",
       "text": [
        "238 "
       ]
      },
      {
       "output_type": "stream",
       "stream": "stdout",
       "text": [
        "239 "
       ]
      },
      {
       "output_type": "stream",
       "stream": "stdout",
       "text": [
        "240 "
       ]
      },
      {
       "output_type": "stream",
       "stream": "stdout",
       "text": [
        "241 "
       ]
      },
      {
       "output_type": "stream",
       "stream": "stdout",
       "text": [
        "242 "
       ]
      },
      {
       "output_type": "stream",
       "stream": "stdout",
       "text": [
        "243 "
       ]
      },
      {
       "output_type": "stream",
       "stream": "stdout",
       "text": [
        "244 "
       ]
      },
      {
       "output_type": "stream",
       "stream": "stdout",
       "text": [
        "245 "
       ]
      },
      {
       "output_type": "stream",
       "stream": "stdout",
       "text": [
        "246 "
       ]
      },
      {
       "output_type": "stream",
       "stream": "stdout",
       "text": [
        "247 "
       ]
      },
      {
       "output_type": "stream",
       "stream": "stdout",
       "text": [
        "248 "
       ]
      },
      {
       "output_type": "stream",
       "stream": "stdout",
       "text": [
        "249 "
       ]
      },
      {
       "output_type": "stream",
       "stream": "stdout",
       "text": [
        "250 "
       ]
      },
      {
       "output_type": "stream",
       "stream": "stdout",
       "text": [
        "251 "
       ]
      },
      {
       "output_type": "stream",
       "stream": "stdout",
       "text": [
        "252 "
       ]
      },
      {
       "output_type": "stream",
       "stream": "stdout",
       "text": [
        "253 "
       ]
      },
      {
       "output_type": "stream",
       "stream": "stdout",
       "text": [
        "254 "
       ]
      },
      {
       "output_type": "stream",
       "stream": "stdout",
       "text": [
        "255 "
       ]
      },
      {
       "output_type": "stream",
       "stream": "stdout",
       "text": [
        "256 "
       ]
      },
      {
       "output_type": "stream",
       "stream": "stdout",
       "text": [
        "257 "
       ]
      },
      {
       "output_type": "stream",
       "stream": "stdout",
       "text": [
        "258 "
       ]
      },
      {
       "output_type": "stream",
       "stream": "stdout",
       "text": [
        "259 "
       ]
      },
      {
       "output_type": "stream",
       "stream": "stdout",
       "text": [
        "260 "
       ]
      },
      {
       "output_type": "stream",
       "stream": "stdout",
       "text": [
        "261 "
       ]
      },
      {
       "output_type": "stream",
       "stream": "stdout",
       "text": [
        "262 "
       ]
      },
      {
       "output_type": "stream",
       "stream": "stdout",
       "text": [
        "263 "
       ]
      },
      {
       "output_type": "stream",
       "stream": "stdout",
       "text": [
        "264 "
       ]
      },
      {
       "output_type": "stream",
       "stream": "stdout",
       "text": [
        "265 "
       ]
      },
      {
       "output_type": "stream",
       "stream": "stdout",
       "text": [
        "266 "
       ]
      },
      {
       "output_type": "stream",
       "stream": "stdout",
       "text": [
        "267 "
       ]
      },
      {
       "output_type": "stream",
       "stream": "stdout",
       "text": [
        "268 "
       ]
      },
      {
       "output_type": "stream",
       "stream": "stdout",
       "text": [
        "269 "
       ]
      },
      {
       "output_type": "stream",
       "stream": "stdout",
       "text": [
        "270 "
       ]
      },
      {
       "output_type": "stream",
       "stream": "stdout",
       "text": [
        "271 "
       ]
      },
      {
       "output_type": "stream",
       "stream": "stdout",
       "text": [
        "272 "
       ]
      },
      {
       "output_type": "stream",
       "stream": "stdout",
       "text": [
        "273 "
       ]
      },
      {
       "output_type": "stream",
       "stream": "stdout",
       "text": [
        "274 "
       ]
      },
      {
       "output_type": "stream",
       "stream": "stdout",
       "text": [
        "275 "
       ]
      },
      {
       "output_type": "stream",
       "stream": "stdout",
       "text": [
        "276 "
       ]
      },
      {
       "output_type": "stream",
       "stream": "stdout",
       "text": [
        "277 "
       ]
      },
      {
       "output_type": "stream",
       "stream": "stdout",
       "text": [
        "278 "
       ]
      },
      {
       "output_type": "stream",
       "stream": "stdout",
       "text": [
        "279 "
       ]
      },
      {
       "output_type": "stream",
       "stream": "stdout",
       "text": [
        "280 "
       ]
      },
      {
       "output_type": "stream",
       "stream": "stdout",
       "text": [
        "281 "
       ]
      },
      {
       "output_type": "stream",
       "stream": "stdout",
       "text": [
        "282 "
       ]
      },
      {
       "output_type": "stream",
       "stream": "stdout",
       "text": [
        "283 "
       ]
      },
      {
       "output_type": "stream",
       "stream": "stdout",
       "text": [
        "284 "
       ]
      },
      {
       "output_type": "stream",
       "stream": "stdout",
       "text": [
        "285 "
       ]
      },
      {
       "output_type": "stream",
       "stream": "stdout",
       "text": [
        "286 "
       ]
      },
      {
       "output_type": "stream",
       "stream": "stdout",
       "text": [
        "287 "
       ]
      },
      {
       "output_type": "stream",
       "stream": "stdout",
       "text": [
        "288 "
       ]
      },
      {
       "output_type": "stream",
       "stream": "stdout",
       "text": [
        "289 "
       ]
      },
      {
       "output_type": "stream",
       "stream": "stdout",
       "text": [
        "290 "
       ]
      },
      {
       "output_type": "stream",
       "stream": "stdout",
       "text": [
        "291 "
       ]
      },
      {
       "output_type": "stream",
       "stream": "stdout",
       "text": [
        "292 "
       ]
      },
      {
       "output_type": "stream",
       "stream": "stdout",
       "text": [
        "293 "
       ]
      },
      {
       "output_type": "stream",
       "stream": "stdout",
       "text": [
        "294 "
       ]
      },
      {
       "output_type": "stream",
       "stream": "stdout",
       "text": [
        "295 "
       ]
      },
      {
       "output_type": "stream",
       "stream": "stdout",
       "text": [
        "296 "
       ]
      },
      {
       "output_type": "stream",
       "stream": "stdout",
       "text": [
        "297 "
       ]
      },
      {
       "output_type": "stream",
       "stream": "stdout",
       "text": [
        "298 "
       ]
      },
      {
       "output_type": "stream",
       "stream": "stdout",
       "text": [
        "299 "
       ]
      },
      {
       "output_type": "stream",
       "stream": "stdout",
       "text": [
        "300 "
       ]
      },
      {
       "output_type": "stream",
       "stream": "stdout",
       "text": [
        "301 "
       ]
      },
      {
       "output_type": "stream",
       "stream": "stdout",
       "text": [
        "302 "
       ]
      },
      {
       "output_type": "stream",
       "stream": "stdout",
       "text": [
        "303 "
       ]
      },
      {
       "output_type": "stream",
       "stream": "stdout",
       "text": [
        "304 "
       ]
      },
      {
       "output_type": "stream",
       "stream": "stdout",
       "text": [
        "305 "
       ]
      },
      {
       "output_type": "stream",
       "stream": "stdout",
       "text": [
        "306 "
       ]
      },
      {
       "output_type": "stream",
       "stream": "stdout",
       "text": [
        "307 "
       ]
      },
      {
       "output_type": "stream",
       "stream": "stdout",
       "text": [
        "308 "
       ]
      },
      {
       "output_type": "stream",
       "stream": "stdout",
       "text": [
        "309 "
       ]
      },
      {
       "output_type": "stream",
       "stream": "stdout",
       "text": [
        "310 "
       ]
      },
      {
       "output_type": "stream",
       "stream": "stdout",
       "text": [
        "311 "
       ]
      },
      {
       "output_type": "stream",
       "stream": "stdout",
       "text": [
        "312 "
       ]
      },
      {
       "output_type": "stream",
       "stream": "stdout",
       "text": [
        "313 "
       ]
      },
      {
       "output_type": "stream",
       "stream": "stdout",
       "text": [
        "314 "
       ]
      },
      {
       "output_type": "stream",
       "stream": "stdout",
       "text": [
        "315 "
       ]
      },
      {
       "output_type": "stream",
       "stream": "stdout",
       "text": [
        "316 "
       ]
      },
      {
       "output_type": "stream",
       "stream": "stdout",
       "text": [
        "317 "
       ]
      },
      {
       "output_type": "stream",
       "stream": "stdout",
       "text": [
        "318 "
       ]
      },
      {
       "output_type": "stream",
       "stream": "stdout",
       "text": [
        "319 "
       ]
      },
      {
       "output_type": "stream",
       "stream": "stdout",
       "text": [
        "320 "
       ]
      },
      {
       "output_type": "stream",
       "stream": "stdout",
       "text": [
        "321 "
       ]
      },
      {
       "output_type": "stream",
       "stream": "stdout",
       "text": [
        "322 "
       ]
      },
      {
       "output_type": "stream",
       "stream": "stdout",
       "text": [
        "323 "
       ]
      },
      {
       "output_type": "stream",
       "stream": "stdout",
       "text": [
        "324 "
       ]
      },
      {
       "output_type": "stream",
       "stream": "stdout",
       "text": [
        "325 "
       ]
      },
      {
       "output_type": "stream",
       "stream": "stdout",
       "text": [
        "326 "
       ]
      },
      {
       "output_type": "stream",
       "stream": "stdout",
       "text": [
        "327 "
       ]
      },
      {
       "output_type": "stream",
       "stream": "stdout",
       "text": [
        "328 "
       ]
      },
      {
       "output_type": "stream",
       "stream": "stdout",
       "text": [
        "329 "
       ]
      },
      {
       "output_type": "stream",
       "stream": "stdout",
       "text": [
        "330 "
       ]
      },
      {
       "output_type": "stream",
       "stream": "stdout",
       "text": [
        "331 "
       ]
      },
      {
       "output_type": "stream",
       "stream": "stdout",
       "text": [
        "332 "
       ]
      },
      {
       "output_type": "stream",
       "stream": "stdout",
       "text": [
        "333 "
       ]
      },
      {
       "output_type": "stream",
       "stream": "stdout",
       "text": [
        "334 "
       ]
      },
      {
       "output_type": "stream",
       "stream": "stdout",
       "text": [
        "335 "
       ]
      },
      {
       "output_type": "stream",
       "stream": "stdout",
       "text": [
        "336 "
       ]
      },
      {
       "output_type": "stream",
       "stream": "stdout",
       "text": [
        "337 "
       ]
      },
      {
       "output_type": "stream",
       "stream": "stdout",
       "text": [
        "338 "
       ]
      },
      {
       "output_type": "stream",
       "stream": "stdout",
       "text": [
        "339 "
       ]
      },
      {
       "output_type": "stream",
       "stream": "stdout",
       "text": [
        "340 "
       ]
      },
      {
       "output_type": "stream",
       "stream": "stdout",
       "text": [
        "341 "
       ]
      },
      {
       "output_type": "stream",
       "stream": "stdout",
       "text": [
        "342 "
       ]
      },
      {
       "output_type": "stream",
       "stream": "stdout",
       "text": [
        "343 "
       ]
      },
      {
       "output_type": "stream",
       "stream": "stdout",
       "text": [
        "344 "
       ]
      },
      {
       "output_type": "stream",
       "stream": "stdout",
       "text": [
        "345 "
       ]
      },
      {
       "output_type": "stream",
       "stream": "stdout",
       "text": [
        "346 "
       ]
      },
      {
       "output_type": "stream",
       "stream": "stdout",
       "text": [
        "347 "
       ]
      },
      {
       "output_type": "stream",
       "stream": "stdout",
       "text": [
        "348 "
       ]
      },
      {
       "output_type": "stream",
       "stream": "stdout",
       "text": [
        "349 "
       ]
      },
      {
       "output_type": "stream",
       "stream": "stdout",
       "text": [
        "350 "
       ]
      },
      {
       "output_type": "stream",
       "stream": "stdout",
       "text": [
        "351 "
       ]
      },
      {
       "output_type": "stream",
       "stream": "stdout",
       "text": [
        "352 "
       ]
      },
      {
       "output_type": "stream",
       "stream": "stdout",
       "text": [
        "353 "
       ]
      },
      {
       "output_type": "stream",
       "stream": "stdout",
       "text": [
        "354 "
       ]
      },
      {
       "output_type": "stream",
       "stream": "stdout",
       "text": [
        "355 "
       ]
      },
      {
       "output_type": "stream",
       "stream": "stdout",
       "text": [
        "356 "
       ]
      },
      {
       "output_type": "stream",
       "stream": "stdout",
       "text": [
        "357 "
       ]
      },
      {
       "output_type": "stream",
       "stream": "stdout",
       "text": [
        "358 "
       ]
      },
      {
       "output_type": "stream",
       "stream": "stdout",
       "text": [
        "359 "
       ]
      },
      {
       "output_type": "stream",
       "stream": "stdout",
       "text": [
        "360 "
       ]
      },
      {
       "output_type": "stream",
       "stream": "stdout",
       "text": [
        "361 "
       ]
      },
      {
       "output_type": "stream",
       "stream": "stdout",
       "text": [
        "362 "
       ]
      },
      {
       "output_type": "stream",
       "stream": "stdout",
       "text": [
        "363 "
       ]
      },
      {
       "output_type": "stream",
       "stream": "stdout",
       "text": [
        "364 "
       ]
      },
      {
       "output_type": "stream",
       "stream": "stdout",
       "text": [
        "365 "
       ]
      },
      {
       "output_type": "stream",
       "stream": "stdout",
       "text": [
        "366 "
       ]
      },
      {
       "output_type": "stream",
       "stream": "stdout",
       "text": [
        "367 "
       ]
      },
      {
       "output_type": "stream",
       "stream": "stdout",
       "text": [
        "368 "
       ]
      },
      {
       "output_type": "stream",
       "stream": "stdout",
       "text": [
        "369 "
       ]
      },
      {
       "output_type": "stream",
       "stream": "stdout",
       "text": [
        "370 "
       ]
      },
      {
       "output_type": "stream",
       "stream": "stdout",
       "text": [
        "371 "
       ]
      },
      {
       "output_type": "stream",
       "stream": "stdout",
       "text": [
        "372 "
       ]
      },
      {
       "output_type": "stream",
       "stream": "stdout",
       "text": [
        "373 "
       ]
      },
      {
       "output_type": "stream",
       "stream": "stdout",
       "text": [
        "374 "
       ]
      },
      {
       "output_type": "stream",
       "stream": "stdout",
       "text": [
        "375 "
       ]
      },
      {
       "output_type": "stream",
       "stream": "stdout",
       "text": [
        "376 "
       ]
      },
      {
       "output_type": "stream",
       "stream": "stdout",
       "text": [
        "377 "
       ]
      },
      {
       "output_type": "stream",
       "stream": "stdout",
       "text": [
        "378 "
       ]
      },
      {
       "output_type": "stream",
       "stream": "stdout",
       "text": [
        "379 "
       ]
      },
      {
       "output_type": "stream",
       "stream": "stdout",
       "text": [
        "380 "
       ]
      },
      {
       "output_type": "stream",
       "stream": "stdout",
       "text": [
        "381 "
       ]
      },
      {
       "output_type": "stream",
       "stream": "stdout",
       "text": [
        "382 "
       ]
      },
      {
       "output_type": "stream",
       "stream": "stdout",
       "text": [
        "383 "
       ]
      },
      {
       "output_type": "stream",
       "stream": "stdout",
       "text": [
        "384 "
       ]
      },
      {
       "output_type": "stream",
       "stream": "stdout",
       "text": [
        "385 "
       ]
      },
      {
       "output_type": "stream",
       "stream": "stdout",
       "text": [
        "386 "
       ]
      },
      {
       "output_type": "stream",
       "stream": "stdout",
       "text": [
        "387 "
       ]
      },
      {
       "output_type": "stream",
       "stream": "stdout",
       "text": [
        "388 "
       ]
      },
      {
       "output_type": "stream",
       "stream": "stdout",
       "text": [
        "389 "
       ]
      },
      {
       "output_type": "stream",
       "stream": "stdout",
       "text": [
        "390 "
       ]
      },
      {
       "output_type": "stream",
       "stream": "stdout",
       "text": [
        "391 "
       ]
      },
      {
       "output_type": "stream",
       "stream": "stdout",
       "text": [
        "392 "
       ]
      },
      {
       "output_type": "stream",
       "stream": "stdout",
       "text": [
        "393 "
       ]
      },
      {
       "output_type": "stream",
       "stream": "stdout",
       "text": [
        "394 "
       ]
      },
      {
       "output_type": "stream",
       "stream": "stdout",
       "text": [
        "395 "
       ]
      },
      {
       "output_type": "stream",
       "stream": "stdout",
       "text": [
        "396 "
       ]
      },
      {
       "output_type": "stream",
       "stream": "stdout",
       "text": [
        "397 "
       ]
      },
      {
       "output_type": "stream",
       "stream": "stdout",
       "text": [
        "398 "
       ]
      },
      {
       "output_type": "stream",
       "stream": "stdout",
       "text": [
        "399 "
       ]
      },
      {
       "output_type": "stream",
       "stream": "stdout",
       "text": [
        "400 "
       ]
      },
      {
       "output_type": "stream",
       "stream": "stdout",
       "text": [
        "401 "
       ]
      },
      {
       "output_type": "stream",
       "stream": "stdout",
       "text": [
        "402 "
       ]
      },
      {
       "output_type": "stream",
       "stream": "stdout",
       "text": [
        "403 "
       ]
      },
      {
       "output_type": "stream",
       "stream": "stdout",
       "text": [
        "404 "
       ]
      },
      {
       "output_type": "stream",
       "stream": "stdout",
       "text": [
        "405 "
       ]
      },
      {
       "output_type": "stream",
       "stream": "stdout",
       "text": [
        "406 "
       ]
      },
      {
       "output_type": "stream",
       "stream": "stdout",
       "text": [
        "407 "
       ]
      },
      {
       "output_type": "stream",
       "stream": "stdout",
       "text": [
        "408 "
       ]
      },
      {
       "output_type": "stream",
       "stream": "stdout",
       "text": [
        "409 "
       ]
      },
      {
       "output_type": "stream",
       "stream": "stdout",
       "text": [
        "410 "
       ]
      },
      {
       "output_type": "stream",
       "stream": "stdout",
       "text": [
        "411 "
       ]
      },
      {
       "output_type": "stream",
       "stream": "stdout",
       "text": [
        "412 "
       ]
      },
      {
       "output_type": "stream",
       "stream": "stdout",
       "text": [
        "413 "
       ]
      },
      {
       "output_type": "stream",
       "stream": "stdout",
       "text": [
        "414 "
       ]
      },
      {
       "output_type": "stream",
       "stream": "stdout",
       "text": [
        "415 "
       ]
      },
      {
       "output_type": "stream",
       "stream": "stdout",
       "text": [
        "416 "
       ]
      },
      {
       "output_type": "stream",
       "stream": "stdout",
       "text": [
        "417 "
       ]
      },
      {
       "output_type": "stream",
       "stream": "stdout",
       "text": [
        "418 "
       ]
      },
      {
       "output_type": "stream",
       "stream": "stdout",
       "text": [
        "419 "
       ]
      },
      {
       "output_type": "stream",
       "stream": "stdout",
       "text": [
        "420 "
       ]
      },
      {
       "output_type": "stream",
       "stream": "stdout",
       "text": [
        "421 "
       ]
      },
      {
       "output_type": "stream",
       "stream": "stdout",
       "text": [
        "422 "
       ]
      },
      {
       "output_type": "stream",
       "stream": "stdout",
       "text": [
        "423 "
       ]
      },
      {
       "output_type": "stream",
       "stream": "stdout",
       "text": [
        "424 "
       ]
      },
      {
       "output_type": "stream",
       "stream": "stdout",
       "text": [
        "425 "
       ]
      },
      {
       "output_type": "stream",
       "stream": "stdout",
       "text": [
        "426 "
       ]
      },
      {
       "output_type": "stream",
       "stream": "stdout",
       "text": [
        "427 "
       ]
      },
      {
       "output_type": "stream",
       "stream": "stdout",
       "text": [
        "428 "
       ]
      },
      {
       "output_type": "stream",
       "stream": "stdout",
       "text": [
        "429 "
       ]
      },
      {
       "output_type": "stream",
       "stream": "stdout",
       "text": [
        "430 "
       ]
      },
      {
       "output_type": "stream",
       "stream": "stdout",
       "text": [
        "431 "
       ]
      },
      {
       "output_type": "stream",
       "stream": "stdout",
       "text": [
        "432 "
       ]
      },
      {
       "output_type": "stream",
       "stream": "stdout",
       "text": [
        "433 "
       ]
      },
      {
       "output_type": "stream",
       "stream": "stdout",
       "text": [
        "434 "
       ]
      },
      {
       "output_type": "stream",
       "stream": "stdout",
       "text": [
        "435 "
       ]
      },
      {
       "output_type": "stream",
       "stream": "stdout",
       "text": [
        "436 "
       ]
      },
      {
       "output_type": "stream",
       "stream": "stdout",
       "text": [
        "437 "
       ]
      },
      {
       "output_type": "stream",
       "stream": "stdout",
       "text": [
        "438 "
       ]
      },
      {
       "output_type": "stream",
       "stream": "stdout",
       "text": [
        "439 "
       ]
      },
      {
       "output_type": "stream",
       "stream": "stdout",
       "text": [
        "440 "
       ]
      },
      {
       "output_type": "stream",
       "stream": "stdout",
       "text": [
        "441 "
       ]
      },
      {
       "output_type": "stream",
       "stream": "stdout",
       "text": [
        "442 "
       ]
      },
      {
       "output_type": "stream",
       "stream": "stdout",
       "text": [
        "443 "
       ]
      },
      {
       "output_type": "stream",
       "stream": "stdout",
       "text": [
        "444 "
       ]
      },
      {
       "output_type": "stream",
       "stream": "stdout",
       "text": [
        "445 "
       ]
      },
      {
       "output_type": "stream",
       "stream": "stdout",
       "text": [
        "446 "
       ]
      },
      {
       "output_type": "stream",
       "stream": "stdout",
       "text": [
        "447 "
       ]
      },
      {
       "output_type": "stream",
       "stream": "stdout",
       "text": [
        "448 "
       ]
      },
      {
       "output_type": "stream",
       "stream": "stdout",
       "text": [
        "449 "
       ]
      },
      {
       "output_type": "stream",
       "stream": "stdout",
       "text": [
        "450 "
       ]
      },
      {
       "output_type": "stream",
       "stream": "stdout",
       "text": [
        "451 "
       ]
      },
      {
       "output_type": "stream",
       "stream": "stdout",
       "text": [
        "452 "
       ]
      },
      {
       "output_type": "stream",
       "stream": "stdout",
       "text": [
        "453 "
       ]
      },
      {
       "output_type": "stream",
       "stream": "stdout",
       "text": [
        "454 "
       ]
      },
      {
       "output_type": "stream",
       "stream": "stdout",
       "text": [
        "455 "
       ]
      },
      {
       "output_type": "stream",
       "stream": "stdout",
       "text": [
        "456 "
       ]
      },
      {
       "output_type": "stream",
       "stream": "stdout",
       "text": [
        "457 "
       ]
      },
      {
       "output_type": "stream",
       "stream": "stdout",
       "text": [
        "458 "
       ]
      },
      {
       "output_type": "stream",
       "stream": "stdout",
       "text": [
        "459 "
       ]
      },
      {
       "output_type": "stream",
       "stream": "stdout",
       "text": [
        "460 "
       ]
      },
      {
       "output_type": "stream",
       "stream": "stdout",
       "text": [
        "461 "
       ]
      },
      {
       "output_type": "stream",
       "stream": "stdout",
       "text": [
        "462 "
       ]
      },
      {
       "output_type": "stream",
       "stream": "stdout",
       "text": [
        "463 "
       ]
      },
      {
       "output_type": "stream",
       "stream": "stdout",
       "text": [
        "464 "
       ]
      },
      {
       "output_type": "stream",
       "stream": "stdout",
       "text": [
        "465 "
       ]
      },
      {
       "output_type": "stream",
       "stream": "stdout",
       "text": [
        "466 "
       ]
      },
      {
       "output_type": "stream",
       "stream": "stdout",
       "text": [
        "467 "
       ]
      },
      {
       "output_type": "stream",
       "stream": "stdout",
       "text": [
        "468 "
       ]
      },
      {
       "output_type": "stream",
       "stream": "stdout",
       "text": [
        "469 "
       ]
      },
      {
       "output_type": "stream",
       "stream": "stdout",
       "text": [
        "470 "
       ]
      },
      {
       "output_type": "stream",
       "stream": "stdout",
       "text": [
        "471 "
       ]
      },
      {
       "output_type": "stream",
       "stream": "stdout",
       "text": [
        "472 "
       ]
      },
      {
       "output_type": "stream",
       "stream": "stdout",
       "text": [
        "473 "
       ]
      },
      {
       "output_type": "stream",
       "stream": "stdout",
       "text": [
        "474 "
       ]
      },
      {
       "output_type": "stream",
       "stream": "stdout",
       "text": [
        "475 "
       ]
      },
      {
       "output_type": "stream",
       "stream": "stdout",
       "text": [
        "476 "
       ]
      },
      {
       "output_type": "stream",
       "stream": "stdout",
       "text": [
        "477 "
       ]
      },
      {
       "output_type": "stream",
       "stream": "stdout",
       "text": [
        "478 "
       ]
      },
      {
       "output_type": "stream",
       "stream": "stdout",
       "text": [
        "479 "
       ]
      },
      {
       "output_type": "stream",
       "stream": "stdout",
       "text": [
        "480 "
       ]
      },
      {
       "output_type": "stream",
       "stream": "stdout",
       "text": [
        "481 "
       ]
      },
      {
       "output_type": "stream",
       "stream": "stdout",
       "text": [
        "482 "
       ]
      },
      {
       "output_type": "stream",
       "stream": "stdout",
       "text": [
        "483 "
       ]
      },
      {
       "output_type": "stream",
       "stream": "stdout",
       "text": [
        "484 "
       ]
      },
      {
       "output_type": "stream",
       "stream": "stdout",
       "text": [
        "485 "
       ]
      },
      {
       "output_type": "stream",
       "stream": "stdout",
       "text": [
        "486 "
       ]
      },
      {
       "output_type": "stream",
       "stream": "stdout",
       "text": [
        "487 "
       ]
      },
      {
       "output_type": "stream",
       "stream": "stdout",
       "text": [
        "488 "
       ]
      },
      {
       "output_type": "stream",
       "stream": "stdout",
       "text": [
        "489 "
       ]
      },
      {
       "output_type": "stream",
       "stream": "stdout",
       "text": [
        "490 "
       ]
      },
      {
       "output_type": "stream",
       "stream": "stdout",
       "text": [
        "491 "
       ]
      },
      {
       "output_type": "stream",
       "stream": "stdout",
       "text": [
        "492 "
       ]
      },
      {
       "output_type": "stream",
       "stream": "stdout",
       "text": [
        "493 "
       ]
      },
      {
       "output_type": "stream",
       "stream": "stdout",
       "text": [
        "494 "
       ]
      },
      {
       "output_type": "stream",
       "stream": "stdout",
       "text": [
        "495 "
       ]
      },
      {
       "output_type": "stream",
       "stream": "stdout",
       "text": [
        "496 "
       ]
      },
      {
       "output_type": "stream",
       "stream": "stdout",
       "text": [
        "497 "
       ]
      },
      {
       "output_type": "stream",
       "stream": "stdout",
       "text": [
        "498 "
       ]
      },
      {
       "output_type": "stream",
       "stream": "stdout",
       "text": [
        "499\n"
       ]
      }
     ],
     "prompt_number": 170
    },
    {
     "cell_type": "heading",
     "level": 2,
     "metadata": {},
     "source": [
      "FFT in t2 dimension"
     ]
    },
    {
     "cell_type": "code",
     "collapsed": false,
     "input": [
      "for i,fid in enumerate(fid2dp):\n",
      "        exponential_multiply( fid, -50.0)\n",
      "        fid2dp[i] = fid.FFT()\n",
      "        \n",
      "for i,fid in enumerate(fid2dm):\n",
      "        exponential_multiply( fid, -50.0)\n",
      "        fid2dm[i] = fid.FFT()\n",
      "        \n",
      " \n",
      "    "
     ],
     "language": "python",
     "metadata": {},
     "outputs": [],
     "prompt_number": 171
    },
    {
     "cell_type": "code",
     "collapsed": false,
     "input": [
      "plot( fid2dp[1].Real(), 'b')\n",
      "plot( fid2dm[1].Real(), 'r')\n"
     ],
     "language": "python",
     "metadata": {},
     "outputs": [
      {
       "metadata": {},
       "output_type": "pyout",
       "prompt_number": 172,
       "text": [
        "[<matplotlib.lines.Line2D at 0x6a8d990>]"
       ]
      },
      {
       "metadata": {},
       "output_type": "display_data",
       "png": "[encoded data removed]",
       "text": [
        "<matplotlib.figure.Figure at 0x6a8d790>"
       ]
      }
     ],
     "prompt_number": 172
    },
    {
     "cell_type": "heading",
     "level": 2,
     "metadata": {},
     "source": [
      "Combine 2 Data sets before FFT in second dimension"
     ]
    },
    {
     "cell_type": "code",
     "collapsed": false,
     "input": [
      "fid2d_plus = scipy.zeros((np2,np2), dtype = scipy.complex64)\n",
      "    \n",
      "for i in range(np1):\n",
      "        rrr = scipy.array( fid2dp[i].Real() )\n",
      "        iii = scipy.array( fid2dm[i].Real() )\n",
      "        \n",
      "        rrr = rrr - rrr[0:100].mean()\n",
      "        iii = iii - iii[0:100].mean()\n",
      "        \n",
      "        ccc =scipy.array( rrr+1j*iii)\n",
      "        \n",
      "        fid2d_plus[i] += ccc\n",
      "        \n"
     ],
     "language": "python",
     "metadata": {},
     "outputs": [],
     "prompt_number": 173
    },
    {
     "cell_type": "code",
     "collapsed": false,
     "input": [
      "plot( fid2d_plus[1].real, 'r' )\n",
      "plot( fid2d_plus[1].imag, 'b' )"
     ],
     "language": "python",
     "metadata": {},
     "outputs": [
      {
       "metadata": {},
       "output_type": "pyout",
       "prompt_number": 206,
       "text": [
        "[<matplotlib.lines.Line2D at 0x2ade6acf7f50>]"
       ]
      },
      {
       "metadata": {},
       "output_type": "display_data",
       "png": "[encoded data removed]",
       "text": [
        "<matplotlib.figure.Figure at 0x2ade6acf7210>"
       ]
      }
     ],
     "prompt_number": 206
    },
    {
     "cell_type": "code",
     "collapsed": false,
     "input": [
      "imshow( fid2d_plus.real);"
     ],
     "language": "python",
     "metadata": {},
     "outputs": [
      {
       "metadata": {},
       "output_type": "display_data",
       "png": "[encoded data removed]",
       "text": [
        "<matplotlib.figure.Figure at 0x2ade6a0217d0>"
       ]
      }
     ],
     "prompt_number": 207
    },
    {
     "cell_type": "code",
     "collapsed": false,
     "input": [
      "fid2d_plus = fid2d_plus.transpose()"
     ],
     "language": "python",
     "metadata": {},
     "outputs": [],
     "prompt_number": 208
    },
    {
     "cell_type": "code",
     "collapsed": false,
     "input": [
      "t1 = scipy.arange(np2)*dw1\n",
      "#pylab.plot( fid2d_plus[0].real*scipy.exp(-300.0*t1))\n",
      "pylab.plot( fid2d_plus[0].real)"
     ],
     "language": "python",
     "metadata": {},
     "outputs": [
      {
       "metadata": {},
       "output_type": "pyout",
       "prompt_number": 209,
       "text": [
        "[<matplotlib.lines.Line2D at 0x2ade6acfa2d0>]"
       ]
      },
      {
       "metadata": {},
       "output_type": "display_data",
       "png": "[encoded data removed]",
       "text": [
        "<matplotlib.figure.Figure at 0x6a61fd0>"
       ]
      }
     ],
     "prompt_number": 209
    },
    {
     "cell_type": "code",
     "collapsed": false,
     "input": [
      "\n",
      "\n",
      "for i in range(np2 ):\n",
      "    fid2d_plus[i] = fid2d_plus[i]*scipy.exp(-300.0*t1)\n",
      "    \n",
      "fid2d_plus = fid2d_plus.transpose()"
     ],
     "language": "python",
     "metadata": {},
     "outputs": [],
     "prompt_number": 210
    },
    {
     "cell_type": "code",
     "collapsed": false,
     "input": [
      "imshow( (fid2d_plus.real));"
     ],
     "language": "python",
     "metadata": {},
     "outputs": [
      {
       "metadata": {},
       "output_type": "display_data",
       "png": "[encoded data removed]",
       "text": [
        "<matplotlib.figure.Figure at 0x54a8fd0>"
       ]
      }
     ],
     "prompt_number": 211
    },
    {
     "cell_type": "code",
     "collapsed": false,
     "input": [
      "\n",
      "    \n",
      "spec2D = fftpack.fft( fid2d_plus, axis=0)\n",
      "    \n",
      "\n"
     ],
     "language": "python",
     "metadata": {},
     "outputs": [],
     "prompt_number": 212
    },
    {
     "cell_type": "code",
     "collapsed": false,
     "input": [
      "spec2D = spec2D.transpose()\n",
      "for i in range(np2):\n",
      "    spec2D[i] = fftpack.fftshift( spec2D[i] )\n",
      "    \n",
      "spec2D = spec2D.transpose()\n"
     ],
     "language": "python",
     "metadata": {},
     "outputs": [],
     "prompt_number": 213
    },
    {
     "cell_type": "code",
     "collapsed": false,
     "input": [
      "pylab.imshow( (spec2D).real);"
     ],
     "language": "python",
     "metadata": {},
     "outputs": [
      {
       "metadata": {},
       "output_type": "display_data",
       "png": "[encoded data removed]",
       "text": [
        "<matplotlib.figure.Figure at 0x2ade6ace5850>"
       ]
      }
     ],
     "prompt_number": 214
    },
    {
     "cell_type": "code",
     "collapsed": false,
     "input": [
      "plot((spec2D.sum(axis=0)).real )\n",
      "plot((spec2D.sum(axis=1)).real )\n",
      "#plot( (spec2D[:,302]).real )\n",
      "#plot( (spec2D[:,280]).real )"
     ],
     "language": "python",
     "metadata": {},
     "outputs": [
      {
       "metadata": {},
       "output_type": "pyout",
       "prompt_number": 215,
       "text": [
        "[<matplotlib.lines.Line2D at 0x2ade6b2936d0>]"
       ]
      },
      {
       "metadata": {},
       "output_type": "display_data",
       "png": "[encoded data removed]",
       "text": [
        "<matplotlib.figure.Figure at 0x2ade6b293cd0>"
       ]
      }
     ],
     "prompt_number": 215
    },
    {
     "cell_type": "code",
     "collapsed": false,
     "input": [
      "aaa = [1,2,4,5,6]\n"
     ],
     "language": "python",
     "metadata": {},
     "outputs": [],
     "prompt_number": 186
    },
    {
     "cell_type": "code",
     "collapsed": false,
     "input": [
      "spec2D = spec2D.transpose()\n",
      "for i in range(np2):\n",
      "    spec2D[i] = spec2D[i] - (spec2D[i].real)[0:50].mean() \n",
      "    \n",
      "spec2D = spec2D.transpose()"
     ],
     "language": "python",
     "metadata": {},
     "outputs": [],
     "prompt_number": 216
    },
    {
     "cell_type": "code",
     "collapsed": false,
     "input": [
      "imshow(spec2D.real);"
     ],
     "language": "python",
     "metadata": {},
     "outputs": [
      {
       "metadata": {},
       "output_type": "display_data",
       "png": "[encoded data removed]",
       "text": [
        "<matplotlib.figure.Figure at 0x2ade6b2a67d0>"
       ]
      }
     ],
     "prompt_number": 217
    },
    {
     "cell_type": "code",
     "collapsed": false,
     "input": [
      "\n",
      "\n",
      "\n",
      "\n",
      "nullfmt   = NullFormatter()         # no labels\n",
      "\n",
      "# definitions for the axes\n",
      "left, width = 0.1, 0.65\n",
      "bottom, height = 0.1, 0.65\n",
      "bottom_h = left_h = left+width+0.02\n",
      "\n",
      "rect_scatter = [left, bottom, width, height]\n",
      "rect_histx = [left, bottom_h, width, 0.2]\n",
      "rect_histy = [left_h, bottom, 0.2, height]\n",
      "\n",
      "# start with a rectangular Figure\n",
      "plt.figure(1, figsize=(8,8))\n",
      "\n",
      "axScatter = plt.axes(rect_scatter)\n",
      "axHistx = plt.axes(rect_histx)\n",
      "axHisty = plt.axes(rect_histy)\n",
      "\n",
      "# no labels\n",
      "axHistx.xaxis.set_major_formatter(nullfmt)\n",
      "axHisty.yaxis.set_major_formatter(nullfmt)\n",
      "\n",
      "# the scatter plot:\n",
      "axScatter.imshow(spec2D.real)\n",
      "\n",
      "\n",
      "\n",
      "axScatter.set_xlim( (0, np2) )\n",
      "axScatter.set_ylim( (0, np2) )\n",
      "\n",
      "sss = spec2D.real\n",
      "\n",
      "sss = sss/(sss.max()-sss.min())\n",
      "\n",
      "axHistx.plot((sss.sum(axis=0)))\n",
      "axHisty.plot((spec2D.sum(axis=1)).real, range(np2))\n",
      "\n",
      "axHistx.set_xlim( axScatter.get_xlim() )\n",
      "axHisty.set_ylim( axScatter.get_ylim() )\n",
      "\n",
      "plt.show()"
     ],
     "language": "python",
     "metadata": {},
     "outputs": [
      {
       "metadata": {},
       "output_type": "display_data",
       "png": "[encoded data removed]",
       "text": [
        "<matplotlib.figure.Figure at 0x2ade69ccad50>"
       ]
      }
     ],
     "prompt_number": 220
    },
    {
     "cell_type": "code",
     "collapsed": false,
     "input": [
      "print delta_0, delta1_0, delta_0 -   delta1_0"
     ],
     "language": "python",
     "metadata": {},
     "outputs": [
      {
       "output_type": "stream",
       "stream": "stdout",
       "text": [
        "3000.0 -3500.0 6500.0\n"
       ]
      }
     ],
     "prompt_number": 190
    },
    {
     "cell_type": "code",
     "collapsed": false,
     "input": [],
     "language": "python",
     "metadata": {},
     "outputs": []
    }
   ],
   "metadata": {}
  }
 ]
}