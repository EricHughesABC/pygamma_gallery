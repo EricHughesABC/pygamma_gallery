{
 "cells": [
  {
   "cell_type": "code",
   "execution_count": 1,
   "metadata": {},
   "outputs": [],
   "source": [
    "import pygamma as pg"
   ]
  },
  {
   "cell_type": "markdown",
   "metadata": {},
   "source": [
    "\n",
    "### 4.6.1 AddIsotope \n"
   ]
  },
  {
   "cell_type": "raw",
   "metadata": {},
   "source": [
    ".. code-block :: c\n",
    "\n",
    "  #include <gamma.h> \n",
    "  int main(){\n",
    "    Isotope Iele(\"e-\");               // Get e- (use some of its values)\n",
    "    int hs = 6;                       // For I=5/2 \n",
    "    string symb = \"Ce3+\";             // Isotope Symbol \n",
    "    string name = \"Cerium\";           // Isotope Name \n",
    "    string ele = \"Ce\";                // Element Designation \n",
    "    int atnum = 58;                   // Atomic Number \n",
    "    int mass = 140;                   // Atomic Mass \n",
    "    double weight = Iele.weight();              // Atomic weight (g/m)\n",
    "    double recept = Iele.receptivity();         // Receptivity \n",
    "    double relfreq = Iele.relative_frequency(); // Relative frequency\n",
    "    bool elect = true;                          // Its an electron \n",
    "    IsotopeData ID(hs,symb,name,ele,atnum,mass,weight,recept,relfreq,elect);\n",
    "\t\n",
    "    Isotope::AddIsotope(ID);                    // Add isotope to GAMMA \n",
    "    Isotope I(\"Ce3+\");                          // Here is a Ce3+ isotope \n",
    "    cout << \"\\n\\t\\tNew Electron Spin:\\n\" << I;\n",
    "  }"
   ]
  },
  {
   "cell_type": "code",
   "execution_count": 2,
   "metadata": {},
   "outputs": [
    {
     "name": "stdout",
     "output_type": "stream",
     "text": [
      "New Electron Spin:\n",
      "\n",
      " Isotope       Ce3+\n",
      " Name         Cerium\n",
      " Element      Ce\n",
      " Number       50\n",
      " Mass         140 amu\n",
      " Weight       0.0000 g/m\n",
      " Spin         2.5 (hbar)\n",
      " Type         electron\n",
      " Gamma    -1760.8592 10^-8/T-s\n",
      "\n",
      "\n"
     ]
    }
   ],
   "source": [
    "Iele = pg.Isotope(\"e-\")                  # Get e- (use some of its values)\n",
    "hs = 6                                   # For I=5/2 \n",
    "symb = \"Ce3+\"                            # Isotope Symbol \n",
    "name = \"Cerium\"                          # Isotope Name\n",
    "ele  = \"Ce\"                              # Element Designation \n",
    "atnum = 50                               # Atomic Number \n",
    "mass  = 140                              # Atomic Mass\n",
    "weight = Iele.weight()                   # Atomic weight (g/m)\n",
    "recept = Iele.receptivity()              # Receptivity\n",
    "relfreq = Iele.relative_frequency()      # Relative frequency\n",
    "elect = True                             # Its an electron \n",
    "\n",
    "ID = pg.IsotopeData( hs,symb,name,ele,atnum,mass,weight,recept,relfreq,elect)\n",
    "\n",
    "pg.Isotope.AddIsotope(ID)                # Add isotope to GAMMA\n",
    "I=pg.Isotope(\"Ce3+\")                     # Here is a Ce3+ isotope\n",
    "\n",
    "print(\"New Electron Spin:\\n\\n\",I)"
   ]
  },
  {
   "cell_type": "markdown",
   "metadata": {
    "collapsed": true
   },
   "source": [
    "### 5.3.1 SinglePar "
   ]
  },
  {
   "cell_type": "raw",
   "metadata": {
    "collapsed": true
   },
   "source": [
    "  #include <gamma.h> \n",
    "  int main(){\n",
    "    SinglePar A;                                // Define all NULL parameter called A. \n",
    "\tSinglePar p1(\"p1\", 0, \"1,\", \"one\");         // Create an integer parameter p1 \n",
    "\tSinglePar p2(\"p2\", 1, \"1.0\", \"one double\"); // A double parameters \n",
    "\tSinglePar p3(\"p3\", 2, \"one\", \"one string\"); // A string parameter \n",
    "\tSinglePar p4(p3);                           // Identical to p3 \n",
    "\tSinglePar p1i(\"p1\", 1, \"one\");              // Same as earlier p1 \n",
    "\tSinglePar p2d(\"p2\", 1.0, \"one double\");     // Same as earlier p2 \n",
    "\tSinglePar p3d(\"p3\", \"one\", \"one string\");    // Same as earlier p3 \n",
    "  }"
   ]
  },
  {
   "cell_type": "code",
   "execution_count": 13,
   "metadata": {},
   "outputs": [],
   "source": [
    "A = pg.SinglePar()                                # Define all NULL parameter called A. \n",
    "p1 = pg.SinglePar(\"p1\", 0, \"1,\", \"one\")           # Create an integer parameter p1\n",
    "p2 = pg.SinglePar(\"p2\", 1, \"1.0\", \"one double\")   # A double parameters \n",
    "p3 = pg.SinglePar(\"p3\", 2, \"one\", \"one string\")   # A string parameter \n",
    "p4 = pg.SinglePar(p3)                             # Identical to p3 \n",
    "p1i = pg.SinglePar(\"p1\", 1, \"one\")                # Same as earlier p1 \n",
    "p2d = pg.SinglePar(\"p2\", 1.0, \"one double\");      # Same as earlier p2 \n",
    "p3d = pg.SinglePar(\"p3\", \"one\", \"one string\");    # Same as earlier p3"
   ]
  },
  {
   "cell_type": "markdown",
   "metadata": {},
   "source": [
    "### 5.3.2 = "
   ]
  },
  {
   "cell_type": "raw",
   "metadata": {},
   "source": [
    "  #include <gamma.h> \n",
    "  int main(){\n",
    "    SinglePar A;         // Define all NULL parameter called A.\n",
    "\tSinglePar A2BX(\"4\"); // Define parameter A2BX containing four spins. \n",
    "    A = A2BX;            // Set parameter A to be equal to current Four. \n",
    "  }"
   ]
  },
  {
   "cell_type": "code",
   "execution_count": 16,
   "metadata": {},
   "outputs": [],
   "source": [
    "A = pg.SinglePar()       # Define all NULL parameter called A.\n",
    "A2BX = pg.SinglePar(\"4\")   # Define parameter A2BX containing four spins.\n",
    "A = A2BX                 # Set parameter A to be equal to current Four. "
   ]
  },
  {
   "cell_type": "code",
   "execution_count": null,
   "metadata": {},
   "outputs": [],
   "source": []
  }
 ],
 "metadata": {
  "kernelspec": {
   "display_name": "Python 3",
   "language": "python",
   "name": "python3"
  },
  "language_info": {
   "codemirror_mode": {
    "name": "ipython",
    "version": 3
   },
   "file_extension": ".py",
   "mimetype": "text/x-python",
   "name": "python",
   "nbconvert_exporter": "python",
   "pygments_lexer": "ipython3",
   "version": "3.7.3"
  }
 },
 "nbformat": 4,
 "nbformat_minor": 2
}
