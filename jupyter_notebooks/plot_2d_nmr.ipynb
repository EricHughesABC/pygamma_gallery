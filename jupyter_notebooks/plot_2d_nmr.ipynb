{
 "cells": [
  {
   "cell_type": "code",
   "execution_count": 22,
   "metadata": {},
   "outputs": [],
   "source": [
    "import pickle\n",
    "import numpy as np\n",
    "import matplotlib.pyplot as plt\n",
    "from matplotlib.ticker import NullFormatter\n",
    "import nmrglue\n"
   ]
  },
  {
   "cell_type": "code",
   "execution_count": 2,
   "metadata": {},
   "outputs": [],
   "source": [
    "%matplotlib inline"
   ]
  },
  {
   "cell_type": "code",
   "execution_count": 3,
   "metadata": {},
   "outputs": [],
   "source": [
    "spec2D = pickle.load?"
   ]
  },
  {
   "cell_type": "code",
   "execution_count": 5,
   "metadata": {},
   "outputs": [],
   "source": [
    "fp = open(\"cosy_pinfo_pickle\", \"rb\" )\n",
    "pinfo = pickle.load( fp)\n",
    "fp.close()"
   ]
  },
  {
   "cell_type": "code",
   "execution_count": 7,
   "metadata": {},
   "outputs": [],
   "source": [
    "fp = open(\"cosy_info_pickle\", \"rb\" )\n",
    "info = pickle.load( fp)\n",
    "fp.close()"
   ]
  },
  {
   "cell_type": "code",
   "execution_count": 18,
   "metadata": {},
   "outputs": [
    {
     "data": {
      "text/plain": [
       "{'procs': {'OFFSET': 1.25, 'SW_p': 1000.0, 'SF': 400.0},\n",
       " 'proc2s': {'OFFSET': 1.25, 'SW_p': 1000.0, 'SF': 400.0}}"
      ]
     },
     "execution_count": 18,
     "metadata": {},
     "output_type": "execute_result"
    }
   ],
   "source": [
    "pinfo"
   ]
  },
  {
   "cell_type": "code",
   "execution_count": 10,
   "metadata": {},
   "outputs": [],
   "source": [
    "\n",
    "fp = open(\"cosy_abs_pickle\", \"rb\" )\n",
    "nmr_spec_2d = pickle.load( fp)\n",
    "fp.close()"
   ]
  },
  {
   "cell_type": "code",
   "execution_count": 12,
   "metadata": {},
   "outputs": [
    {
     "data": {
      "text/plain": [
       "(1024, 1024)"
      ]
     },
     "execution_count": 12,
     "metadata": {},
     "output_type": "execute_result"
    }
   ],
   "source": [
    "nmr_spec_2d.shape"
   ]
  },
  {
   "cell_type": "code",
   "execution_count": 16,
   "metadata": {},
   "outputs": [],
   "source": [
    "class TwoD_NMR_MAT_plot:\n",
    "    \n",
    "    def __init__(self, expt, pinfo, info, dimensions_ppm=[], axis_units=\"ppm\"):\n",
    "        \n",
    "#        print exp.shape\n",
    "        \n",
    "        self.expt = expt\n",
    "        self.pinfo = pinfo\n",
    "        self.info  = info\n",
    "        \n",
    "        self.rr,self.cc = expt.shape\n",
    "        self.X = np.zeros(expt.shape)\n",
    "        self.Y = np.zeros(expt.shape)\n",
    "        \n",
    "        r1=0\n",
    "        r2=self.rr\n",
    "\n",
    "        c1=0\n",
    "        c2=self.cc\n",
    "        \n",
    "#        print r2,c2\n",
    "        \n",
    "        self.create_axes(  pinfo, info, self.rr, self.cc, dimensions_ppm )\n",
    "          \n",
    "        self.create_plot_layout(self.dimensions_index)\n",
    "        \n",
    "        self.plot_plots()\n",
    "        \n",
    "\n",
    "        \n",
    "    def create_axes( self, pinfo, info, rr,cc, dimensions_ppm):\n",
    "                \n",
    "        self.f1_offset_p = pinfo['procs' ]['OFFSET']\n",
    "        self.f1_sw_hz     = pinfo['procs' ]['SW_p']\n",
    "        self.f1_omega    = pinfo['procs' ]['SF']\n",
    "        self.f1_sw_ppm   = self.f1_sw_hz/self.f1_omega\n",
    "        \n",
    "        self.f2_offset_p = pinfo['proc2s' ]['OFFSET']\n",
    "        self.f2_sw_hz     = pinfo['proc2s' ]['SW_p']\n",
    "        self.f2_omega    = pinfo['proc2s' ]['SF']\n",
    "        self.f2_sw_ppm   = self.f2_sw_hz/self.f2_omega\n",
    "#        print self.f1_sw_ppm\n",
    "        \n",
    "        self.f1 = np.linspace(self.f1_offset_p, self.f1_offset_p-self.f1_sw_ppm,  self.rr)\n",
    "        self.f2 = np.linspace(self.f2_offset_p, self.f2_offset_p-self.f2_sw_ppm,  self.cc)\n",
    "        \n",
    "        self.dw_f1_ppm = self.f1[1]-self.f1[0]\n",
    "        self.dw_f2_ppm = self.f2[1]-self.f2[0]\n",
    "        \n",
    "        for r in range(self.rr):\n",
    "    \n",
    "            for c in range( self.cc):\n",
    "        \n",
    "                self.Y[r,c] = self.f1[r]\n",
    "                self.X[r,c] = self.f2[c] \n",
    "                \n",
    "#        print dimensions_ppm       \n",
    "        if dimensions_ppm == []:\n",
    "            self.dimensions_index = np.array([0,self.rr-1,0,self.cc-1])\n",
    "        else:\n",
    "            r1 = int( (dimensions_ppm[1]-self.f1_offset_p)/self.dw_f1_ppm)\n",
    "            r2 = int( (dimensions_ppm[0]-self.f1_offset_p)/self.dw_f1_ppm)\n",
    "            c1 = int( (dimensions_ppm[2]-self.f2_offset_p)/self.dw_f2_ppm)\n",
    "            c2 = int( (dimensions_ppm[3]-self.f2_offset_p)/self.dw_f2_ppm)\n",
    "            \n",
    "            self.dimensions_index = np.array([r1,r2,c1,c2 ])\n",
    "            \n",
    "#        print \"self.dimensions_index\", self.dimensions_index\n",
    "            \n",
    "        self.Z1 = self.expt[self.dimensions_index[0]:self.dimensions_index[1],self.dimensions_index[2]:self.dimensions_index[3]]\n",
    "        self.X1 =   self.X[self.dimensions_index[0]:self.dimensions_index[1],self.dimensions_index[2]:self.dimensions_index[3]]\n",
    "        self.Y1 =   self.Y[self.dimensions_index[0]:self.dimensions_index[1],self.dimensions_index[2]:self.dimensions_index[3]]\n",
    "        \n",
    "        \n",
    "    def create_plot_layout( self, dimensions_index):\n",
    "        \n",
    "#        print \"dimensions_index\",dimensions_index\n",
    "        \n",
    "        nullfmt   = NullFormatter()         # no labels\n",
    "\n",
    "        # definitions for the axes\n",
    "        left, width = 0.1, 0.65\n",
    "        bottom, height = 0.1, 0.65\n",
    "        bottom_h = left_h = left+width+0.02\n",
    "\n",
    "        rect_scatter = [left, bottom, width, height]\n",
    "        rect_histx = [left, bottom_h, width, 0.2]\n",
    "        rect_histy = [left_h, bottom, 0.2, height]\n",
    "\n",
    "        # start with a rectangular Figure\n",
    "        plt.figure(2, figsize=(6,6))\n",
    "\n",
    "        self.axScatter = plt.axes(rect_scatter)\n",
    "        self.axHistx = plt.axes(rect_histx)\n",
    "        self.axHisty = plt.axes(rect_histy)\n",
    "\n",
    "# no labels\n",
    "        self.axHistx.xaxis.set_major_formatter(nullfmt)\n",
    "        self.axHisty.yaxis.set_major_formatter(nullfmt)\n",
    "        \n",
    "        self.axScatter.tick_params(axis='x', labelsize=16)\n",
    "        self.axScatter.tick_params(axis='y', labelsize=16)\n",
    "        self.axScatter.set_xlabel('${^1}$H [ppm]',fontsize=16)\n",
    "        #ax.set_xlim(-60, 60)\n",
    "        self.axScatter.set_ylabel('${^1}$H [ppm]', fontsize=16)\n",
    "        \n",
    "        self.axHistx.axis('off')\n",
    "        self.axHisty.axis('off')\n",
    "\n",
    "        f1_start = self.f1[dimensions_index[0]]\n",
    "        f1_end   = self.f1[dimensions_index[1]]\n",
    "\n",
    "        f2_start = self.f2[dimensions_index[2]]\n",
    "        f2_end   = self.f2[dimensions_index[3]]\n",
    "\n",
    "        self.axScatter.set_ylim( (f1_start, f1_end) )\n",
    "        self.axScatter.set_xlim( (f2_start, f2_end) )\n",
    "        \n",
    "        \n",
    "\n",
    "    def plot_plots(self):\n",
    "        \n",
    "        # the scatter plot:\n",
    "        cl = np.linspace(self.Z1.max()*0.01, self.Z1.max()*1.1,10)\n",
    "#        print \"Z1.shape\",self.Z1.shape\n",
    "        \n",
    "\n",
    "        sum_f1 = self.Z1.sum(axis=0)\n",
    "#        print \"len(sum_f1)\",len(sum_f1)\n",
    "        sum_f2 = self.Z1.sum(axis=1)\n",
    "#        print \"len(sum_f2)\",len(sum_f2)\n",
    "\n",
    "        cset = self.axScatter.contour(self.X1, self.Y1, self.Z1,  cl,  colors='red')\n",
    "        #\n",
    "        self.axHistx.plot(sum_f1, 'r-')\n",
    "        self.axHisty.plot(sum_f2,range(len(sum_f2)),'r')\n",
    "\n",
    "\n",
    "        self.axHistx.set_xlim( (0,len(sum_f1)-1) )\n",
    "        self.axHisty.set_ylim( (0,len(sum_f2)-1) )        \n",
    "        \n"
   ]
  },
  {
   "cell_type": "code",
   "execution_count": 17,
   "metadata": {},
   "outputs": [
    {
     "data": {
      "image/png": "[encoded data removed]",
      "text/plain": [
       "<Figure size 432x432 with 3 Axes>"
      ]
     },
     "metadata": {
      "needs_background": "light"
     },
     "output_type": "display_data"
    }
   ],
   "source": [
    "ppplot = TwoD_NMR_MAT_plot(nmr_spec_2d, pinfo, info, [0.05,0.55, 0.55,0.05] )"
   ]
  },
  {
   "cell_type": "code",
   "execution_count": 20,
   "metadata": {},
   "outputs": [
    {
     "data": {
      "text/plain": [
       "array([0.55107527, 0.54863148, 0.54618768, 0.54374389, 0.5413001 ,\n",
       "       0.5388563 , 0.53641251, 0.53396872, 0.53152493, 0.52908113,\n",
       "       0.52663734, 0.52419355, 0.52174976, 0.51930596, 0.51686217,\n",
       "       0.51441838, 0.51197458, 0.50953079, 0.507087  , 0.50464321,\n",
       "       0.50219941, 0.49975562, 0.49731183, 0.49486804, 0.49242424,\n",
       "       0.48998045, 0.48753666, 0.48509286, 0.48264907, 0.48020528,\n",
       "       0.47776149, 0.47531769, 0.4728739 , 0.47043011, 0.46798631,\n",
       "       0.46554252, 0.46309873, 0.46065494, 0.45821114, 0.45576735,\n",
       "       0.45332356, 0.45087977, 0.44843597, 0.44599218, 0.44354839,\n",
       "       0.44110459, 0.4386608 , 0.43621701, 0.43377322, 0.43132942,\n",
       "       0.42888563, 0.42644184, 0.42399804, 0.42155425, 0.41911046,\n",
       "       0.41666667, 0.41422287, 0.41177908, 0.40933529, 0.4068915 ,\n",
       "       0.4044477 , 0.40200391, 0.39956012, 0.39711632, 0.39467253,\n",
       "       0.39222874, 0.38978495, 0.38734115, 0.38489736, 0.38245357,\n",
       "       0.38000978, 0.37756598, 0.37512219, 0.3726784 , 0.3702346 ,\n",
       "       0.36779081, 0.36534702, 0.36290323, 0.36045943, 0.35801564,\n",
       "       0.35557185, 0.35312805, 0.35068426, 0.34824047, 0.34579668,\n",
       "       0.34335288, 0.34090909, 0.3384653 , 0.33602151, 0.33357771,\n",
       "       0.33113392, 0.32869013, 0.32624633, 0.32380254, 0.32135875,\n",
       "       0.31891496, 0.31647116, 0.31402737, 0.31158358, 0.30913978,\n",
       "       0.30669599, 0.3042522 , 0.30180841, 0.29936461, 0.29692082,\n",
       "       0.29447703, 0.29203324, 0.28958944, 0.28714565, 0.28470186,\n",
       "       0.28225806, 0.27981427, 0.27737048, 0.27492669, 0.27248289,\n",
       "       0.2700391 , 0.26759531, 0.26515152, 0.26270772, 0.26026393,\n",
       "       0.25782014, 0.25537634, 0.25293255, 0.25048876, 0.24804497,\n",
       "       0.24560117, 0.24315738, 0.24071359, 0.23826979, 0.235826  ,\n",
       "       0.23338221, 0.23093842, 0.22849462, 0.22605083, 0.22360704,\n",
       "       0.22116325, 0.21871945, 0.21627566, 0.21383187, 0.21138807,\n",
       "       0.20894428, 0.20650049, 0.2040567 , 0.2016129 , 0.19916911,\n",
       "       0.19672532, 0.19428152, 0.19183773, 0.18939394, 0.18695015,\n",
       "       0.18450635, 0.18206256, 0.17961877, 0.17717498, 0.17473118,\n",
       "       0.17228739, 0.1698436 , 0.1673998 , 0.16495601, 0.16251222,\n",
       "       0.16006843, 0.15762463, 0.15518084, 0.15273705, 0.15029326,\n",
       "       0.14784946, 0.14540567, 0.14296188, 0.14051808, 0.13807429,\n",
       "       0.1356305 , 0.13318671, 0.13074291, 0.12829912, 0.12585533,\n",
       "       0.12341153, 0.12096774, 0.11852395, 0.11608016, 0.11363636,\n",
       "       0.11119257, 0.10874878, 0.10630499, 0.10386119, 0.1014174 ,\n",
       "       0.09897361, 0.09652981, 0.09408602, 0.09164223, 0.08919844,\n",
       "       0.08675464, 0.08431085, 0.08186706, 0.07942326, 0.07697947,\n",
       "       0.07453568, 0.07209189, 0.06964809, 0.0672043 , 0.06476051,\n",
       "       0.06231672, 0.05987292, 0.05742913, 0.05498534, 0.05254154])"
      ]
     },
     "execution_count": 20,
     "metadata": {},
     "output_type": "execute_result"
    }
   ],
   "source": [
    "ppplot.X1[0]"
   ]
  },
  {
   "cell_type": "code",
   "execution_count": 21,
   "metadata": {},
   "outputs": [
    {
     "data": {
      "image/png": "[encoded data removed]",
      "text/plain": [
       "<Figure size 432x432 with 3 Axes>"
      ]
     },
     "metadata": {
      "needs_background": "light"
     },
     "output_type": "display_data"
    }
   ],
   "source": [
    "ppplot2 = TwoD_NMR_MAT_plot(nmr_spec_2d, pinfo, info )"
   ]
  },
  {
   "cell_type": "code",
   "execution_count": 24,
   "metadata": {},
   "outputs": [
    {
     "name": "stdout",
     "output_type": "stream",
     "text": [
      "['__builtins__', '__cached__', '__developer_info__', '__doc__', '__file__', '__loader__', '__name__', '__package__', '__spec__', '_merge_dict', 'add_axis_to_udic', 'array_to_int', 'bruker_dsp_table', 'bruker_nd', 'complexify_data', 'create_acqus_dic', 'create_data', 'create_dic', 'division', 'fileiobase', 'get_data', 'get_trace', 'guess_shape', 'guess_shape_and_submatrix_shape', 'guess_udic', 'np', 'os', 'parse_jcamp_line', 'parse_jcamp_value', 'print_function', 'proc_base', 'put_data', 'read', 'read_acqus_file', 'read_binary', 'read_binary_lowmem', 'read_jcamp', 'read_lowmem', 'read_pdata', 'read_pdata_binary', 'read_pprog', 'read_procs_file', 'reduce', 'remove_digital_filter', 'reorder_submatrix', 'rm_dig_filter', 'scale_pdata', 'uncomplexify_data', 'warn', 'write', 'write_binary', 'write_binary_lowmem', 'write_jcamp', 'write_jcamp_pair', 'write_lowmem', 'write_pdata', 'write_pprog']\n"
     ]
    }
   ],
   "source": [
    "print(dir(nmrglue.bruker))"
   ]
  },
  {
   "cell_type": "code",
   "execution_count": null,
   "metadata": {},
   "outputs": [],
   "source": []
  }
 ],
 "metadata": {
  "jupytext": {
   "formats": "ipynb,md"
  },
  "kernelspec": {
   "display_name": "Python 3",
   "language": "python",
   "name": "python3"
  },
  "language_info": {
   "codemirror_mode": {
    "name": "ipython",
    "version": 3
   },
   "file_extension": ".py",
   "mimetype": "text/x-python",
   "name": "python",
   "nbconvert_exporter": "python",
   "pygments_lexer": "ipython3",
   "version": "3.7.1"
  }
 },
 "nbformat": 4,
 "nbformat_minor": 2
}
