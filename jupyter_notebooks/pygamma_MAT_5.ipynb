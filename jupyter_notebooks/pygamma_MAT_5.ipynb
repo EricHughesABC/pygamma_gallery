{
 "cells": [
  {
   "cell_type": "markdown",
   "metadata": {},
   "source": [
    "## Magic Angle Hopping Experiment simulated in Pygamma Eric Hughes "
   ]
  },
  {
   "cell_type": "markdown",
   "metadata": {},
   "source": [
    "## Two isolated spin system"
   ]
  },
  {
   "cell_type": "code",
   "execution_count": 1,
   "metadata": {},
   "outputs": [],
   "source": [
    "\n",
    "\n",
    "import numpy as np\n",
    "import scipy\n",
    "import pylab\n",
    "import pygamma\n",
    "from scipy import fftpack\n",
    "\n",
    "from pygamma import spin_system, gen_op, Iz, sigma_eq, Ixypuls_U, Fm, evolve, prop, exponential_multiply\n",
    "\n",
    "from scipy import cos,sin, pi\n",
    "\n",
    "\n"
   ]
  },
  {
   "cell_type": "code",
   "execution_count": 2,
   "metadata": {},
   "outputs": [],
   "source": [
    "def calculate_tiling_angles(num_tiling_points ):\n",
    "    \n",
    "    \"\"\"Calulates tiling angles alpha, beta, gamma for MAS\"\"\"\n",
    "    alpha   = scipy.zeros( num_tiling_points )\n",
    "    beta    = scipy.zeros( num_tiling_points )\n",
    "    gamma   = scipy.zeros( num_tiling_points )\n",
    "    \n",
    "    twos_array = np.array([1,2,4,8,16,32,64,128,256,512,1024,2048,4096,8192,16384,32768,65536])\n",
    "    threes_array = np.array([1,3,9,27,81,243,729,2187,6561,19683,59049])  \n",
    "\n",
    "    num_twos = len(twos_array)-1; print( num_twos)\n",
    "    num_threes = len(threes_array)-1; print( num_threes)\n",
    "    \n",
    "    for m in range( num_tiling_points ):\n",
    "    \n",
    "        number = 1*m\n",
    "        alphaa = 0.0\n",
    "        for j in range(num_threes, -1, -1 ):\n",
    "        \n",
    "            num = number/threes_array[j]\n",
    "        \n",
    "            number = number - num*threes_array[j]\n",
    "            alphaa  = alphaa + num / ( 3.0 * threes_array[j] )\n",
    "        \n",
    "        alpha[m] = alphaa * 2.0 * scipy.pi\n",
    "    \n",
    "        beta[m] =  1.0* m * scipy.pi / ( 1.0 * num_tiling_points )\n",
    "    \n",
    "    \n",
    "        gammaa = 0.0\n",
    "        for j in range(num_twos):\n",
    "    \n",
    "           if m & twos_array[j]:\n",
    "            \n",
    "                gammaa = gammaa + 1.0/(1.0*twos_array[j+1])\n",
    "            \n",
    "        gamma[m] = gammaa * 2.0 * scipy.pi\n",
    "    \n",
    "    return( alpha, beta, gamma )\n",
    "\n",
    " "
   ]
  },
  {
   "cell_type": "markdown",
   "metadata": {},
   "source": [
    "### Calculate Hamiltonian using Hammersley Tiling Points "
   ]
  },
  {
   "cell_type": "markdown",
   "metadata": {},
   "source": [
    "$$ \\omega \\left ( r \\right ) = \\delta_0 + \\delta \\space \\left ( C_1 \\space \\cos  \\space   \\omega_r  +\n",
    "                                                                S_1 \\space \\sin  \\space   \\omega_r  +\n",
    "                                                                C_2 \\space \\cos  \\space 2 \\omega_r  +\n",
    "                                                                S_2 \\space \\sin  \\space 2 \\omega_r \n",
    "\\right )\n",
    "$$"
   ]
  },
  {
   "cell_type": "markdown",
   "metadata": {},
   "source": [
    "where :"
   ]
  },
  {
   "cell_type": "markdown",
   "metadata": {},
   "source": [
    "\n",
    "$$\n",
    "C_1 = \\frac {1}{2} \\sin 2 \\theta  \\space \\sin  \\beta  \\space \\cos  \\beta \\space \\left [ \\space \\eta \\space \\cos ( 2 \\gamma - 3 ) \\space \\cos  \\alpha - \\eta \\space \\sin 2 \\gamma \\space \\sin \\alpha \\space \\right ]\n",
    "$$ "
   ]
  },
  {
   "cell_type": "markdown",
   "metadata": {},
   "source": [
    "\n",
    "$$\n",
    "S_1 = \\frac {1}{2} \\sin 2 \\theta  \\space \\sin  \\beta  \\space \\cos  \\beta \\space \\left [ \\space \\eta \\space \\cos ( 2 \\gamma - 3 ) \\space \\sin  \\alpha - \\eta \\space \\sin 2 \\gamma \\space \\cos \\alpha \\space \\right ]\n",
    "$$\n"
   ]
  },
  {
   "cell_type": "markdown",
   "metadata": {},
   "source": [
    "\n",
    "$$\n",
    "C_2 = \\frac {1} {2} \\space \\sin^2 \\theta \\space  ( \\cos 2 \\alpha \\space \\left [ \\frac {3}{2} \\space \\sin^2 \\beta + \\frac {1}{2} \\eta \\space \\cos 2 \\gamma \\space ( 1 + \\cos^2 \\beta ) \\right ] - \\eta \\space \\cos \\beta \\space \\sin 2 \\gamma \\space \\sin 2 \\alpha )\n",
    "$$"
   ]
  },
  {
   "cell_type": "markdown",
   "metadata": {},
   "source": [
    "$$\n",
    "S_2 = \\frac {1} {2} \\space \\sin^2 \\theta \\space  ( \\sin 2 \\alpha \\space \\left [ \\frac {3}{2} \\space \\sin^2 \\beta + \\frac {1}{2} \\eta \\space \\cos 2 \\gamma \\space ( 1 + \\cos^2 \\beta ) \\right ] - \\eta \\space \\cos \\beta \\space \\sin 2 \\gamma \\space \\cos 2 \\alpha )\n",
    "$$"
   ]
  },
  {
   "cell_type": "code",
   "execution_count": 8,
   "metadata": {},
   "outputs": [],
   "source": [
    "\n",
    "def spinning_H_angles():\n",
    "    \n",
    "    omega_r = np.arange(0,3)*2.0*pi/3.0\n",
    "    [alpha, beta, gamma ] = calculate_tiling_angles(num_tiling_points )\n",
    "\n",
    "    \n",
    "    theta = 54.73561*scipy.pi/180.0\n",
    "    s_2t = sin(2.0*theta)\n",
    "    s_t2 = sin(theta)*sin(theta)    \n",
    "    s_b = sin(beta)\n",
    "    c_b = cos(beta)\n",
    "    s_b2 = s_b*s_b\n",
    "    c_b2 = c_b*c_b\n",
    "    \n",
    "    c_2g = cos(2.0*gamma)\n",
    "    s_2g = sin(2.0*gamma)\n",
    "    \n",
    "    s_a  = sin(alpha)\n",
    "    c_a  = cos(alpha)\n",
    "    c_2a = cos(2.0*alpha)\n",
    "    s_2a = sin(2.0*alpha)\n",
    "    \n",
    "    C1 = 0.5*s_2t*s_b*(c_b*(eta*c_2g-3)*c_a-eta*s_2g*s_a)\n",
    "    S1 = 0.5*s_2t*s_b*(c_b*(3-eta*c_2g)*s_a-eta*s_2g*c_a)\n",
    "    \n",
    "    C2 = 0.5*s_t2*((1.5*s_b2+0.5*eta*c_2g*(1+c_b2))*c_2a - eta*c_b*s_2g*s_2a)\n",
    "\n",
    "    S2 = 0.5*s_t2*(-1*(1.5*s_b2+0.5*eta*c_2g*(1+c_b2))*s_2a - eta*c_b*s_2g*c_2a)\n",
    "\n",
    "    c_omega_r = cos(omega_r)\n",
    "    s_omega_r = sin(omega_r)\n",
    "    c_2_omega_r = cos(2.0*omega_r)\n",
    "    s_2_omega_r = sin(2.0*omega_r)\n",
    "\n",
    "    H1  =  (delta_0+delta*( np.outer(C1,c_omega_r)+np.outer(S1,s_omega_r)+np.outer(C2,c_2_omega_r)+np.outer(S2,s_2_omega_r)))\n",
    "\n",
    "    C1 = 0.5*s_2t*s_b*(c_b*(eta1*c_2g-3)*c_a-eta1*s_2g*s_a)\n",
    "    S1 = 0.5*s_2t*s_b*(c_b*(3-eta1*c_2g)*s_a-eta1*s_2g*c_a)\n",
    "    \n",
    "    C2 = 0.5*s_t2*((1.5*s_b2+0.5*eta1*c_2g*(1+c_b2))*c_2a - eta1*c_b*s_2g*s_2a)\n",
    "\n",
    "    S2 = 0.5*s_t2*(-1*(1.5*s_b2+0.5*eta1*c_2g*(1+c_b2))*s_2a - eta1*c_b*s_2g*c_2a)\n",
    "\n",
    "    H2  =  (delta1_0+delta1*( np.outer(C1,c_omega_r)+np.outer(S1,s_omega_r)+np.outer(C2,c_2_omega_r)+np.outer(S2,s_2_omega_r)))\n",
    "    \n",
    "    return( omega_r, H1, H2, s_b)    \n",
    "    \n"
   ]
  },
  {
   "cell_type": "markdown",
   "metadata": {},
   "source": [
    "## Expermental and Spin System Parameters"
   ]
  },
  {
   "cell_type": "code",
   "execution_count": 9,
   "metadata": {},
   "outputs": [
    {
     "ename": "TypeError",
     "evalue": "__call__() missing 1 required positional argument: 'col'",
     "output_type": "error",
     "traceback": [
      "\u001b[0;31m---------------------------------------------------------------------------\u001b[0m",
      "\u001b[0;31mTypeError\u001b[0m                                 Traceback (most recent call last)",
      "\u001b[0;32m<ipython-input-9-5bc1c20a2074>\u001b[0m in \u001b[0;36m<module>\u001b[0;34m\u001b[0m\n\u001b[1;32m     35\u001b[0m \u001b[0midentity\u001b[0m \u001b[0;34m=\u001b[0m \u001b[0mgen_op\u001b[0m\u001b[0;34m(\u001b[0m\u001b[0mpygamma\u001b[0m\u001b[0;34m.\u001b[0m\u001b[0mIe\u001b[0m\u001b[0;34m(\u001b[0m\u001b[0msys\u001b[0m\u001b[0;34m,\u001b[0m\u001b[0;36m0\u001b[0m\u001b[0;34m)\u001b[0m\u001b[0;34m)\u001b[0m\u001b[0;34m\u001b[0m\u001b[0;34m\u001b[0m\u001b[0m\n\u001b[1;32m     36\u001b[0m \u001b[0;34m\u001b[0m\u001b[0m\n\u001b[0;32m---> 37\u001b[0;31m \u001b[0msigma_eq\u001b[0m \u001b[0;34m=\u001b[0m \u001b[0msigma_eq\u001b[0m\u001b[0;34m(\u001b[0m\u001b[0msys\u001b[0m\u001b[0;34m)\u001b[0m\u001b[0;34m\u001b[0m\u001b[0;34m\u001b[0m\u001b[0m\n\u001b[0m\u001b[1;32m     38\u001b[0m \u001b[0;34m\u001b[0m\u001b[0m\n\u001b[1;32m     39\u001b[0m \u001b[0msigma_0\u001b[0m \u001b[0;34m=\u001b[0m  \u001b[0mgen_op\u001b[0m\u001b[0;34m(\u001b[0m\u001b[0;34m)\u001b[0m\u001b[0;34m\u001b[0m\u001b[0;34m\u001b[0m\u001b[0m\n",
      "\u001b[0;31mTypeError\u001b[0m: __call__() missing 1 required positional argument: 'col'"
     ]
    }
   ],
   "source": [
    "\n",
    "    \n",
    "Larmor_freq = 100.0 # MHz\n",
    "sw1         = 50.0e3   #Hz\n",
    "sw2         = 10e3 # Hz\n",
    "\n",
    "dt2 = dw2 = 1./sw1\n",
    "dt1 = dw1 = 1./sw2\n",
    "    \n",
    "np2 = 512\n",
    "np1 = 128\n",
    "    \n",
    "# Chemical Shift Values\n",
    "\n",
    "delta_0     = 30.0*Larmor_freq;\n",
    "delta       = -2.0* 80.*Larmor_freq/3.0\n",
    "eta         = 0.5\n",
    "\n",
    "delta1_0     = -35.0*Larmor_freq;\n",
    "delta1       = 2.0* 80.*Larmor_freq/3.0\n",
    "eta1         = 0.75\n",
    "\n",
    "\n",
    "lb = 20.0\n",
    "num_tiling_points = 500\n",
    "    \n",
    "# Spin System\n",
    "\n",
    "sys = spin_system(2)\n",
    "sys.spectrometer_frequency(Larmor_freq)\n",
    "sys.Omega(Larmor_freq)\n",
    "\n",
    "\n",
    "Ized     = Iz(sys,0)\n",
    "identity = gen_op(pygamma.Ie(sys,0))\n",
    "\n",
    "sigma_eq = sigma_eq(sys)\n",
    "    \n",
    "sigma_0 =  gen_op()"
   ]
  },
  {
   "cell_type": "markdown",
   "metadata": {},
   "source": [
    "## Unitary Pulse and Detection Operators"
   ]
  },
  {
   "cell_type": "code",
   "execution_count": 10,
   "metadata": {},
   "outputs": [
    {
     "name": "stdout",
     "output_type": "stream",
     "text": [
      "Hello world\n"
     ]
    }
   ],
   "source": [
    "\n",
    "# Pulse phases and Unitary operators\n",
    "\n",
    "#    phase_down_pos = [ 90.0, 90.0, 90.0, 90.0 ]\n",
    "#    phase_sel0_pos = [ 90.0,  0.0,  0.0, 90.0 ]\n",
    "#    phase_sel1_pos = [ 90.0,  0.0, 90.0,  0.0 ] \n",
    "#    phase_sel2_pos = [ 90.0, 90.0,  0.0,  0.0 ]\n",
    "\n",
    "#    phase_detect_pos = [ 90.0, 90.0, 90.0, 90.0 ]\n",
    "\n",
    "#    phase_down_min = [ 90.0, 90.0, 90.0, 90.0 ]\n",
    "#    phase_sel0_min = [  0.0, 90.0, 90.0,  0.0 ]\n",
    "#    phase_sel1_min = [ 90.0,  0.0, 90.0,  0.0 ]\n",
    "#    phase_sel2_min = [ 90.0, 90.0,  0.0,  0.0 ]\n",
    "\n",
    "#    phase_detect_min = [ 90.0, 90.0, 90.0, 90.0 ]\n",
    "\n",
    "#phase_down_pos = [ 90.0, 90.0, 90.0, 90.0 ]\n",
    "\n",
    "#phase_sel0_pos = [  0.0, 90.0, 90.0, 0.0 ]\n",
    "#phase_sel1_pos = [  0.0, 90.0,  0.0, 90.0 ] \n",
    "#phase_sel2_pos = [  0.0,  0.0, 90.0, 90.0 ]\n",
    "\n",
    "#phase_detect_pos = [ 0.0, 180.0, 180.0, 180.0 ]\n",
    "\n",
    "#phase_down_min = [ 90.0, 90.0, 90.0, 90.0 ]\n",
    "#phase_sel0_min = [ 90.0,  0.0,  0.0, 90.0 ]\n",
    "#phase_sel1_min = [  0.0, 90.0,  0.0, 90.0 ]\n",
    "#phase_sel2_min = [  0.0,  0.0, 90.0, 90.0 ]\n",
    "\n",
    "#phase_detect_min = [ 180.0, 180.0, 180.0, 0.0 ]\n",
    "\n",
    "\n",
    "# Good phases\n",
    "\n",
    "phase_down_pos = [ 90.0, 90.0, 90.0, 90.0 ]\n",
    "\n",
    "phase_sel0_pos = [  270.0, 0.0, 0.0, 270.0 ]\n",
    "phase_sel1_pos = [  270.0, 0.0,  270.0, 0.0 ] \n",
    "phase_sel2_pos = [  270.0,  270.0, 0.0, 0.0 ]\n",
    "\n",
    "phase_detect_pos = [ 0.0, 180.0, 180.0, 180.0 ]\n",
    "\n",
    "phase_down_min = [ 90.0, 90.0, 90.0, 90.0 ]\n",
    "phase_sel0_min = [ 0.0,  270.0,  270.0, 0.0 ]\n",
    "phase_sel1_min = [  270.0, 0.0,  270.0, 0.0 ]\n",
    "phase_sel2_min = [  270.0,  270.0, 0.0, 0.0 ]\n",
    "\n",
    "phase_detect_min = [ 180.0, 180.0, 180.0, 0.0 ]\n",
    "\n",
    "\n",
    "phase_quad = [ 0.0, 0.0, 0.0, 0.0 ]\n",
    "    \n",
    "Up_down_pos = [gen_op()]*4\n",
    "Up_sel0_pos = [gen_op()]*4\n",
    "Up_sel1_pos = [gen_op()]*4\n",
    "Up_sel2_pos = [gen_op()]*4\n",
    "\n",
    "Up_down_min = [gen_op()]*4\n",
    "Up_sel0_min = [gen_op()]*4\n",
    "Up_sel1_min = [gen_op()]*4\n",
    "Up_sel2_min = [gen_op()]*4\n",
    "\n",
    "detect_array_p = [gen_op()]*4\n",
    "detect_array_m = [gen_op()]*4\n",
    "    \n",
    "print( \"Hello world\")\n",
    "\n",
    "Up_quad = [pygamma.gen_op()]*4"
   ]
  },
  {
   "cell_type": "code",
   "execution_count": 11,
   "metadata": {},
   "outputs": [],
   "source": [
    "for i in range(4):\n",
    "    \n",
    "        Up_down_pos[i] = Ixypuls_U( sys, phase_down_pos[i], 90.0 )\n",
    "        Up_sel0_pos[i] = Ixypuls_U( sys, phase_sel0_pos[i], 90.0 )\n",
    "        Up_sel1_pos[i] = Ixypuls_U( sys, phase_sel1_pos[i], 90.0 )\n",
    "        Up_sel2_pos[i] = Ixypuls_U( sys, phase_sel2_pos[i], 90.0 )\n",
    "    \n",
    "        Up_down_min[i] = Ixypuls_U( sys, phase_down_min[i], 90.0 )\n",
    "        Up_sel0_min[i] = Ixypuls_U( sys, phase_sel0_min[i], 90.0 )\n",
    "        Up_sel1_min[i] = Ixypuls_U( sys, phase_sel1_min[i], 90.0 )\n",
    "        Up_sel2_min[i] = Ixypuls_U( sys, phase_sel2_min[i], 90.0 )\n",
    "\n",
    "        Up_quad[i] = Ixypuls_U( sys, phase_quad[i], 90.0 )\n",
    "    \n",
    "        detect_array_p[i] = Fm( sys, phase_detect_pos[i] )  \n",
    "        detect_array_m[i] = Fm( sys, phase_detect_min[i] )  \n",
    "        "
   ]
  },
  {
   "cell_type": "markdown",
   "metadata": {},
   "source": [
    "## Calculation of Data using States-Haberkorn System"
   ]
  },
  {
   "cell_type": "code",
   "execution_count": 14,
   "metadata": {},
   "outputs": [
    {
     "name": "stdout",
     "output_type": "stream",
     "text": [
      "16\n",
      "10\n",
      "0 1 2 3 4 5 6 7 8 9 10 11 12 13 14 15 16 17 18 19 20 21 22 23 24 25 26 27 28 29 30 31 32 33 34 35 36 37 38 39 40 41 42 43 44 45 46 47 48 49 50 51 52 53 54 55 56 57 58 59 60 61 62 63 64 65 66 67 68 69 70 71 72 73 74 75 76 77 78 79 80 81 82 83 84 85 86 87 88 89 90 91 92 93 94 95 96 97 98 99 100 101 102 103 104 105 106 107 108 109 110 111 112 113 114 115 116 117 118 119 120 121 122 123 124 125 126 127 128 129 130 131 132 133 134 135 136 137 138 139 140 141 142 143 144 145 146 147 148 149 150 151 152 153 154 155 156 157 158 159 160 161 162 163 164 165 166 167 168 169 170 171 172 173 174 175 176 177 178 179 180 181 182 183 184 185 186 187 188 189 190 191 192 193 194 195 196 197 198 199 200 201 202 203 204 205 206 207 208 209 210 211 212 213 214 215 216 217 218 219 220 221 222 223 224 225 226 227 228 229 230 231 232 233 234 235 236 237 238 239 240 241 242 243 244 245 246 247 248 249 250 251 252 253 254 255 256 257 258 259 260 261 262 263 264 265 266 267 268 269 270 271 272 273 274 275 276 277 278 279 280 281 282 283 284 285 286 287 288 289 290 291 292 293 294 295 296 297 298 299 300 301 302 303 304 305 306 307 308 309 310 311 312 313 314 315 316 317 318 319 320 321 322 323 324 325 326 327 328 329 330 331 332 333 334 335 336 337 338 339 340 341 342 343 344 345 346 347 348 349 350 351 352 353 354 355 356 357 358 359 360 361 362 363 364 365 366 367 368 369 370 371 372 373 374 375 376 377 378 379 380 381 382 383 384 385 386 387 388 389 390 391 392 393 394 395 396 397 398 399 400 401 402 403 404 405 406 407 408 409 410 411 412 413 414 415 416 417 418 419 420 421 422 423 424 425 426 427 428 429 430 431 432 433 434 435 436 437 438 439 440 441 442 443 444 445 446 447 448 449 450 451 452 453 454 455 456 457 458 459 460 461 462 463 464 465 466 467 468 469 470 471 472 473 474 475 476 477 478 479 480 481 482 483 484 485 486 487 488 489 490 491 492 493 494 495 496 497 498 499 "
     ]
    }
   ],
   "source": [
    "\n",
    "\n",
    "\n",
    "[omega_r, H1, H2, sine_beta] = spinning_H_angles()\n",
    "    \n",
    "fid2dp = [pygamma.row_vector(np2, pygamma.complex(0,0))]*np1    \n",
    "fid2dm = [pygamma.row_vector(np2, pygamma.complex(0,0))]*np1    \n",
    "fid   =  pygamma.row_vector(np2, pygamma.complex(0,0))\n",
    "    \n",
    "for m in range(num_tiling_points):\n",
    "        print( m, end=\" \")\n",
    "        iz0a = Iz(sys,0)\n",
    "        iz0b = Iz(sys,1)\n",
    "        iz0a *= H1[m][0]\n",
    "        iz0b *= H2[m][0]\n",
    "        iz0 = iz0a+iz0b\n",
    "        \n",
    "        iz1a = Iz(sys,0)\n",
    "        iz1b = Iz(sys,1)\n",
    "        iz1a *= H1[m][1]\n",
    "        iz1b *= H2[m][1]\n",
    "        iz1 = iz1a+iz1b        \n",
    "\n",
    "        iz2a = Iz(sys,0)\n",
    "        iz2b = Iz(sys,1)\n",
    "        iz2a *= H1[m][2]\n",
    "        iz2b *= H2[m][2]\n",
    "        iz2 = iz2a+iz2b         \n",
    "\n",
    "\n",
    "        \n",
    "        for t1 in range(np1):\n",
    "            u_H0 = prop(gen_op(iz0), dt1*t1)\n",
    "            u_H1 = prop(gen_op(iz1), dt1*t1)\n",
    "            u_H2 = prop(gen_op(iz2), dt1*t1)\n",
    "\n",
    "            for k in range(4):\n",
    "            \n",
    "                sigma_p = pygamma.sigma_eq(sys)\n",
    "                \n",
    "                sigma_p = evolve( sigma_p, Up_down_pos[k] ) # first pulse\n",
    "\n",
    "                sigma_p = evolve( sigma_p, u_H0 )            # first evolution period\n",
    "                \n",
    "                sigma_p = evolve( sigma_p, Up_sel0_pos[k])  # first storage pulse\n",
    "                \n",
    "                for ii in range(4):\n",
    "                    for jj in range(4):\n",
    "                        if ii != jj:\n",
    "                            sigma_p.put( pygamma.complex(0,0), ii,jj ) \n",
    "                            \n",
    "                \n",
    "#                sigma_p.put( pygamma.complex(0,0), 0, 1 )   # purge xy magnetization\n",
    "#                sigma_p.put( pygamma.complex(0,0), 1, 0 )\n",
    "\n",
    "                sigma_p = evolve( sigma_p, Up_down_pos[k] ) # second pulse\n",
    "\n",
    "                sigma_p = evolve( sigma_p, u_H1 )            # second evolution period\n",
    "                \n",
    "                sigma_p = evolve( sigma_p, Up_sel1_pos[k])  # second storage pulse\n",
    "                \n",
    "                for ii in range(4):\n",
    "                    for jj in range(4):\n",
    "                        if ii != jj:\n",
    "                            sigma_p.put( pygamma.complex(0,0), ii,jj ) \n",
    "                            \n",
    "                sigma_p = evolve( sigma_p, Up_down_pos[k] ) # third pulse\n",
    "\n",
    "                sigma_p = evolve( sigma_p, u_H2 )            # third evolution period\n",
    "                \n",
    "                sigma_p = evolve( sigma_p, Up_sel2_pos[k])  # third storage pulse\n",
    "                \n",
    "                for ii in range(4):\n",
    "                    for jj in range(4):\n",
    "                        if ii != jj:\n",
    "                            sigma_p.put( pygamma.complex(0,0), ii,jj ) \n",
    "                            \n",
    "                sigma_p = evolve( sigma_p, Up_down_pos[k] )\n",
    "                             \n",
    "                pygamma.acquire(gen_op(detect_array_p[k]), sigma_p, gen_op(iz0),   dt2, np2, fid)\n",
    "                \n",
    "                fid2dp[t1] = fid2dp[t1]+fid*sine_beta[m]\n",
    "\n",
    "                ####\n",
    "                # Acquire -ve data\n",
    "                ###\n",
    "                \n",
    "                sigma_m = pygamma.sigma_eq(sys)\n",
    "                \n",
    "                sigma_m = evolve( sigma_m, Up_down_min[k] ) # first pulse\n",
    "\n",
    "                sigma_m = evolve( sigma_m, u_H0 )            # first evolution period\n",
    "                \n",
    "                sigma_m = evolve( sigma_m, Up_sel0_min[k])  # first storage pulse\n",
    "                \n",
    "                for ii in range(4):\n",
    "                    for jj in range(4):\n",
    "                        if ii != jj:\n",
    "                            sigma_m.put( pygamma.complex(0,0), ii,jj ) \n",
    "                            \n",
    "                sigma_m = evolve( sigma_m, Up_down_min[k] ) # second pulse\n",
    "\n",
    "                sigma_m = evolve( sigma_m, u_H1 )            # second evolution period\n",
    "                \n",
    "                sigma_m = evolve( sigma_m, Up_sel1_min[k])  # second storage pulse\n",
    "                \n",
    "                for ii in range(4):\n",
    "                    for jj in range(4):\n",
    "                        if ii != jj:\n",
    "                            sigma_m.put( pygamma.complex(0,0), ii,jj ) \n",
    "                            \n",
    "                sigma_m = evolve( sigma_m, Up_down_min[k] ) # third pulse\n",
    "\n",
    "                sigma_m = evolve( sigma_m, u_H2 )            # third evolution period\n",
    "                \n",
    "                sigma_m = evolve( sigma_m, Up_sel2_min[k])  # third storage pulse\n",
    "                \n",
    "                for ii in range(4):\n",
    "                    for jj in range(4):\n",
    "                        if ii != jj:\n",
    "                            sigma_m.put( pygamma.complex(0,0), ii,jj ) \n",
    "                            \n",
    "                sigma_m = evolve( sigma_m, Up_down_min[k] )\n",
    "                             \n",
    "                pygamma.acquire(gen_op(detect_array_m[k]), sigma_m, gen_op(iz0),   dt2, np2, fid)\n",
    "                \n",
    "                fid2dm[t1] = fid2dm[t1]+fid*sine_beta[m]\n",
    "\n",
    "        \n"
   ]
  },
  {
   "cell_type": "markdown",
   "metadata": {},
   "source": [
    "## FFT in t2 dimension"
   ]
  },
  {
   "cell_type": "code",
   "execution_count": 15,
   "metadata": {},
   "outputs": [],
   "source": [
    "for i,fid in enumerate(fid2dp):\n",
    "        exponential_multiply( fid, -50.0)\n",
    "        fid2dp[i] = fid.FFT()\n",
    "        \n",
    "for i,fid in enumerate(fid2dm):\n",
    "        exponential_multiply( fid, -50.0)\n",
    "        fid2dm[i] = fid.FFT()\n",
    "        \n",
    " \n",
    "    "
   ]
  },
  {
   "cell_type": "code",
   "execution_count": 19,
   "metadata": {},
   "outputs": [
    {
     "data": {
      "text/plain": [
       "[<matplotlib.lines.Line2D at 0x7fc314050128>]"
      ]
     },
     "execution_count": 19,
     "metadata": {},
     "output_type": "execute_result"
    },
    {
     "data": {
      "image/png": "[encoded data removed]",
      "text/plain": [
       "<Figure size 432x288 with 1 Axes>"
      ]
     },
     "metadata": {
      "needs_background": "light"
     },
     "output_type": "display_data"
    }
   ],
   "source": [
    "pylab.plot( fid2dp[0].Real(), 'b')\n",
    "pylab.plot( fid2dm[0].Real(), 'r')\n"
   ]
  },
  {
   "cell_type": "markdown",
   "metadata": {},
   "source": [
    "## Combine 2 Data sets before FFT in second dimension"
   ]
  },
  {
   "cell_type": "code",
   "execution_count": 20,
   "metadata": {},
   "outputs": [],
   "source": [
    "fid2d_plus = scipy.zeros((np2,np2), dtype = scipy.complex64)\n",
    "    \n",
    "for i in range(np1):\n",
    "        rrr = scipy.array( fid2dp[i].Real() )\n",
    "        iii = scipy.array( fid2dm[i].Real() )\n",
    "        \n",
    "        rrr = rrr - rrr[0:100].mean()\n",
    "        iii = iii - iii[0:100].mean()\n",
    "        \n",
    "        ccc =scipy.array( rrr+1j*iii)\n",
    "        \n",
    "        fid2d_plus[i] += ccc\n",
    "        \n"
   ]
  },
  {
   "cell_type": "code",
   "execution_count": 22,
   "metadata": {},
   "outputs": [
    {
     "data": {
      "text/plain": [
       "[<matplotlib.lines.Line2D at 0x7fc3082068d0>]"
      ]
     },
     "execution_count": 22,
     "metadata": {},
     "output_type": "execute_result"
    },
    {
     "data": {
      "image/png": "[encoded data removed]",
      "text/plain": [
       "<Figure size 432x288 with 1 Axes>"
      ]
     },
     "metadata": {
      "needs_background": "light"
     },
     "output_type": "display_data"
    }
   ],
   "source": [
    "pylab.plot( fid2d_plus[0].real, 'r' )\n",
    "pylab.plot( fid2d_plus[0].imag, 'b' )"
   ]
  },
  {
   "cell_type": "code",
   "execution_count": 23,
   "metadata": {},
   "outputs": [
    {
     "data": {
      "image/png": "[encoded data removed]",
      "text/plain": [
       "<Figure size 432x288 with 1 Axes>"
      ]
     },
     "metadata": {
      "needs_background": "light"
     },
     "output_type": "display_data"
    }
   ],
   "source": [
    "pylab.imshow( fid2d_plus.real);"
   ]
  },
  {
   "cell_type": "code",
   "execution_count": 24,
   "metadata": {},
   "outputs": [],
   "source": [
    "fid2d_plus = fid2d_plus.transpose()"
   ]
  },
  {
   "cell_type": "code",
   "execution_count": 25,
   "metadata": {},
   "outputs": [
    {
     "data": {
      "text/plain": [
       "[<matplotlib.lines.Line2D at 0x7fc3068ea860>]"
      ]
     },
     "execution_count": 25,
     "metadata": {},
     "output_type": "execute_result"
    },
    {
     "data": {
      "image/png": "[encoded data removed]",
      "text/plain": [
       "<Figure size 432x288 with 1 Axes>"
      ]
     },
     "metadata": {
      "needs_background": "light"
     },
     "output_type": "display_data"
    }
   ],
   "source": [
    "t1 = scipy.arange(np2)*dw1\n",
    "#pylab.plot( fid2d_plus[0].real*scipy.exp(-300.0*t1))\n",
    "pylab.plot( fid2d_plus[0].real)"
   ]
  },
  {
   "cell_type": "code",
   "execution_count": 26,
   "metadata": {},
   "outputs": [],
   "source": [
    "\n",
    "\n",
    "for i in range(np2 ):\n",
    "    fid2d_plus[i] = fid2d_plus[i]*scipy.exp(-300.0*t1)\n",
    "    \n",
    "fid2d_plus = fid2d_plus.transpose()"
   ]
  },
  {
   "cell_type": "code",
   "execution_count": 28,
   "metadata": {},
   "outputs": [
    {
     "data": {
      "image/png": "[encoded data removed]",
      "text/plain": [
       "<Figure size 432x288 with 1 Axes>"
      ]
     },
     "metadata": {
      "needs_background": "light"
     },
     "output_type": "display_data"
    }
   ],
   "source": [
    "pylab.imshow( (fid2d_plus.real));"
   ]
  },
  {
   "cell_type": "code",
   "execution_count": 29,
   "metadata": {},
   "outputs": [],
   "source": [
    "\n",
    "    \n",
    "spec2D = fftpack.fft( fid2d_plus, axis=0)\n",
    "    \n",
    "\n"
   ]
  },
  {
   "cell_type": "code",
   "execution_count": 30,
   "metadata": {},
   "outputs": [],
   "source": [
    "spec2D = spec2D.transpose()\n",
    "for i in range(np2):\n",
    "    spec2D[i] = fftpack.fftshift( spec2D[i] )\n",
    "    \n",
    "spec2D = spec2D.transpose()\n"
   ]
  },
  {
   "cell_type": "code",
   "execution_count": 31,
   "metadata": {},
   "outputs": [
    {
     "data": {
      "image/png": "[encoded data removed]",
      "text/plain": [
       "<Figure size 432x288 with 1 Axes>"
      ]
     },
     "metadata": {
      "needs_background": "light"
     },
     "output_type": "display_data"
    }
   ],
   "source": [
    "pylab.imshow( (spec2D).real);"
   ]
  },
  {
   "cell_type": "code",
   "execution_count": 33,
   "metadata": {},
   "outputs": [
    {
     "data": {
      "text/plain": [
       "<matplotlib.image.AxesImage at 0x7fc306839630>"
      ]
     },
     "execution_count": 33,
     "metadata": {},
     "output_type": "execute_result"
    },
    {
     "data": {
      "image/png": "[encoded data removed]",
      "text/plain": [
       "<Figure size 432x288 with 1 Axes>"
      ]
     },
     "metadata": {
      "needs_background": "light"
     },
     "output_type": "display_data"
    }
   ],
   "source": [
    "pylab.imshow( spec2D[250:350,100:450].real)"
   ]
  },
  {
   "cell_type": "code",
   "execution_count": 34,
   "metadata": {},
   "outputs": [
    {
     "data": {
      "text/plain": [
       "[<matplotlib.lines.Line2D at 0x7fc30818aa90>]"
      ]
     },
     "execution_count": 34,
     "metadata": {},
     "output_type": "execute_result"
    },
    {
     "data": {
      "image/png": "[encoded data removed]",
      "text/plain": [
       "<Figure size 432x288 with 1 Axes>"
      ]
     },
     "metadata": {
      "needs_background": "light"
     },
     "output_type": "display_data"
    }
   ],
   "source": [
    "pylab.plot((spec2D.sum(axis=0)).real )\n",
    "pylab.plot((spec2D.sum(axis=1)).real )\n",
    "#plot( (spec2D[:,302]).real )\n",
    "#plot( (spec2D[:,280]).real )"
   ]
  },
  {
   "cell_type": "code",
   "execution_count": 35,
   "metadata": {},
   "outputs": [],
   "source": [
    "aaa = [1,2,4,5,6]\n"
   ]
  },
  {
   "cell_type": "code",
   "execution_count": 36,
   "metadata": {},
   "outputs": [],
   "source": [
    "spec2D = spec2D.transpose()\n",
    "for i in range(np2):\n",
    "    spec2D[i] = spec2D[i] - (spec2D[i].real)[0:100].mean() \n",
    "    \n",
    "spec2D = spec2D.transpose()"
   ]
  },
  {
   "cell_type": "code",
   "execution_count": 37,
   "metadata": {},
   "outputs": [
    {
     "data": {
      "image/png": "[encoded data removed]",
      "text/plain": [
       "<Figure size 432x288 with 1 Axes>"
      ]
     },
     "metadata": {
      "needs_background": "light"
     },
     "output_type": "display_data"
    }
   ],
   "source": [
    "pylab.imshow(spec2D.real);"
   ]
  },
  {
   "cell_type": "code",
   "execution_count": 13,
   "metadata": {},
   "outputs": [],
   "source": [
    "ppp =dir(pygamma)"
   ]
  },
  {
   "cell_type": "code",
   "execution_count": 14,
   "metadata": {},
   "outputs": [
    {
     "data": {
      "text/plain": [
       "['BOHRMAG',\n",
       " 'CP_CHIRP95',\n",
       " 'CP_DANTE',\n",
       " 'CSA',\n",
       " 'CYC_CHIRP95',\n",
       " 'CYC_MLEV16',\n",
       " 'CYC_MLEV4',\n",
       " 'CYC_MLEV8',\n",
       " 'CYC_WALTZ4',\n",
       " 'CYC_WALTZ8',\n",
       " 'CenterString',\n",
       " 'DANTE',\n",
       " 'DANTE_swigregister',\n",
       " 'DCC',\n",
       " 'DEFISO',\n",
       " 'DEG2RAD',\n",
       " 'D_basis',\n",
       " 'Det',\n",
       " 'DoubleVector',\n",
       " 'DoubleVector_swigregister',\n",
       " 'EAngles',\n",
       " 'EAngles_SetCutoff',\n",
       " 'EAngles_swigregister',\n",
       " 'Elem_labels',\n",
       " 'ExchProc',\n",
       " 'ExchProc_Label',\n",
       " 'ExchProc_swigregister',\n",
       " 'FID',\n",
       " 'FIDrot',\n",
       " 'FIDx',\n",
       " 'Fa',\n",
       " 'Fa_sp',\n",
       " 'Faxis',\n",
       " 'Faxis_sp',\n",
       " 'Fb',\n",
       " 'Fb_sp',\n",
       " 'Fe',\n",
       " 'Fe_sp',\n",
       " 'Fm',\n",
       " 'Fm_sp',\n",
       " 'Fp',\n",
       " 'Fp_sp',\n",
       " 'Fpdt',\n",
       " 'Fplane',\n",
       " 'Fpol',\n",
       " 'Fpol_gen',\n",
       " 'Fpol_gen_new',\n",
       " 'Fpol_sp',\n",
       " 'Fx',\n",
       " 'Fx_sp',\n",
       " 'Fxy',\n",
       " 'Fxy_sp',\n",
       " 'Fy',\n",
       " 'Fy_sp',\n",
       " 'Fz',\n",
       " 'Fz_sp',\n",
       " 'GAMMA1H',\n",
       " 'GAMMAe',\n",
       " 'GAMMAerror',\n",
       " 'GAMMAfatal',\n",
       " 'GARP',\n",
       " 'GARP_swigregister',\n",
       " 'GAUSS2GHZ',\n",
       " 'GAUSS2HZ',\n",
       " 'GFREE',\n",
       " 'GHZ2GAUSS',\n",
       " 'GIntvec',\n",
       " 'GNvect',\n",
       " 'GamIntVecInit',\n",
       " 'GamSParInit',\n",
       " 'Gangle',\n",
       " 'Gdec',\n",
       " 'Gdec2',\n",
       " 'GenericD',\n",
       " 'Gform',\n",
       " 'GgamB1',\n",
       " 'Ghistogram',\n",
       " 'Gitoa',\n",
       " 'Gpuldat',\n",
       " 'Gpuldat_swigregister',\n",
       " 'Gpulse_Hs',\n",
       " 'Gpulse_U',\n",
       " 'Gpulse_UX',\n",
       " 'Gpulse_Us',\n",
       " 'Gtime',\n",
       " 'Gvect',\n",
       " 'Gxpulse_U',\n",
       " 'Gypulse_U',\n",
       " 'H1',\n",
       " 'HAw',\n",
       " 'HBAR',\n",
       " 'HJ',\n",
       " 'HJd',\n",
       " 'HJw',\n",
       " 'HJwh',\n",
       " 'HQsec',\n",
       " 'HSprop',\n",
       " 'HSprop_swigregister',\n",
       " 'HZ2GAUSS',\n",
       " 'HZ2RAD',\n",
       " 'Hcs',\n",
       " 'Hcs_lab',\n",
       " 'Heff',\n",
       " 'Hg',\n",
       " 'Hg_lab',\n",
       " 'Ho',\n",
       " 'Ho_lab',\n",
       " 'How',\n",
       " 'Hsuper',\n",
       " 'Hz',\n",
       " 'Hzgrad',\n",
       " 'I_gen_op',\n",
       " 'Ia',\n",
       " 'Ib',\n",
       " 'Ie',\n",
       " 'Im',\n",
       " 'IntVector',\n",
       " 'IntVector_swigregister',\n",
       " 'Ip',\n",
       " 'Ipdt',\n",
       " 'Ipol',\n",
       " 'Isotope',\n",
       " 'IsotopeData',\n",
       " 'IsotopeData_swigregister',\n",
       " 'Isotope_AddIsotope',\n",
       " 'Isotope_PrintListStrings',\n",
       " 'Isotope_known',\n",
       " 'Isotope_size',\n",
       " 'Isotope_swigregister',\n",
       " 'Iu',\n",
       " 'Ix',\n",
       " 'Ixpuls',\n",
       " 'Ixpuls_U',\n",
       " 'Ixpuls_sp',\n",
       " 'Ixpuls_sp_U',\n",
       " 'Ixpulse_Us',\n",
       " 'Ixy',\n",
       " 'Ixypuls',\n",
       " 'Ixypuls_U',\n",
       " 'Ixypuls_U_sp',\n",
       " 'Ixypuls_sp',\n",
       " 'Iy',\n",
       " 'Iypuls',\n",
       " 'Iypuls_U',\n",
       " 'Iypuls_sp',\n",
       " 'Iypuls_sp_U',\n",
       " 'Iypulse_Us',\n",
       " 'Iz',\n",
       " 'J_LZ_aniso',\n",
       " 'J_LZ_iso',\n",
       " 'J_error',\n",
       " 'J_fatality',\n",
       " 'J_gen',\n",
       " 'J_gen_shft',\n",
       " 'J_red_shft',\n",
       " 'J_reduced',\n",
       " 'Jcoeffs',\n",
       " 'Kex',\n",
       " 'LOp_sigma',\n",
       " 'LS_qState_bra',\n",
       " 'LS_qState_ket',\n",
       " 'LSprop',\n",
       " 'LSprop_swigregister',\n",
       " 'LU_backsub',\n",
       " 'LU_decomp',\n",
       " 'LU_invert',\n",
       " 'LWhh_CC',\n",
       " 'LWhh_CC_max',\n",
       " 'LWhh_DD',\n",
       " 'LWhh_DD_max',\n",
       " 'LWhh_QQ',\n",
       " 'LWhh_QQ_max',\n",
       " 'LWhh_RR',\n",
       " 'LWhh_RR_max',\n",
       " 'Lo',\n",
       " 'MLEV',\n",
       " 'MLEV_swigregister',\n",
       " 'MU_E',\n",
       " 'Mxy',\n",
       " 'Mxy_sp',\n",
       " 'NOE',\n",
       " 'Op_Ebase',\n",
       " 'OrderMQC',\n",
       " 'PB_dec',\n",
       " 'PI',\n",
       " 'PI2',\n",
       " 'PIx2',\n",
       " 'PLANCK',\n",
       " 'PT_DANTE',\n",
       " 'ParameterSet',\n",
       " 'ParameterSet_swigregister',\n",
       " 'Prod_base_dec',\n",
       " 'Props',\n",
       " 'PulComposite',\n",
       " 'PulComposite_swigregister',\n",
       " 'PulCycle',\n",
       " 'PulCycle_swigregister',\n",
       " 'PulSerror',\n",
       " 'PulSfatality',\n",
       " 'PulSherror',\n",
       " 'PulShfatality',\n",
       " 'PulSupCycle',\n",
       " 'PulSupCycle_swigregister',\n",
       " 'PulTrain',\n",
       " 'PulTrainSCyc',\n",
       " 'PulTrainSCyc_swigregister',\n",
       " 'PulTrain_swigregister',\n",
       " 'PulWaveform',\n",
       " 'PulWaveform_swigregister',\n",
       " 'Pulse',\n",
       " 'Pulse_swigregister',\n",
       " 'Q_red_shft',\n",
       " 'Q_reduced',\n",
       " 'R1_CC',\n",
       " 'R1_CC_max',\n",
       " 'R1_DD',\n",
       " 'R1_DD_max',\n",
       " 'R1_QQ',\n",
       " 'R1_QQ_max',\n",
       " 'R1_RR',\n",
       " 'R1_RR_max',\n",
       " 'R2_CC',\n",
       " 'R2_CC_max',\n",
       " 'R2_DD',\n",
       " 'R2_DDMQT',\n",
       " 'R2_DD_max',\n",
       " 'R2_QQ',\n",
       " 'R2_QQ_max',\n",
       " 'R2_RR',\n",
       " 'R2_RR_max',\n",
       " 'RAD2DEG',\n",
       " 'RAD2HZ',\n",
       " 'RBasic',\n",
       " 'RBasic_swigregister',\n",
       " 'RCC',\n",
       " 'RCCds',\n",
       " 'RCCrf',\n",
       " 'RCCrfds',\n",
       " 'RCD',\n",
       " 'RCDrf',\n",
       " 'RCQ',\n",
       " 'RCQrf',\n",
       " 'RDC',\n",
       " 'RDCX',\n",
       " 'RDD',\n",
       " 'RDD_Jgen',\n",
       " 'RDDds',\n",
       " 'RDDel',\n",
       " 'RDDrf',\n",
       " 'RDDrfds',\n",
       " 'RDQel',\n",
       " 'RDSel',\n",
       " 'REX_3',\n",
       " 'REX_4',\n",
       " 'REXij',\n",
       " 'REXijk',\n",
       " 'REXijkl',\n",
       " 'REXkij',\n",
       " 'REXmumu',\n",
       " 'REXrf_3',\n",
       " 'REXrf_4',\n",
       " 'REXrfij',\n",
       " 'REXrfijk',\n",
       " 'REXrfijkl',\n",
       " 'REXrfkij',\n",
       " 'REXrfmumu',\n",
       " 'RQC',\n",
       " 'RQCX',\n",
       " 'RQDel',\n",
       " 'RQQ',\n",
       " 'RQQds',\n",
       " 'RQQel',\n",
       " 'RQQrf',\n",
       " 'RQQrfds',\n",
       " 'RQSel',\n",
       " 'RRR',\n",
       " 'RRRel',\n",
       " 'RRRx',\n",
       " 'RSDel',\n",
       " 'RSQel',\n",
       " 'RSSel',\n",
       " 'R_0',\n",
       " 'R_2',\n",
       " 'R_2s',\n",
       " 'R_3',\n",
       " 'R_3s',\n",
       " 'R_4',\n",
       " 'R_4s',\n",
       " 'R_AC_0',\n",
       " 'R_AC_1',\n",
       " 'R_CC_0',\n",
       " 'R_CC_0_trans',\n",
       " 'R_CC_1',\n",
       " 'R_Euler',\n",
       " 'R_Euler_plane',\n",
       " 'R_Euler_sp',\n",
       " 'R_prop',\n",
       " 'Raxis',\n",
       " 'Raxis_sp',\n",
       " 'Rdiag_2',\n",
       " 'ReadSinc',\n",
       " 'Rel',\n",
       " 'Rel_12',\n",
       " 'Rel_12_condense',\n",
       " 'Rel_clean',\n",
       " 'Rex',\n",
       " 'Rij',\n",
       " 'Rij_el',\n",
       " 'Rij_rdm',\n",
       " 'Rijds',\n",
       " 'Rijk',\n",
       " 'Rijk_el',\n",
       " 'Rijkds',\n",
       " 'Rijkl',\n",
       " 'Rijkl_el',\n",
       " 'Rijklds',\n",
       " 'Rkij',\n",
       " 'Rkij_el',\n",
       " 'Rkijds',\n",
       " 'RlxNMRerror',\n",
       " 'RlxNMRfatal',\n",
       " 'Rmu1mu2',\n",
       " 'Rmumu',\n",
       " 'Rmumu_rdm',\n",
       " 'Rmumuds',\n",
       " 'Rodiag_2',\n",
       " 'RotSpinOp',\n",
       " 'Rplane',\n",
       " 'Rplane_sp',\n",
       " 'Rrf_0',\n",
       " 'Rrf_2',\n",
       " 'Rrf_2s',\n",
       " 'Rrf_3',\n",
       " 'Rrf_3s',\n",
       " 'Rrf_4',\n",
       " 'Rrf_4s',\n",
       " 'Rrfij',\n",
       " 'Rrfijds',\n",
       " 'Rrfijk',\n",
       " 'Rrfijkds',\n",
       " 'Rrfijkl',\n",
       " 'Rrfijklds',\n",
       " 'Rrfkij',\n",
       " 'Rrfkijds',\n",
       " 'Rrfmumu',\n",
       " 'Rspace',\n",
       " 'Rx',\n",
       " 'Rx_sp',\n",
       " 'Rxy',\n",
       " 'Rxy_sp',\n",
       " 'Rxyz',\n",
       " 'Rxyz_sp',\n",
       " 'Ry',\n",
       " 'Ry_sp',\n",
       " 'Ryz',\n",
       " 'Ryz_sp',\n",
       " 'Rz',\n",
       " 'Rz_sp',\n",
       " 'Rzx',\n",
       " 'Rzx_sp',\n",
       " 'SOpCmperror',\n",
       " 'SOpCmpfatal',\n",
       " 'Shpul_U_axis',\n",
       " 'Shpul_U_plane',\n",
       " 'Shpul_axis',\n",
       " 'Shpul_plane',\n",
       " 'Shxpuls',\n",
       " 'ShxpulsB',\n",
       " 'ShxpulsB_U',\n",
       " 'Shxpuls_U',\n",
       " 'Shxypuls',\n",
       " 'ShxypulsB',\n",
       " 'ShxypulsB_U',\n",
       " 'Shxypuls_U',\n",
       " 'Shypuls',\n",
       " 'ShypulsB',\n",
       " 'ShypulsB_U',\n",
       " 'Shypuls_U',\n",
       " 'SigmaEq',\n",
       " 'SigmaSS',\n",
       " 'SincAngle',\n",
       " 'SincAsk',\n",
       " 'SincGamB1',\n",
       " 'SincHistogram',\n",
       " 'SincIntVec',\n",
       " 'SincIso',\n",
       " 'SincNVect',\n",
       " 'SincNode',\n",
       " 'SincPhase',\n",
       " 'SincPhi',\n",
       " 'SincPrep',\n",
       " 'SincPts',\n",
       " 'SincPulDat',\n",
       " 'SincPulDat_swigregister',\n",
       " 'SincPulseHs',\n",
       " 'SincPulseU',\n",
       " 'SincPulseUs',\n",
       " 'SincPulseXUs',\n",
       " 'SincPulseYUs',\n",
       " 'SincSelectivity',\n",
       " 'SincSteps',\n",
       " 'SincStrength',\n",
       " 'SincTime',\n",
       " 'SincVect',\n",
       " 'SincWrf',\n",
       " 'SincZero',\n",
       " 'SinglePar',\n",
       " 'SinglePar_swigregister',\n",
       " 'SpinMap',\n",
       " 'SpinMap_swigregister',\n",
       " 'Spin_labels',\n",
       " 'Spul_U_axis',\n",
       " 'Spul_U_plane',\n",
       " 'Spul_axis',\n",
       " 'Spul_plane',\n",
       " 'StringVector',\n",
       " 'StringVector_swigregister',\n",
       " 'Swap',\n",
       " 'SwigPyIterator',\n",
       " 'SwigPyIterator_swigregister',\n",
       " 'Sxpuls',\n",
       " 'SxpulsB',\n",
       " 'SxpulsB_U',\n",
       " 'Sxpuls_U',\n",
       " 'Sxypuls',\n",
       " 'SxypulsB',\n",
       " 'SxypulsB_U',\n",
       " 'Sxypuls_U',\n",
       " 'Sypuls',\n",
       " 'SypulsB',\n",
       " 'SypulsB_U',\n",
       " 'Sypuls_U',\n",
       " 'T1_CC',\n",
       " 'T1_CC_max',\n",
       " 'T1_DD',\n",
       " 'T1_DD_max',\n",
       " 'T1_QQ',\n",
       " 'T1_QQ_max',\n",
       " 'T1_RR',\n",
       " 'T1_RR_max',\n",
       " 'T2_CC',\n",
       " 'T2_CC_max',\n",
       " 'T2_DD',\n",
       " 'T2_DD_max',\n",
       " 'T2_QQ',\n",
       " 'T2_QQ_max',\n",
       " 'T2_RR',\n",
       " 'T2_RR_max',\n",
       " 'TTable1D',\n",
       " 'TTable1D_swigregister',\n",
       " 'Trace',\n",
       " 'UDANTE',\n",
       " 'UOrderMQC',\n",
       " 'U_LS',\n",
       " 'U_transform',\n",
       " 'Uinv_LS',\n",
       " 'WALTZ',\n",
       " 'WALTZ_swigregister',\n",
       " 'WBRExch',\n",
       " 'WBRExch_swigregister',\n",
       " 'WF_CHIRP95',\n",
       " 'WF_DANTE',\n",
       " 'W_labels',\n",
       " 'XXnm',\n",
       " 'Xm',\n",
       " 'Xnm',\n",
       " 'Xnmp',\n",
       " 'Xnmpblk',\n",
       " 'Xnmpdblk',\n",
       " '__builtin__',\n",
       " '__builtins__',\n",
       " '__cached__',\n",
       " '__doc__',\n",
       " '__file__',\n",
       " '__loader__',\n",
       " '__name__',\n",
       " '__package__',\n",
       " '__spec__',\n",
       " '_newclass',\n",
       " '_object',\n",
       " '_pygamma',\n",
       " '_swig_getattr',\n",
       " '_swig_property',\n",
       " '_swig_repr',\n",
       " '_swig_setattr',\n",
       " '_swig_setattr_nondynamic',\n",
       " 'acquire',\n",
       " 'acquire1D',\n",
       " 'acquire1DT',\n",
       " 'acquire1D_swigregister',\n",
       " 'alphabeta',\n",
       " 'ask_DANTE',\n",
       " 'ask_Gpulse',\n",
       " 'ask_set',\n",
       " 'basis',\n",
       " 'basis_swigregister',\n",
       " 'chiD',\n",
       " 'chit',\n",
       " 'col_vector',\n",
       " 'col_vector_swigregister',\n",
       " 'commutator',\n",
       " 'complex',\n",
       " 'complex0',\n",
       " 'complex1',\n",
       " 'complex_Reiphi',\n",
       " 'complex_complex_getf',\n",
       " 'complex_dadp',\n",
       " 'complex_delim',\n",
       " 'complex_dformat',\n",
       " 'complex_digits',\n",
       " 'complex_dlength',\n",
       " 'complex_normphase',\n",
       " 'complex_scinot',\n",
       " 'complex_swigregister',\n",
       " 'complex_times_genop',\n",
       " 'complex_times_rowvector',\n",
       " 'complex_times_spinop',\n",
       " 'complex_zlength',\n",
       " 'complexi',\n",
       " 'composite',\n",
       " 'cutBlksXBlks',\n",
       " 'cutDouble',\n",
       " 'cutInt',\n",
       " 'cutParBlks',\n",
       " 'cutString',\n",
       " 'cutWhite',\n",
       " 'cvar',\n",
       " 'd_commutator',\n",
       " 'decomp',\n",
       " 'decomp_swigregister',\n",
       " 'densop',\n",
       " 'densop_swigregister',\n",
       " 'detect',\n",
       " 'detector',\n",
       " 'detector_sp',\n",
       " 'disable_blockdiag',\n",
       " 'double_times_genop',\n",
       " 'double_times_rowvector',\n",
       " 'double_times_spinop',\n",
       " 'eigensystem',\n",
       " 'eigenvalues',\n",
       " 'enable_blockdiag',\n",
       " 'ev_labels',\n",
       " 'ev_select',\n",
       " 'evolve',\n",
       " 'evolve_ip',\n",
       " 'gen_op',\n",
       " 'gen_op_swigregister',\n",
       " 'genop_divide_complex',\n",
       " 'genop_divide_float',\n",
       " 'genop_minus_matrix',\n",
       " 'genop_minus_spinop',\n",
       " 'genop_plus_matrix',\n",
       " 'genop_plus_spinop',\n",
       " 'genop_times_complex',\n",
       " 'genop_times_double',\n",
       " 'genop_times_matrix',\n",
       " 'genoprep',\n",
       " 'genoprep_swigregister',\n",
       " 'integral',\n",
       " 'invert_it',\n",
       " 'left',\n",
       " 'lsprint',\n",
       " 'lwhh',\n",
       " 'math',\n",
       " 'matrix',\n",
       " 'matrix_Header',\n",
       " 'matrix_PictDim',\n",
       " 'matrix_PrintAll',\n",
       " 'matrix_PrintCols',\n",
       " 'matrix_PrintRI',\n",
       " 'matrix_PrintRows',\n",
       " 'matrix_PrintVal',\n",
       " 'matrix_minus_genop',\n",
       " 'matrix_plus_genop',\n",
       " 'matrix_swigregister',\n",
       " 'matrix_times_genop',\n",
       " 'mqt_v',\n",
       " 'multi_sys',\n",
       " 'multi_sys_swigregister',\n",
       " 'multize',\n",
       " 'numpy',\n",
       " 'prop',\n",
       " 'prop_ip',\n",
       " 'pulseshift',\n",
       " 'pyG_FFT',\n",
       " 'pyG_IFFT',\n",
       " 'pygamma',\n",
       " 'qStateLS',\n",
       " 'qStatel',\n",
       " 'quatern',\n",
       " 'quatern_ACosPos',\n",
       " 'quatern_ASinPos',\n",
       " 'quatern_ATanPos',\n",
       " 'quatern_ValidRMx',\n",
       " 'quatern_swigregister',\n",
       " 'query_file1D',\n",
       " 'query_isotope',\n",
       " 'query_offset',\n",
       " 'query_parameter',\n",
       " 'read_Gpulse',\n",
       " 'right',\n",
       " 'row_vector',\n",
       " 'row_vector_read_pulse',\n",
       " 'row_vector_swigregister',\n",
       " 'set_DANTE',\n",
       " 'sigma_eq',\n",
       " 'sigma_ss',\n",
       " 'sigma_ss_it',\n",
       " 'solve_it',\n",
       " 'sort',\n",
       " 'sort_LOp_basis',\n",
       " 'sort_Op_basis',\n",
       " 'sort_super_op_basis',\n",
       " 'spin_op',\n",
       " 'spin_op_swigregister',\n",
       " 'spin_sys',\n",
       " 'spin_sys_swigregister',\n",
       " 'spin_system',\n",
       " 'spin_system_swigregister',\n",
       " 'spinop_divide_complex',\n",
       " 'spinop_divide_double',\n",
       " 'spinop_times_complex',\n",
       " 'spinop_times_double',\n",
       " 'spinop_times_spinop',\n",
       " 'sqt_v',\n",
       " 'st_Op',\n",
       " 'super_op',\n",
       " 'super_op_swigregister',\n",
       " 'sys_dynamic',\n",
       " 'sys_dynamic_swigregister',\n",
       " 'sys_gradz',\n",
       " 'sys_gradz_swigregister',\n",
       " 'tausD',\n",
       " 'taust',\n",
       " 'tr_select',\n",
       " 'tran_types',\n",
       " 'tref_labels',\n",
       " 'trev_labels',\n",
       " 'vecmax',\n",
       " 'wavefunction',\n",
       " 'wavefunctions',\n",
       " 'weakref',\n",
       " 'weakref_proxy',\n",
       " 'wf_labels',\n",
       " 'xiCSA',\n",
       " 'xiD',\n",
       " 'xiQ',\n",
       " 'xiRDM',\n",
       " 'zero_mqc']"
      ]
     },
     "execution_count": 14,
     "metadata": {},
     "output_type": "execute_result"
    }
   ],
   "source": [
    "ppp"
   ]
  },
  {
   "cell_type": "code",
   "execution_count": 17,
   "metadata": {},
   "outputs": [
    {
     "data": {
      "text/plain": [
       "['DANTE', 'DANTE_swigregister']"
      ]
     },
     "execution_count": 17,
     "metadata": {},
     "output_type": "execute_result"
    }
   ],
   "source": [
    "[p for p in ppp if \"dan\" in p[:3].lower()]"
   ]
  },
  {
   "cell_type": "code",
   "execution_count": 19,
   "metadata": {},
   "outputs": [
    {
     "name": "stdout",
     "output_type": "stream",
     "text": [
      "Help on function exp in module pygamma:\n",
      "\n",
      "exp(self)\n",
      "    exp(matrix self) -> matrix\n",
      "\n"
     ]
    }
   ],
   "source": [
    "help(pygamma.row_vector.exp)"
   ]
  },
  {
   "cell_type": "code",
   "execution_count": null,
   "metadata": {},
   "outputs": [],
   "source": []
  }
 ],
 "metadata": {
  "kernelspec": {
   "display_name": "Python 3",
   "language": "python",
   "name": "python3"
  },
  "language_info": {
   "codemirror_mode": {
    "name": "ipython",
    "version": 3
   },
   "file_extension": ".py",
   "mimetype": "text/x-python",
   "name": "python",
   "nbconvert_exporter": "python",
   "pygments_lexer": "ipython3",
   "version": "3.7.3"
  }
 },
 "nbformat": 4,
 "nbformat_minor": 1
}
