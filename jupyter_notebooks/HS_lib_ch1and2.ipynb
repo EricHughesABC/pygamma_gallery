{
 "cells": [
  {
   "cell_type": "code",
   "execution_count": 1,
   "metadata": {},
   "outputs": [],
   "source": [
    "import numpy as np"
   ]
  },
  {
   "cell_type": "code",
   "execution_count": 2,
   "metadata": {},
   "outputs": [],
   "source": [
    "from IPython.display import display, Math, Latex"
   ]
  },
  {
   "cell_type": "code",
   "execution_count": 6,
   "metadata": {},
   "outputs": [],
   "source": [
    "import print_latex \n",
    "\n",
    "from print_latex import printLatex"
   ]
  },
  {
   "cell_type": "code",
   "execution_count": 7,
   "metadata": {},
   "outputs": [],
   "source": [
    "import pygamma as pg"
   ]
  },
  {
   "cell_type": "markdown",
   "metadata": {},
   "source": [
    "# 1 Introduction\n",
    "\n",
    "The Hilbert space module in GAMMA lays down the foundation for performing magnetic reso-\n",
    "nance simulations using quantum mechanics. At the core are three features. First, a complete set\n",
    "of single spin operators are provided as small dimensional arrays. Second, the spin system\n",
    "class(es) allow users to set up a group of spins that define a composite spin Hilbert space. Third,\n",
    "the module provides a host of spin operators defined in the composite space of a provided spin sys-\n",
    "tem. These are built up from direct produces of single spin operators and thus general for any spin\n",
    "systems.\n",
    "\n",
    "Extending these three abilities, GAMMA provides simple functions for constructing spin base\n",
    "Hamiltonians and functions for density operator manipulations. Simple pulse, delay, and acquisi-\n",
    "tion functionality is set up in this module."
   ]
  },
  {
   "cell_type": "markdown",
   "metadata": {},
   "source": [
    "# 2 Single Spin Operators\n",
    "\n",
    "## 2.1 Overview\n",
    "\n",
    "The GAMMA module ***SpinOpSng*** contains routines to handle spin operators associated with a sin-\n",
    "gle particle. These serve as a front end to class ***spin_op*** which treats spin operators associated with\n",
    "a system of particles. Each ***SpinOpSng*** exists in the small Hilbert space of its particle whereas each\n",
    "***spin_op*** will exist in a larger composite Hilbert space produced from all its particles. The latter is\n",
    "formed from the tensor product of ***SpinOpSng*** for each of its particles.\n",
    "\n",
    "Normally GAMMA users do NOT deal with single spin operators. Rather, they deal with spin op-\n",
    "erators (class ***spin_op***) defined over spin systems. This is much more general and produces equiv-\n",
    "alent results when the spin system only contains a single spin particle."
   ]
  },
  {
   "cell_type": "markdown",
   "metadata": {},
   "source": [
    "## 2.2 Available Functions\n",
    "\n",
    "| Operator         |   Description |\n",
    "|------------------|---------------|\n",
    "| - Ie             |   - Identity single spin operator |\n",
    "| - Ix             |   - Ix single spin operator       |\n",
    "| - Iy             |   - Iy single spin operator       |\n",
    "| - Iz             |   - Iz single spin operator       |\n",
    "| - Ip             |   - I+ single spin operator       |\n",
    "| - Im             |   - I- single spin operator       |\n",
    "| - Raxis          |   - Single spin rotation matrix   |\n"
   ]
  },
  {
   "cell_type": "markdown",
   "metadata": {},
   "source": [
    "## 2.3 Basic Functions\n",
    "\n",
    "### 2.3.1  Ie\n",
    "\n",
    "#### Usage\n",
    "\n",
    "```python\n",
    "Ie( qn)\n",
    "```\n",
    "\n",
    "#### Description\n",
    "\n",
    "The function ***Ie*** is used to create a single spin identity spin operator. The function takes the dimension of the single spin Hilbert space, ***qn***, as input where ***qn = (2I+1)*** and ***I*** is the spin quantum number of the spin for which the operator applies.\n",
    "\n",
    "#### Retun Value:\n",
    "\n",
    "An identity matrix is returned.\n",
    "\n",
    "#### Example"
   ]
  },
  {
   "cell_type": "code",
   "execution_count": 8,
   "metadata": {},
   "outputs": [
    {
     "data": {
      "text/latex": [
       "\\begin{bmatrix} 1.0 & 0.0 \\\\ 0.0 & 1.0 \\\\ \\end{bmatrix}"
      ],
      "text/plain": [
       "<IPython.core.display.Latex object>"
      ]
     },
     "metadata": {},
     "output_type": "display_data"
    }
   ],
   "source": [
    "Ie = pg.Ie(2); \n",
    "printLatex(Ie)"
   ]
  },
  {
   "cell_type": "code",
   "execution_count": null,
   "metadata": {},
   "outputs": [],
   "source": [
    "print_latex(pg.Ie(2))\n",
    "print_latex(pg.Ie(3))\n",
    "print_latex(pg.Ie(4))"
   ]
  },
  {
   "cell_type": "markdown",
   "metadata": {},
   "source": [
    "#### See Also: Ix, Iy, Iz, Ip, Im\n",
    "\n",
    "#### Mathematical Basis:\n",
    "\n",
    "There are four operators which provide a basis for spin angular momentum, the set {$I_e$, $I_x$, $I_y$, $I_y$  }. Although $I_e$ is trivial (being simply the identity matrix) its provision is essential in order to complete the basis mentioned above. The matrix representation of $I_e$ for a single spin is efficiently expressed in the dimension of the Hilbert space of the\n",
    "spin itself, spanning $2(I_i+1)$. Examples are shown below for particles with spin 1/2, 1, and 3/2 respectively.\n",
    "\n"
   ]
  },
  {
   "cell_type": "markdown",
   "metadata": {},
   "source": [
    "\n",
    "\\begin{align}\n",
    "I_e \\left ( I = \\frac{1}{2} \\right ) = \n",
    "\\begin{bmatrix} 1 & 0 \\\\\n",
    "                0 & 1 \\\\  \n",
    "\\end{bmatrix} \\; \\;\n",
    "I_e \\left ( I = 1 \\right ) = \n",
    "\\begin{bmatrix} 1 & 0 & 0 \\\\\n",
    "             0 & 1 & 0\\\\\n",
    "             0 & 0 & 1 \\\\\n",
    "\\end{bmatrix} \\; \\; I_e \\left ( I = \\frac{3}{2} \\right ) = \n",
    "\\begin{bmatrix} 1 & 0 & 0 & 0\\\\\n",
    "                0 & 1 & 0 & 0 \\\\\n",
    "                0 & 0 & 1 & 0 \\\\\n",
    "                0 & 0 & 0 & 1 \\\\\n",
    "                \\end{bmatrix}\n",
    "\\end{align}\n",
    "\n",
    "\n"
   ]
  },
  {
   "cell_type": "markdown",
   "metadata": {},
   "source": [
    "The $I_e$ operators are used most frequently in the expansion of other spin operators into their composite Hilbert space forms through use of these direct products."
   ]
  },
  {
   "cell_type": "markdown",
   "metadata": {},
   "source": [
    "----"
   ]
  },
  {
   "cell_type": "markdown",
   "metadata": {},
   "source": [
    "### 2.3.2 Ix\n",
    "\n",
    "#### Usage:\n",
    "\n",
    "```python\n",
    "Ix( qn )\n",
    "```\n",
    "\n",
    "#### Description:\n",
    "\n",
    "The function ***Ix*** is used to create a single spin operator for the x-component of spin angular momentum. The function takes the dimension of the single spin Hilbert space, $qn$, as input where $qn = (2I+1)$ and $I$ is the spin quantumnumber of the spin for which the operator applies.\n",
    "\n",
    "#### Return Value:\n",
    "\n",
    "A matrix (h_matrix) is returned.\n",
    "\n",
    "#### Example"
   ]
  },
  {
   "cell_type": "code",
   "execution_count": 10,
   "metadata": {},
   "outputs": [
    {
     "data": {
      "text/latex": [
       "\\begin{bmatrix} 0.0 & 0.7071 & 0.0 \\\\ 0.7071 & 0.0 & 0.7071 \\\\ 0.0 & 0.7071 & 0.0 \\\\ \\end{bmatrix}"
      ],
      "text/plain": [
       "<IPython.core.display.Latex object>"
      ]
     },
     "metadata": {},
     "output_type": "display_data"
    }
   ],
   "source": [
    "IX = pg.Ix(3)       # The Ix spin operator for a single spin 1 particle\n",
    "printLatex(IX)"
   ]
  },
  {
   "cell_type": "markdown",
   "metadata": {},
   "source": [
    "#### See Also: Ie, Iy, Iz, Ip, Im\n",
    "\n",
    "#### Mathematical Basis:\n",
    "\n",
    "There are four operators which provide a basis for spin angular momentum, the set { $I_e$, $I_x$, $I_y$, $I_z$ }. The matrix representation of $I_x$ for a single spin is efficiently expressed in the dimension of the Hilbert space of the spin itself,\n",
    "spanning $2(I_i +1)$. Examples are shown below for particles with spin 1/2, 1, and 3/2 respectively"
   ]
  },
  {
   "cell_type": "markdown",
   "metadata": {},
   "source": [
    "\\begin{align}\n",
    "I_x \\left ( I = \\frac{1}{2} \\right ) =  \\frac{1}{2} \\begin{bmatrix} 0 & 1 \\\\\n",
    "                1 & 0 \\\\  \n",
    "\\end{bmatrix} \\;\\;\n",
    "\\space I_x \\left ( I = 1 \\right ) = \\frac {1}{\\sqrt{2}} \\begin{bmatrix} 0 & 1 & 0 \\\\\n",
    "                1 & 0 & 1\\\\\n",
    "                0 & 1 & 0 \\\\\n",
    "\\end{bmatrix} \\;\\;\n",
    "\\space I_x \\left ( I = \\frac{3}{2} \\right ) = \\frac{1}{2} \n",
    "\\begin{bmatrix} 0        & \\sqrt{3} & 0        & 0         \\\\\n",
    "                \\sqrt{3} & 0        & 2        & 0         \\\\\n",
    "                0        & 2        & 0        & \\sqrt{3}  \\\\\n",
    "                0        & 0        & \\sqrt{3} & 0         \\\\\n",
    "                \\end{bmatrix}\n",
    "\\end{align}"
   ]
  },
  {
   "cell_type": "markdown",
   "metadata": {},
   "source": [
    "The $I_x$ operators are used most frequently in the expansion of other spin operators into their composite Hilbert space forms through use of these direct products. In general, the matrix elements of the operator are given by$^1$"
   ]
  },
  {
   "cell_type": "markdown",
   "metadata": {},
   "source": [
    "\\begin{equation}\n",
    "\\left < m_i \\right | I_{ix} \\left | n_i \\right > =\n",
    "\\frac{1}{2} \n",
    "  \\left [ I_i \\left ( I_i + 1 \\right ) -\n",
    "  m_i \\left ( m_i \\pm 1 \\right )\n",
    "  \\right ]^{1/2} \\delta_{m_i,n_i \\pm 1 }\n",
    "\\end{equation}"
   ]
  },
  {
   "cell_type": "markdown",
   "metadata": {},
   "source": [
    "Other important relationships involving this operator are the following."
   ]
  },
  {
   "cell_type": "markdown",
   "metadata": {},
   "source": [
    "\\begin{equation*}\n",
    "I_x = \\frac {1}{2} \\left ( I_+ + I_- \\right ) \\; \\; \\;\n",
    "\\left [ I_x, I_y \\right ] = iI_z \\; \\; \\;\n",
    "\\left [ I_x, I_z \\right ] = -iI_y\n",
    "\\end{equation*}"
   ]
  },
  {
   "cell_type": "markdown",
   "metadata": {},
   "source": [
    "1. Goldman, page 73, equation (3.93)\n",
    "\n",
    "----"
   ]
  },
  {
   "cell_type": "markdown",
   "metadata": {},
   "source": [
    "### 2.3.3 Iy\n",
    "\n",
    "#### Usage:\n",
    "\n",
    "```python\n",
    "import pygamma as pg\n",
    "\n",
    "pg.Iy(qn)\n",
    "```\n",
    "\n",
    "#### Description:\n",
    "\n",
    "The function ***Iy*** is used to create a single spin operator for the y-component of spin angular momentum. There function takes the dimension of the single spin Hilbert space, ***qn***, as input where $qn = (2I+1)$ and ***I*** is the spin quantum\n",
    "number of the spin for which the operator applies.\n",
    "\n",
    "#### Return Value:\n",
    "\n",
    "A matrix (h_matrix) is returned.\n",
    "\n",
    "#### Example:"
   ]
  },
  {
   "cell_type": "code",
   "execution_count": 11,
   "metadata": {},
   "outputs": [
    {
     "data": {
      "text/latex": [
       "\\begin{bmatrix} 0.0 & -0.5j \\\\ 0.5j & 0.0 \\\\ \\end{bmatrix}"
      ],
      "text/plain": [
       "<IPython.core.display.Latex object>"
      ]
     },
     "metadata": {},
     "output_type": "display_data"
    }
   ],
   "source": [
    "IY = pg.Iy(2)  # The Iy spin operator for a single spin 1/2 particle\n",
    "printLatex(IY)"
   ]
  },
  {
   "cell_type": "markdown",
   "metadata": {},
   "source": [
    "#### See Also: Ie, Ix, Iz, Ip, Im"
   ]
  },
  {
   "cell_type": "markdown",
   "metadata": {},
   "source": [
    "#### mathematical Basis:\n",
    "\n",
    "There are four operators which provide a basis for spin angular momentum, the set { $I_e$, $I_x$, $I_y$, $I_z$}. The matrix representation of ***Iy*** for a single spin is efficiently expressed in the dimension of the Hilbert space of the spin itself, spanning $2(I_i +1)$. Examples are shown below for particles with spin 1/2, 1, and 3/2 respectively$^1$ ."
   ]
  },
  {
   "cell_type": "markdown",
   "metadata": {},
   "source": [
    "\\begin{align}\n",
    "I_y \\left ( I = \\frac{1}{2} \\right ) =  \\frac{1}{2} \\begin{bmatrix} 0 & -1 \\\\\n",
    "                1 &  0 \\\\  \n",
    "\\end{bmatrix} \\;\\;\n",
    "\\space I_y \\left ( I = 1 \\right ) = \\frac {1}{\\sqrt{2}} \\begin{bmatrix} 0 & -1 &  0 \\\\\n",
    "                1 &  0 & -1 \\\\\n",
    "                 0 & 1 &  0 \\\\\n",
    "\\end{bmatrix} \\;\\;\n",
    "\\space I_y \\left ( I = \\frac{3}{2} \\right ) = \\frac{1}{2} \n",
    "\\begin{bmatrix} 0        & -\\sqrt{3} & 0        & 0         \\\\\n",
    "                \\sqrt{3} & 0         & -2       & 0         \\\\\n",
    "                0        & 2         & 0        & -\\sqrt{3} \\\\\n",
    "                0        & 0         & \\sqrt{3} & 0         \\\\\n",
    "                \\end{bmatrix}\n",
    "\\end{align}"
   ]
  },
  {
   "cell_type": "markdown",
   "metadata": {},
   "source": [
    "The ***Iy*** operators are used most frequently in the expansion of other spin operators into their composite Hilbert space forms through use of these direct products. In general, the matrix elements of the operator are given by$^2$"
   ]
  },
  {
   "cell_type": "markdown",
   "metadata": {},
   "source": [
    "\\begin{equation}\n",
    "\\left < m_i \\right | I_{iy} \\left | n_i \\right > =\n",
    "\\pm \\frac{1}{2} \n",
    "  \\left [ I_i \\left ( I_i + 1 \\right ) -\n",
    "  m_i \\left ( m_i \\pm 1 \\right )\n",
    "  \\right ]^{1/2} \\delta_{m_i,n_i \\pm 1 }\n",
    "\\end{equation}"
   ]
  },
  {
   "cell_type": "markdown",
   "metadata": {},
   "source": [
    "Other important relationships involving this operator are the following."
   ]
  },
  {
   "cell_type": "markdown",
   "metadata": {},
   "source": [
    "\\begin{equation*}\n",
    "I_y = \\frac {i}{2} \\left ( I_+ - I_- \\right ) \\; \\; \\;\n",
    "\\left [ I_y, I_x \\right ] = -iI_z \\; \\; \\;\n",
    "\\left [ I_y, I_z \\right ] = iI_x\n",
    "\\end{equation*}"
   ]
  },
  {
   "cell_type": "markdown",
   "metadata": {},
   "source": [
    "1. These leave out the units of hbar, see Schiff, page 203.\n",
    "2. Goldman, page 73, equation (3.93)\n",
    "\n",
    "-----"
   ]
  },
  {
   "cell_type": "markdown",
   "metadata": {},
   "source": [
    "### 2.3.4 Iz\n",
    "\n",
    "#### Usage:\n",
    "\n",
    "```python\n",
    "import pygamma as pg\n",
    "pg.Iz(qn)\n",
    "```\n",
    "\n",
    "#### Desciption:\n",
    "\n",
    "The function ***Iz*** is used to create a single spin operator for the z-component of spin angular momentum. There function takes the dimension of the single spin Hilbert space, ***qn***, as input where $qn = (2I+1)$ and ***I*** is the spin quantum number of the spin for which the operator applies.\n",
    "\n",
    "#### Return Value:\n",
    "\n",
    "A diagonal matrix (d_matix) is returned.\n",
    "\n",
    "##### Example:"
   ]
  },
  {
   "cell_type": "code",
   "execution_count": 12,
   "metadata": {},
   "outputs": [
    {
     "data": {
      "text/latex": [
       "\\begin{bmatrix} 0.5 & 0.0 \\\\ 0.0 & -0.5 \\\\ \\end{bmatrix}"
      ],
      "text/plain": [
       "<IPython.core.display.Latex object>"
      ]
     },
     "metadata": {},
     "output_type": "display_data"
    }
   ],
   "source": [
    "IZ = pg.Iz(2)  # The Iz spin operator for a single spin 1/2 particle\n",
    "\n",
    "printLatex(IZ)"
   ]
  },
  {
   "cell_type": "markdown",
   "metadata": {},
   "source": [
    "#### See Also: Ie, Ix, Iy, Ip, Im\n",
    "\n",
    "#### Mathematical Basis:\n",
    "\n",
    "There are four operators which provide a basis for spin angular momentum, the set {$I_e$, $I_x$, $Iy$, $I_z$}. The matrix representation of $I_z$ for a single spin is efficiently expressed in the dimension of the Hilbert space of the spin itself, spanning $2(I_i +1)$. Examples are shown below for particles with spin 1/2, 1, and 3/2 respectively$^1$."
   ]
  },
  {
   "cell_type": "markdown",
   "metadata": {},
   "source": [
    "\\begin{align}\n",
    "I_{iz} \\left ( I_i = \\frac{1}{2} \\right ) &=  \\frac{1}{2} \\begin{bmatrix} 1 &  0 \\\\\n",
    "                0 & -1 \\\\\n",
    "\\end{bmatrix} \\;\\;\n",
    "\\space I_{iz} \\left ( I = 1 \\right ) &= \n",
    "\\begin{bmatrix} 1 & 0 &  0 \\\\\n",
    "                0 & 0 &  0 \\\\\n",
    "                0 & 0 & -1 \\\\\n",
    "\\end{bmatrix} \\;\\;\n",
    "\\space I_{iz} \\left ( I_i = \\frac{3}{2} \\right ) &= \\frac{1}{2} \\begin{bmatrix} 3 & 0 &  0 &  0 \\\\\n",
    "                0 & 1 &  0 &  0 \\\\\n",
    "                0 & 0 & -1 &  0 \\\\\n",
    "                0 & 0 &  0 & -3 \\\\\n",
    "\\end{bmatrix}\n",
    "\\end{align}"
   ]
  },
  {
   "cell_type": "markdown",
   "metadata": {},
   "source": [
    "The $I_z$ operators are used most frequently in the expansion of other spin operators into their composite Hilbert space forms through use of these direct products. In general, the matrix elements of the operator are given by$^2$"
   ]
  },
  {
   "cell_type": "markdown",
   "metadata": {},
   "source": [
    "\\begin{equation}\n",
    "\\left < m_i \\right | I_{iz} \\left | n_i \\right > =\n",
    "m \\delta_{m_in_i} =\n",
    "  \\left [ I \\left ( 1 - \\alpha \\right ) \\right ] \\delta_{m_i,n_i \\pm 1 }\n",
    "\\end{equation}"
   ]
  },
  {
   "cell_type": "markdown",
   "metadata": {},
   "source": [
    "Other important relationships involving this operator are the following.\n",
    "\n",
    "\\begin{equation*}\n",
    "\\left [ I_{iz}, I_{ix} \\right ] = iI_{iy} \\; \\; \\;\n",
    "\\left [ I_{iz}, I_{i+} \\right ] = iI_{i+} \\; \\; \\;\n",
    "\\left [ I_{iz}, I_{i-} \\right ] = iI_{i-} \n",
    "\\end{equation*}"
   ]
  },
  {
   "cell_type": "markdown",
   "metadata": {},
   "source": [
    "1. These leave out the units of hbar, see Schiff, page 203.\n",
    "2. Goldman, page 73, equation (3.93).\n",
    "\n",
    "------"
   ]
  },
  {
   "cell_type": "markdown",
   "metadata": {},
   "source": [
    "### 2.3.5 Ip\n",
    "\n",
    "#### Usage:\n",
    "\n",
    "```python\n",
    "import pygamma as pg\n",
    "\n",
    "pg.Ip(qn)\n",
    "```\n",
    "#### Description:\n",
    "\n",
    "The function ***Ip*** is used to create a single spin s raising operator $I_+$ . There function takes the dimension of the single spin Hilbert space, ***qn***, as input where $qn = (2I+1)$ and ***I*** is the spin quantum number of the spin for which the operator applies.\n",
    "\n",
    "#### Return Value:\n",
    "\n",
    "A matrix (n_matrix) is returned.\n",
    "\n",
    "#### Example:"
   ]
  },
  {
   "cell_type": "code",
   "execution_count": 13,
   "metadata": {},
   "outputs": [
    {
     "data": {
      "text/latex": [
       "\\begin{bmatrix} 0.0 & 1.0 \\\\ 0.0 & 0.0 \\\\ \\end{bmatrix}"
      ],
      "text/plain": [
       "<IPython.core.display.Latex object>"
      ]
     },
     "metadata": {},
     "output_type": "display_data"
    }
   ],
   "source": [
    "IP = pg.Ip(2)  # The I+ spin operator for a single spin 1/2 particle\n",
    "\n",
    "printLatex(IP)"
   ]
  },
  {
   "cell_type": "markdown",
   "metadata": {},
   "source": [
    "#### See Also: Ie, Iy, Iz, Ix, Im"
   ]
  },
  {
   "cell_type": "markdown",
   "metadata": {},
   "source": [
    "#### Mathematical Basis:\n",
    "\n",
    "The raising operator $I_+$ is defined to work on state $ \\left |I,m \\right >$ as$^1$\n",
    "\n",
    "\\begin{equation*}\n",
    "I_+ \\left | I,m \\right > =\n",
    "\\left [ I \\left ( I+1 \\right ) - m \\left ( m+1 \\right ) \\right ] ^{1/2} \\left | i,m+1 \\right >\n",
    "\\end{equation*}\n",
    "\n",
    "having matrix elements\n",
    "\n",
    "\\begin{equation*}\n",
    "\\left < I,m' \\right | I_+ \\left | i,m \\right > =\n",
    "\\left [ I \\left ( I+1 \\right ) - m \\left ( m+1 \\right ) \\right ]^{1/2} \\delta_{m+1,m'}\n",
    "\\end{equation*}\n",
    "\n",
    "The matrix representation of $I_+$ for a single spin i, $I_{i+}$, is efficiently expressed in the dimension of the Hilbert space of the spin itself, spanning $2(I_i+1)$. Examples are shown below for a spin 1/2, spin 1  and a spin 3/2 particle\n",
    "\n",
    "\\begin{align}\n",
    "I_{i+} \\left ( I_i = \\frac{1}{2} \\right ) =  \n",
    "\\begin{bmatrix} 0 & 1 \\\\\n",
    "                0 & 0 \\\\  \n",
    "\\end{bmatrix} \\;\\;\n",
    "\\space I_{i+} \\left ( I_i = 1 \\right ) = \n",
    "\\sqrt{2}\n",
    "\\begin{bmatrix} 0 & 1 & 0 \\\\\n",
    "                0 & 0 & 1 \\\\\n",
    "                0 & 0 & 0 \\\\\n",
    "\\end{bmatrix} \\;\\ \n",
    "\\space I_{i+} \\left ( I_i = \\frac{3}{2} \\right ) =  \n",
    "\\begin{bmatrix} 0 & \\sqrt{3} &  0 &  0        \\\\\n",
    "                0 & 0        &  2 &  0        \\\\\n",
    "                0 & 0        &  0 &  \\sqrt{3} \\\\\n",
    "                0 & 0        &  0 & 0         \\\\\n",
    "\\end{bmatrix}\n",
    "\\end{align}\n",
    "\n",
    "Other useful relationships involving this operator are the following.\n",
    "\n",
    "\\begin{equation*}\n",
    "I_{i+} = \\left ( I_{ix}+iI_{iy} \\right ) \\; \\; \\;\n",
    "\\left [ I_{i+}, I_{iz} \\right ] = -I_{i+} \\; \\; \\;\n",
    "\\left [ I_{i+}, I_{i-} \\right ] = 2I_{iz} \\; \\; \\;\n",
    "I_{i+} = \\left ( I_{i-} \\right ) ^{\\dagger}\n",
    "\\end{equation*}\n",
    "\n",
    "1. Schiff, pg. 202, equation (27.25).\n",
    "\n",
    "----"
   ]
  },
  {
   "cell_type": "markdown",
   "metadata": {},
   "source": [
    "### 2.3.6 Im\n",
    "\n",
    "#### Usage:\n",
    "\n",
    "```python\n",
    "import pygamma as pg\n",
    "\n",
    "pg.Im(qn)\n",
    "```\n",
    "\n",
    "#### Description:\n",
    "\n",
    "The function ***Im*** is used to create a single spin lowering operator $I_-$ . There function takes the dimension of the single spin Hilbert space, ***qn***, as input where ***qn = (2I+1)*** and ***I*** is the spin quantum number of the spin for which the operator applies.\n",
    "\n",
    "#### Return Value:\n",
    "\n",
    "A matrix (n_matrix) is returned.\n",
    "\n",
    "#### Example:"
   ]
  },
  {
   "cell_type": "code",
   "execution_count": 14,
   "metadata": {},
   "outputs": [
    {
     "data": {
      "text/latex": [
       "\\begin{bmatrix} 0.0 & 0.0 \\\\ 1.0 & 0.0 \\\\ \\end{bmatrix}"
      ],
      "text/plain": [
       "<IPython.core.display.Latex object>"
      ]
     },
     "metadata": {},
     "output_type": "display_data"
    }
   ],
   "source": [
    "IM = pg.Im(2)  # The I- spin operator for a single spin 1/2 particle\n",
    "\n",
    "printLatex(IM)"
   ]
  },
  {
   "cell_type": "markdown",
   "metadata": {},
   "source": [
    "#### See Also: Ie, Ix, Iy, Iz, Ip\n",
    "\n",
    "##### Mathematical Basis:\n",
    "\n",
    "The lowering operator $I_-$ is defined to work on state ***|I,m>*** as$^1$\n",
    "\n",
    "\\begin{equation*}\n",
    "I_- \\left | I,m \\right > = \\left [ I \\left ( I+1 \\right ) - m \\left ( m-1 \\right ) \\right ] ^{1/2} \\left | I,m-1 \\right >\n",
    "\\end{equation*}\n",
    "\n",
    "having matrix elements\n",
    "\n",
    "\\begin{equation*}\n",
    "\\left < I,m' \\left | I_- \\right | I,m \\right > =\n",
    "\\left [ I \\left ( I+1 \\right ) - m \\left ( m-1 \\right ) \\right ]^{1/2} \\delta_{m-1,m'}\n",
    "\\end{equation*}\n",
    "\n",
    "The matrix representation of $I_-$ for a single spin $i$, $I_-$, is efficiently expressed in the dimension of the Hilbert space of the spin itself, spanning $2(I_i +1)$. Examples are shown below for particles with spin angular momentum 1/2, 1,\n",
    "and 3/2 respectively.\n",
    "\n",
    "\\begin{align}\n",
    "I_{i-} \\left ( I_i = \\frac{1}{2} \\right ) =   \n",
    "\\begin{bmatrix} 0 & 0 \\\\\n",
    "                1 & 0 \\\\  \n",
    "\\end{bmatrix} \\;\\;\n",
    "\\space I_{i-} \\left ( I_i = 1 \\right ) = \\sqrt{2}\n",
    "\\begin{bmatrix} 0 & 0 & 0 \\\\\n",
    "                1 & 0 & 0 \\\\\n",
    "                0 & 1 & 0 \\\\\n",
    "\\end{bmatrix} \\;\\ \n",
    "\\space I_{i-} \\left ( I_i = \\frac{3}{2} \\right ) =  \n",
    "\\begin{bmatrix} 0        & 0 &  0        &  0 \\\\\n",
    "                \\sqrt{3} & 0 &  0        &  0 \\\\\n",
    "                0        & 2 &  0        &  0 \\\\\n",
    "                0        & 0 &  \\sqrt{3} &  0 \\\\\n",
    "\\end{bmatrix}\n",
    "\\end{align}\n",
    "\n",
    "\\begin{equation*}\n",
    "I_{i-} = \\left ( I_{ix}-iI_{iy} \\right ) \\; \\; \\;\n",
    "\\left [ I_{i-}, I_{iz} \\right ] = I_{i-} \\; \\; \\;\n",
    "\\left [ I_{i+}, I_{i-} \\right ] = 2I_{iz} \\; \\; \\;\n",
    "I_{i-} = \\left ( I_{i+} \\right ) ^{\\dagger}\n",
    "\\end{equation*}\n",
    "\n",
    "1. Schiff, pg. 202, equation (27.25).\n",
    "\n",
    "----"
   ]
  },
  {
   "cell_type": "markdown",
   "metadata": {},
   "source": [
    "### 2.3.7 Raxis\n",
    "\n",
    "#### Usage:\n",
    "\n",
    "```python\n",
    "import pygamma as pg\n",
    "\n",
    "pg.Raxis( qn, beta, axis )\n",
    "```\n",
    "\n",
    "#### Description:\n",
    "\n",
    "The function ***Raxis*** is used to create a single spin rotation operator, $R_u(\\beta)$, for rotating spin angular momentum about the ***u*** -axis by the angle $\\beta$. This is defined by the formula\n",
    "\n",
    "\\begin{equation*}\n",
    "R_u \\left ( \\beta \\right ) = \\exp \\left ( -i \\beta I_u \\right )\n",
    "\\end{equation*}\n",
    "\n",
    "where $I_u$ is an appropriate single spin angular momentum operator and $u$ one of the three Cartesian axes.\n",
    "\n",
    "#### Return Value:\n",
    "\n",
    "A matrix is returned.\n",
    "\n",
    "#### Example:"
   ]
  },
  {
   "cell_type": "code",
   "execution_count": 15,
   "metadata": {},
   "outputs": [
    {
     "data": {
      "text/latex": [
       "\\begin{bmatrix} 0.7071 & -0.7071j \\\\ -0.7071j & 0.7071 \\\\ \\end{bmatrix}"
      ],
      "text/plain": [
       "<IPython.core.display.Latex object>"
      ]
     },
     "metadata": {},
     "output_type": "display_data"
    }
   ],
   "source": [
    "Rx90 = pg.Raxis(2, 90.0, 'x') # Rotation op. for a spin 1/2 particle, 90 deg. about x\n",
    "\n",
    "printLatex(Rx90)"
   ]
  },
  {
   "cell_type": "markdown",
   "metadata": {},
   "source": [
    "#### Mathematical Basis:\n",
    "\n",
    "The formulae used for a single spint 1/2 particle are$^1$ ( using $C \\beta = \\cos \\left ( \\beta / 2 \\right )$, $S \\beta = \\sin \\left ( \\beta / 2 \\right )$ )\n",
    "\n",
    "\n",
    "\\begin{align}\n",
    "R_{ix}^{(1/2)} \\left ( \\beta \\right ) =\n",
    "\\begin{bmatrix} \n",
    "  C \\beta & -i S \\beta \\\\\n",
    "  -i S \\beta & C \\beta \\\\  \n",
    "\\end{bmatrix} \\;\\;\n",
    "R_y \\left ( \\beta \\right ) =\n",
    "\\begin{bmatrix}\n",
    "  C \\beta & -S \\beta \\\\\n",
    "  S \\beta &  C \\beta \\\\\n",
    "\\end{bmatrix} \\;\\;\n",
    "R_z \\left ( \\beta \\right ) =\n",
    "\\begin{bmatrix}\n",
    "e^{-i \\beta / 2} & 0 \\\\\n",
    "0 & e^{i \\beta / 2} \\\\\n",
    "\\end{bmatrix}\n",
    "\\end{align}\n",
    "\n",
    "Unfortunately, there is currently no similar simple formula for a spin with I > 1/2 and these are computed by actual exponentiation of the operator. A few specific rotation matrices one will obtain from this function are as follows."
   ]
  },
  {
   "cell_type": "code",
   "execution_count": 16,
   "metadata": {},
   "outputs": [
    {
     "name": "stdout",
     "output_type": "stream",
     "text": [
      "Rx60 = \n"
     ]
    },
    {
     "data": {
      "text/latex": [
       "\\begin{bmatrix} 0.866 & -0.5j \\\\ -0.5j & 0.866 \\\\ \\end{bmatrix}"
      ],
      "text/plain": [
       "<IPython.core.display.Latex object>"
      ]
     },
     "metadata": {},
     "output_type": "display_data"
    },
    {
     "name": "stdout",
     "output_type": "stream",
     "text": [
      "Rx90 =\n"
     ]
    },
    {
     "data": {
      "text/latex": [
       "\\begin{bmatrix} 0.7071 & -0.7071j \\\\ -0.7071j & 0.7071 \\\\ \\end{bmatrix}"
      ],
      "text/plain": [
       "<IPython.core.display.Latex object>"
      ]
     },
     "metadata": {},
     "output_type": "display_data"
    },
    {
     "name": "stdout",
     "output_type": "stream",
     "text": [
      "Rx180 =\n"
     ]
    },
    {
     "data": {
      "text/latex": [
       "\\begin{bmatrix} 0.0 & -1.0j \\\\ -1.0j & 0.0 \\\\ \\end{bmatrix}"
      ],
      "text/plain": [
       "<IPython.core.display.Latex object>"
      ]
     },
     "metadata": {},
     "output_type": "display_data"
    }
   ],
   "source": [
    "print(\"Rx60 = \")\n",
    "printLatex(pg.Raxis(2,60., 'x'))\n",
    "print(\"Rx90 =\" )\n",
    "printLatex(pg.Raxis(2,90., 'x'))\n",
    "print(\"Rx180 =\")\n",
    "printLatex(pg.Raxis(2,180., 'x'))"
   ]
  },
  {
   "cell_type": "code",
   "execution_count": 17,
   "metadata": {},
   "outputs": [
    {
     "name": "stdout",
     "output_type": "stream",
     "text": [
      "Ry60 = \n"
     ]
    },
    {
     "data": {
      "text/latex": [
       "\\begin{bmatrix} 0.866 & -0.5 \\\\ 0.5 & 0.866 \\\\ \\end{bmatrix}"
      ],
      "text/plain": [
       "<IPython.core.display.Latex object>"
      ]
     },
     "metadata": {},
     "output_type": "display_data"
    },
    {
     "name": "stdout",
     "output_type": "stream",
     "text": [
      "Ry90 =\n"
     ]
    },
    {
     "data": {
      "text/latex": [
       "\\begin{bmatrix} 0.7071 & -0.7071 \\\\ 0.7071 & 0.7071 \\\\ \\end{bmatrix}"
      ],
      "text/plain": [
       "<IPython.core.display.Latex object>"
      ]
     },
     "metadata": {},
     "output_type": "display_data"
    },
    {
     "name": "stdout",
     "output_type": "stream",
     "text": [
      "Ry180 =\n"
     ]
    },
    {
     "data": {
      "text/latex": [
       "\\begin{bmatrix} 0.0 & -1.0 \\\\ 1.0 & 0.0 \\\\ \\end{bmatrix}"
      ],
      "text/plain": [
       "<IPython.core.display.Latex object>"
      ]
     },
     "metadata": {},
     "output_type": "display_data"
    }
   ],
   "source": [
    "print(\"Ry60 = \")\n",
    "printLatex(pg.Raxis(2,60., 'y'))\n",
    "print(\"Ry90 =\" )\n",
    "printLatex(pg.Raxis(2,90., 'y'))\n",
    "print(\"Ry180 =\")\n",
    "printLatex(pg.Raxis(2,180., 'y'))"
   ]
  },
  {
   "cell_type": "code",
   "execution_count": 18,
   "metadata": {},
   "outputs": [
    {
     "name": "stdout",
     "output_type": "stream",
     "text": [
      "Rz60 = \n"
     ]
    },
    {
     "data": {
      "text/latex": [
       "\\begin{bmatrix} (0.866-0.5j) & 0.0 \\\\ 0.0 & (0.866+0.5j) \\\\ \\end{bmatrix}"
      ],
      "text/plain": [
       "<IPython.core.display.Latex object>"
      ]
     },
     "metadata": {},
     "output_type": "display_data"
    },
    {
     "name": "stdout",
     "output_type": "stream",
     "text": [
      "Rz90 =\n"
     ]
    },
    {
     "data": {
      "text/latex": [
       "\\begin{bmatrix} (0.7071-0.7071j) & 0.0 \\\\ 0.0 & (0.7071+0.7071j) \\\\ \\end{bmatrix}"
      ],
      "text/plain": [
       "<IPython.core.display.Latex object>"
      ]
     },
     "metadata": {},
     "output_type": "display_data"
    },
    {
     "name": "stdout",
     "output_type": "stream",
     "text": [
      "Rz180 =\n"
     ]
    },
    {
     "data": {
      "text/latex": [
       "\\begin{bmatrix} -1.0j & 0.0 \\\\ 0.0 & 1.0j \\\\ \\end{bmatrix}"
      ],
      "text/plain": [
       "<IPython.core.display.Latex object>"
      ]
     },
     "metadata": {},
     "output_type": "display_data"
    }
   ],
   "source": [
    "print(\"Rz60 = \")\n",
    "printLatex(pg.Raxis(2,60., 'z'))\n",
    "print(\"Rz90 =\" )\n",
    "printLatex(pg.Raxis(2,90., 'z'))\n",
    "print(\"Rz180 =\")\n",
    "printLatex(pg.Raxis(2,180., 'z'))"
   ]
  },
  {
   "cell_type": "code",
   "execution_count": null,
   "metadata": {},
   "outputs": [],
   "source": []
  }
 ],
 "metadata": {
  "kernelspec": {
   "display_name": "Python 3",
   "language": "python",
   "name": "python3"
  },
  "language_info": {
   "codemirror_mode": {
    "name": "ipython",
    "version": 3
   },
   "file_extension": ".py",
   "mimetype": "text/x-python",
   "name": "python",
   "nbconvert_exporter": "python",
   "pygments_lexer": "ipython3",
   "version": "3.7.3"
  }
 },
 "nbformat": 4,
 "nbformat_minor": 2
}
