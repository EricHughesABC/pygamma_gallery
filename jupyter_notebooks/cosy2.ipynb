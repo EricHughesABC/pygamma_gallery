{
 "cells": [
  {
   "cell_type": "code",
   "execution_count": 1,
   "metadata": {},
   "outputs": [],
   "source": [
    "\"\"\"/* cosyrush.cc ****************************************************************-*-c++-*-\n",
    "**\n",
    "**\n",
    "**\n",
    "Example program for the GAMMA Project\n",
    "**\n",
    "**\n",
    "**\n",
    "** The Program reads a spin system (number of spins, chemical shifts and\n",
    "**\n",
    "** J-coupling constants) from a file and simulates a normal COSY experiment **\n",
    "** using RuSH for quadrature detection in t1\n",
    "**\n",
    "**\n",
    "**\n",
    "** NOTE: Set to work only on HOMONUCLEAR systems\n",
    "**\n",
    "**\n",
    "**\n",
    "**************************************************************************************** */\n",
    "#include <gamma.h>\n",
    "//\n",
    "Define Constants\n",
    "const int t1pts = 512;\n",
    "const int t2pts = 512;\n",
    "// Number of t1 points\n",
    "// Number of t2 points\n",
    "//\n",
    "Begin Program\n",
    "main (int argc, char* argv[])\n",
    "{\n",
    "cout << “\\Homonuclear COSY Simulation with RuSH Mode\\n”;\n",
    "//\n",
    "Read in the Spin System\n",
    "String filename;\n",
    "query_parameter(argc, argv, 1,\n",
    "“\\nSpin system filename? “, filename);\n",
    "spin_system sys;\n",
    "sys.read(filename);\n",
    "//\n",
    "22\n",
    "1.5\n",
    "COSY with RuSH Method\n",
    "// Name of spin system file\n",
    "// Get filename from command\n",
    "// line or ask for it\n",
    "// Declare spin system sys\n",
    "// Read system from filename\n",
    "gen_op Upx = Ixypuls_U(sys,0.0,90.0);\n",
    "gen_op Upy = Ixypuls_U(sys,90.0,90.0);\n",
    "gen_op Ud1 = prop(H, t1dt);\n",
    "gen_op D = Fm(sys);\n",
    "gen_op sigma0, sigma1, sigma2, sigma3;\n",
    "block_1D t2BLK(t2pts);\n",
    "//\n",
    "// Propagator for x pulse\n",
    "// Propagator for y pulse\n",
    "// Propagator t1 delay increment\n",
    "// Detector to F-\n",
    "// Set up density matrices\n",
    "// Set 1D block for output\n",
    "Pulse Sequence and I/O Setup\n",
    "File cosyRe, cosyIm;\n",
    "// Declare and open two files\n",
    "cosyRe.open(“cosyRuSH.Redat”,io_writeonly, a_create);\n",
    "cosyIm.open(“cosyRuSH.Imdat”,io_writeonly, a_create);\n",
    "//\n",
    "Apply Pulse Sequence\n",
    "gen_op sigma0 = sigma_eq(sys);\n",
    "gen_op sigma1 = evolve(sigma0, Upx);\n",
    "gen_op sigma2 = sigma1;\n",
    "for (int t1=0; t1<t1pts; t1++)\n",
    "{\n",
    "sigma3 = evolve(sigma2, Upx);\n",
    "FID(sigma3,D,H,t2dt,t2pts,t2BLK);\n",
    "Felix(cosyRe, t2BLK);\n",
    "sigma3 = evolve(sigma2, Upy);\n",
    "FID(sigma3,D,H,t2dt,t2pts,t2BLK);\n",
    "Felix(cosyIm, t2BLK);\n",
    "evolve_ip(sigma2, Ud1);\n",
    "}\n",
    "cosyRe.close();\n",
    "cosyIm.close();\n",
    "}\n",
    "// Set density matrix equilibrium\n",
    "// Apply first (PI/2)x pulse\n",
    "// Initial sigma2 (t1 = 0)\n",
    "// Loop over all t1 increments\n",
    "// Apply second (PI/2)x pulse\n",
    "//Acquire data for reals\n",
    "// Output block for reals: Felix\n",
    "// Apply second (PI/2)y pulse\n",
    "//Acquire data for imaginaries\n",
    "// Output block for imags: Felix\n",
    "//evolution to next t1\n",
    "// Close files\n",
    "Set Offsets and Spectral Widths\n",
    "double offset = sys.center();\n",
    "sys.offsetShifts(offset);\n",
    "double NyqF = sys.Nyquist(0, 1.4);\n",
    "double t2dt = 1.0/(2.0*NyqF);\n",
    "double t1dt = t2dt;\n",
    "//\n",
    "// Find approx. spectrum center\n",
    "// Offset shifts so centered\n",
    "// Approximate Nyquist frequency\n",
    "// t2 time increment\n",
    "// t1 time increment\n",
    "Set Up Hamiltonian\n",
    "char J;\n",
    "query_parameter(argc, argv, 2,\n",
    "“\\nWeak or strong coupling (w/s)?”, J);\n",
    "gen_op H;\n",
    "if (J == ‘w’)\n",
    "H = Hcs(sys) + HJw(sys);\n",
    "else\n",
    "H = Hcs(sys) + HJ(sys);\n",
    "\"\"\";"
   ]
  },
  {
   "cell_type": "code",
   "execution_count": 2,
   "metadata": {},
   "outputs": [],
   "source": [
    "import pygamma\n",
    "import pylab\n",
    "import numpy\n",
    " \n",
    "#import nmrglue\n",
    "from pygamma import spin_system, Hcs, HJw, HJ, Fm, gen_op, sigma_eq, Iypuls, evolve, FID, row_vector,Iypuls_U, evolve_ip\n",
    "\n",
    "from scipy import fftpack\n",
    "\n",
    "import matplotlib.pyplot as plt\n",
    "from matplotlib.ticker import NullFormatter\n",
    "\n",
    "%matplotlib inline"
   ]
  },
  {
   "cell_type": "markdown",
   "metadata": {},
   "source": [
    "### DEFINE SYSTEM & NMR PARAMETERS"
   ]
  },
  {
   "cell_type": "code",
   "execution_count": 3,
   "metadata": {
    "collapsed": true
   },
   "outputs": [],
   "source": [
    "dt1 = 0.001 # t1 time increment\n",
    "dt2 = 0.001 # t2 time increment\n",
    "t1pts = 1024 # points on t1 axis\n",
    "t2pts = 1024 # points on t2 axis"
   ]
  },
  {
   "cell_type": "code",
   "execution_count": 4,
   "metadata": {},
   "outputs": [
    {
     "name": "stdout",
     "output_type": "stream",
     "text": [
      "Spin Index :      0            1            2      \n",
      "Isotope    :      1H           1H           1H     \n",
      "Momentum   :     1/2          1/2          1/2     \n",
      "Shifts     :     0.00 Hz      0.00 Hz      0.00 Hz \n",
      "           :     0.50 ppm     0.25 ppm     0.10 ppm\n",
      "Js Spin 0  :                 10.00 Hz      0.00 Hz \n",
      "Js Spin 1  :                              15.00 Hz \n",
      "Omega      :   400.00 MHz   400.00 MHz   400.00 MHz\n",
      "\n"
     ]
    }
   ],
   "source": [
    "sys=spin_system()     # define the system, read in\n",
    "sys.read(\"cosy1.sys\") # from disk\n",
    "\n",
    "print sys"
   ]
  },
  {
   "cell_type": "markdown",
   "metadata": {},
   "source": [
    "### Set Offsets and Spectral Widths"
   ]
  },
  {
   "cell_type": "code",
   "execution_count": 5,
   "metadata": {
    "collapsed": true
   },
   "outputs": [],
   "source": [
    "\"\"\"\n",
    "Set Offsets and Spectral Widths\n",
    "\n",
    "double offset = sys.center();\n",
    "sys.offsetShifts(offset);\n",
    "double NyqF = sys.Nyquist(0, 1.4);\n",
    "double t2dt = 1.0/(2.0*NyqF);\n",
    "double t1dt = t2dt;\n",
    "\"\"\";"
   ]
  },
  {
   "cell_type": "code",
   "execution_count": 6,
   "metadata": {},
   "outputs": [
    {
     "name": "stdout",
     "output_type": "stream",
     "text": [
      "0.0047619047619 210.0\n"
     ]
    }
   ],
   "source": [
    "offset = sys.center();\n",
    "sys.offsetShifts(offset);\n",
    "NyqF = sys.Nyquist(0, 1,4);\n",
    "t2dt = 1.0/(2.0*NyqF);\n",
    "t1dt = t2dt;\n",
    "\n",
    "print t1dt,1./t1dt"
   ]
  },
  {
   "cell_type": "markdown",
   "metadata": {},
   "source": [
    "### SET UP NECESSARY VARIABLES\n"
   ]
  },
  {
   "cell_type": "code",
   "execution_count": 9,
   "metadata": {},
   "outputs": [],
   "source": [
    "tmp = row_vector(t2pts)                                    #block_1D tmp(t2pts); // 1D-data block storage\n",
    "data1 = numpy.zeros((t1pts,t2pts), dtype=numpy.complex128) #block_2D data(t1pts,t2pts); // 2D-data matrix storage\n",
    "data2 = numpy.zeros((t1pts,t2pts), dtype=numpy.complex128) #block_2D data(t1pts,t2pts); // 2D-data matrix storage\n",
    "\n",
    "H = Hcs(sys)                                  # // Hamiltonian, weak coupling\n",
    "#H = Hcs(sys)+ HJw(sys)                                    # // Hamiltonian, weak coupling\n",
    "#H = Hcs(sys)+ HJ(sys)                                    # // Hamiltonian, strong coupling\n",
    "\n",
    "\n",
    "Upx = pygamma.Ixypuls_U(sys, 0.0,90.0);\n",
    "Upy = pygamma.Ixypuls_U(sys,90.0,90.0);\n",
    "Ud1 = pygamma.prop(H, t1dt);\n",
    "D = gen_op(Fm(sys))"
   ]
  },
  {
   "cell_type": "markdown",
   "metadata": {},
   "source": [
    "### APPLY PULSE SEQUENCE"
   ]
  },
  {
   "cell_type": "code",
   "execution_count": 10,
   "metadata": {},
   "outputs": [],
   "source": [
    "\"\"\"Apply Pulse Sequence\n",
    "gen_op sigma0 = sigma_eq(sys);\n",
    "gen_op sigma1 = evolve(sigma0, Upx);\n",
    "gen_op sigma2 = sigma1;\n",
    "\n",
    "for (int t1=0; t1<t1pts; t1++)\n",
    "{\n",
    "    sigma3 = evolve(sigma2, Upx);\n",
    "    FID(sigma3,D,H,t2dt,t2pts,t2BLK);\n",
    "    Felix(cosyRe, t2BLK);\n",
    "    \n",
    "    sigma3 = evolve(sigma2, Upy);\n",
    "    FID(sigma3,D,H,t2dt,t2pts,t2BLK);\n",
    "    Felix(cosyIm, t2BLK);\n",
    "    evolve_ip(sigma2, Ud1);\n",
    "}\"\"\";"
   ]
  },
  {
   "cell_type": "code",
   "execution_count": 11,
   "metadata": {},
   "outputs": [],
   "source": [
    "\n",
    "sigma0 = sigma_eq(sys);\n",
    "sigma1 = evolve(sigma0, Upx);\n",
    "sigma2 = evolve(sigma0, Upx);"
   ]
  },
  {
   "cell_type": "code",
   "execution_count": 12,
   "metadata": {},
   "outputs": [],
   "source": [
    "for t1 in range(t1pts):\n",
    "    sigma3 = evolve(sigma2, Upx)\n",
    "    FID(sigma3,D,H,t2dt,t2pts,tmp)\n",
    "    data1[t1] =  tmp.toNParray()\n",
    "    \n",
    "    sigma3 = evolve(sigma2, Upy)\n",
    "    FID(sigma3,D,H,t2dt,t2pts,tmp)\n",
    "    data2[t1] =  tmp.toNParray()\n",
    "    evolve_ip(sigma2, Ud1);\n"
   ]
  },
  {
   "cell_type": "markdown",
   "metadata": {},
   "source": [
    "### Apply QSIN processing in both dimensions, 2D-FFT and display in absolute mode"
   ]
  },
  {
   "cell_type": "code",
   "execution_count": 40,
   "metadata": {},
   "outputs": [
    {
     "data": {
      "image/png": "[encoded data removed]",
      "text/plain": [
       "<matplotlib.figure.Figure at 0xa0e07bac>"
      ]
     },
     "metadata": {},
     "output_type": "display_data"
    }
   ],
   "source": [
    "ph1 = pylab.pi/1.\n",
    "aq = 1./dt2\n",
    "\n",
    "ttt = numpy.arange(t2pts)/aq\n",
    "\n",
    "qsin = (pylab.sin((2.0*pylab.pi-ph1)*ttt+ph1))**2\n",
    "pylab.plot(ttt,qsin);"
   ]
  },
  {
   "cell_type": "code",
   "execution_count": 41,
   "metadata": {},
   "outputs": [],
   "source": [
    "ddd1 =  qsin*data1\n",
    "ddd2 =  qsin*data2"
   ]
  },
  {
   "cell_type": "code",
   "execution_count": 44,
   "metadata": {},
   "outputs": [
    {
     "data": {
      "image/png": "[encoded data removed]",
      "text/plain": [
       "<matplotlib.figure.Figure at 0xa8faf70c>"
      ]
     },
     "metadata": {},
     "output_type": "display_data"
    }
   ],
   "source": [
    "pylab.plot(data1[1].real);\n",
    "pylab.plot(ddd1[1].real);"
   ]
  },
  {
   "cell_type": "code",
   "execution_count": 13,
   "metadata": {
    "collapsed": true
   },
   "outputs": [],
   "source": [
    "fid1 = fftpack.fft(ddd1, axis=1)\n",
    "fid1 = fftpack.fftshift(fid1, axes=1)\n",
    "\n",
    "fid2 = fftpack.fft(ddd2, axis=1)\n",
    "fid2 = fftpack.fftshift(fid2, axes=1)"
   ]
  },
  {
   "cell_type": "code",
   "execution_count": 14,
   "metadata": {},
   "outputs": [],
   "source": [
    "fid = fid1.real+1j*fid2.real"
   ]
  },
  {
   "cell_type": "code",
   "execution_count": 15,
   "metadata": {
    "collapsed": true
   },
   "outputs": [],
   "source": [
    "fid = qsin*(fid.transpose())"
   ]
  },
  {
   "cell_type": "code",
   "execution_count": 16,
   "metadata": {
    "collapsed": true
   },
   "outputs": [],
   "source": [
    "spec = fftpack.fft(fid, axis=1)"
   ]
  },
  {
   "cell_type": "code",
   "execution_count": 17,
   "metadata": {
    "collapsed": true
   },
   "outputs": [],
   "source": [
    "spec = fftpack.fftshift(spec, axes=1)"
   ]
  },
  {
   "cell_type": "code",
   "execution_count": 18,
   "metadata": {},
   "outputs": [
    {
     "data": {
      "image/png": "[encoded data removed]",
      "text/plain": [
       "<matplotlib.figure.Figure at 0xa6a8aaac>"
      ]
     },
     "metadata": {},
     "output_type": "display_data"
    }
   ],
   "source": [
    "absSpec = (spec)\n",
    "absSpec = numpy.fliplr(absSpec)   # flip spectrum up down and left to right to obtain correct  Bruker configuration\n",
    "absSpec = numpy.flipud(absSpec)\n",
    "pylab.contour(absSpec.real);"
   ]
  },
  {
   "cell_type": "markdown",
   "metadata": {},
   "source": [
    "### Plot in ppm making use of NMRGLUE python package"
   ]
  },
  {
   "cell_type": "code",
   "execution_count": 19,
   "metadata": {
    "collapsed": true
   },
   "outputs": [],
   "source": [
    "info = {}\n",
    "pinfo = {}"
   ]
  },
  {
   "cell_type": "code",
   "execution_count": 20,
   "metadata": {
    "collapsed": true
   },
   "outputs": [],
   "source": [
    "pinfo['procs']={}\n",
    "pinfo['proc2s']={}"
   ]
  },
  {
   "cell_type": "code",
   "execution_count": 21,
   "metadata": {
    "collapsed": true
   },
   "outputs": [],
   "source": [
    "pinfo['procs']['OFFSET']=1.25"
   ]
  },
  {
   "cell_type": "code",
   "execution_count": 22,
   "metadata": {},
   "outputs": [],
   "source": [
    "pinfo['procs' ]['SW_p']=1.0/dt1"
   ]
  },
  {
   "cell_type": "code",
   "execution_count": 23,
   "metadata": {},
   "outputs": [],
   "source": [
    "pinfo['procs' ]['SF']=sys.spectrometer_frequency()"
   ]
  },
  {
   "cell_type": "code",
   "execution_count": 24,
   "metadata": {
    "collapsed": true
   },
   "outputs": [],
   "source": [
    "pinfo['proc2s' ]['OFFSET'] =1.25\n",
    "pinfo['proc2s' ]['SW_p']=1.0/dt2\n",
    "pinfo['proc2s' ]['SF']=sys.spectrometer_frequency()\n",
    "        \n",
    "        \n",
    "        "
   ]
  },
  {
   "cell_type": "code",
   "execution_count": 25,
   "metadata": {
    "collapsed": true
   },
   "outputs": [],
   "source": [
    "class TwoD_NMR_MAT_plot:\n",
    "    \n",
    "    def __init__(self, exp, pinfo, info, dimensions_ppm=[]):\n",
    "        \n",
    "#        print exp.shape\n",
    "        \n",
    "        self.exp = exp\n",
    "        self.pinfo = pinfo\n",
    "        self.info  = info\n",
    "        \n",
    "        self.rr,self.cc = exp.shape\n",
    "        self.X = numpy.zeros(exp.shape)\n",
    "        self.Y = numpy.zeros(exp.shape)\n",
    "        \n",
    "        r1=0\n",
    "        r2=self.rr\n",
    "\n",
    "        c1=0\n",
    "        c2=self.cc\n",
    "        \n",
    "#        print r2,c2\n",
    "        \n",
    "        self.create_axes(  pinfo, info, self.rr, self.cc, dimensions_ppm )\n",
    "          \n",
    "        self.create_plot_layout(self.dimensions_index)\n",
    "        \n",
    "        self.plot_plots()\n",
    "        \n",
    "\n",
    "        \n",
    "    def create_axes( self, pinfo, info, rr,cc, dimensions_ppm):\n",
    "                \n",
    "        self.f1_offset_p = pinfo['procs' ]['OFFSET']\n",
    "        self.f1_sw_hz     = pinfo['procs' ]['SW_p']\n",
    "        self.f1_omega    = pinfo['procs' ]['SF']\n",
    "        self.f1_sw_ppm   = self.f1_sw_hz/self.f1_omega\n",
    "        \n",
    "        self.f2_offset_p = pinfo['proc2s' ]['OFFSET']\n",
    "        self.f2_sw_hz     = pinfo['proc2s' ]['SW_p']\n",
    "        self.f2_omega    = pinfo['proc2s' ]['SF']\n",
    "        self.f2_sw_ppm   = self.f2_sw_hz/self.f2_omega\n",
    "#        print self.f1_sw_ppm\n",
    "        \n",
    "        self.f1 = numpy.linspace(self.f1_offset_p, self.f1_offset_p-self.f1_sw_ppm,  self.rr)\n",
    "        self.f2 = numpy.linspace(self.f2_offset_p, self.f2_offset_p-self.f2_sw_ppm,  self.cc)\n",
    "        \n",
    "        self.dw_f1_ppm = self.f1[1]-self.f1[0]\n",
    "        self.dw_f2_ppm = self.f2[1]-self.f2[0]\n",
    "        \n",
    "        for r in range(self.rr):\n",
    "    \n",
    "            for c in range( self.cc):\n",
    "        \n",
    "                self.Y[r,c] = self.f1[r]\n",
    "                self.X[r,c] = self.f2[c] \n",
    "                \n",
    "#        print dimensions_ppm       \n",
    "        if dimensions_ppm == []:\n",
    "            self.dimensions_index = numpy.array([0,self.rr-1,0,self.cc-1])\n",
    "        else:\n",
    "            r1 = int( (dimensions_ppm[1]-self.f1_offset_p)/self.dw_f1_ppm)\n",
    "            r2 = int( (dimensions_ppm[0]-self.f1_offset_p)/self.dw_f1_ppm)\n",
    "            c1 = int( (dimensions_ppm[2]-self.f2_offset_p)/self.dw_f2_ppm)\n",
    "            c2 = int( (dimensions_ppm[3]-self.f2_offset_p)/self.dw_f2_ppm)\n",
    "            \n",
    "            self.dimensions_index = numpy.array([r1,r2,c1,c2 ])\n",
    "            \n",
    "#        print \"self.dimensions_index\", self.dimensions_index\n",
    "            \n",
    "        self.Z1 = self.exp[self.dimensions_index[0]:self.dimensions_index[1],self.dimensions_index[2]:self.dimensions_index[3]]\n",
    "        self.X1 =   self.X[self.dimensions_index[0]:self.dimensions_index[1],self.dimensions_index[2]:self.dimensions_index[3]]\n",
    "        self.Y1 =   self.Y[self.dimensions_index[0]:self.dimensions_index[1],self.dimensions_index[2]:self.dimensions_index[3]]\n",
    "        \n",
    "        \n",
    "    def create_plot_layout( self, dimensions_index):\n",
    "        \n",
    "#        print \"dimensions_index\",dimensions_index\n",
    "        \n",
    "        nullfmt   = NullFormatter()         # no labels\n",
    "\n",
    "        # definitions for the axes\n",
    "        left, width = 0.1, 0.65\n",
    "        bottom, height = 0.1, 0.65\n",
    "        bottom_h = left_h = left+width+0.02\n",
    "\n",
    "        rect_scatter = [left, bottom, width, height]\n",
    "        rect_histx = [left, bottom_h, width, 0.2]\n",
    "        rect_histy = [left_h, bottom, 0.2, height]\n",
    "\n",
    "        # start with a rectangular Figure\n",
    "        plt.figure(2, figsize=(6,6))\n",
    "\n",
    "        self.axScatter = plt.axes(rect_scatter)\n",
    "        self.axHistx = plt.axes(rect_histx)\n",
    "        self.axHisty = plt.axes(rect_histy)\n",
    "\n",
    "# no labels\n",
    "        self.axHistx.xaxis.set_major_formatter(nullfmt)\n",
    "        self.axHisty.yaxis.set_major_formatter(nullfmt)\n",
    "        \n",
    "        self.axScatter.tick_params(axis='x', labelsize=16)\n",
    "        self.axScatter.tick_params(axis='y', labelsize=16)\n",
    "        self.axScatter.set_xlabel('${^1}$H [ppm]',fontsize=16)\n",
    "        #ax.set_xlim(-60, 60)\n",
    "        self.axScatter.set_ylabel('${^1}$H [ppm]', fontsize=16)\n",
    "        \n",
    "        self.axHistx.axis('off')\n",
    "        self.axHisty.axis('off')\n",
    "\n",
    "        f1_start = self.f1[dimensions_index[0]]\n",
    "        f1_end   = self.f1[dimensions_index[1]]\n",
    "\n",
    "        f2_start = self.f2[dimensions_index[2]]\n",
    "        f2_end   = self.f2[dimensions_index[3]]\n",
    "\n",
    "        self.axScatter.set_ylim( (f1_start, f1_end) )\n",
    "        self.axScatter.set_xlim( (f2_start, f2_end) )\n",
    "        \n",
    "        \n",
    "\n",
    "    def plot_plots(self):\n",
    "        \n",
    "        # the scatter plot:\n",
    "        cl = numpy.linspace(self.Z1.max()*0.01, self.Z1.max()*1.1,10)\n",
    "#        print \"Z1.shape\",self.Z1.shape\n",
    "        \n",
    "\n",
    "        sum_f1 = self.Z1.sum(axis=0)\n",
    "#        print \"len(sum_f1)\",len(sum_f1)\n",
    "        sum_f2 = self.Z1.sum(axis=1)\n",
    "#        print \"len(sum_f2)\",len(sum_f2)\n",
    "\n",
    "        cset = self.axScatter.contour(self.X1, self.Y1, self.Z1,  cl,  colors='red')\n",
    "        #\n",
    "        self.axHistx.plot(sum_f1, 'r-')\n",
    "        self.axHisty.plot(sum_f2,range(len(sum_f2)),'r')\n",
    "\n",
    "\n",
    "        self.axHistx.set_xlim( (0,len(sum_f1)-1) )\n",
    "        self.axHisty.set_ylim( (0,len(sum_f2)-1) )        \n",
    "        \n"
   ]
  },
  {
   "cell_type": "code",
   "execution_count": 26,
   "metadata": {},
   "outputs": [],
   "source": [
    "#ppplot = TwoD_NMR_MAT_plot2(absSpec, pinfo, info, )"
   ]
  },
  {
   "cell_type": "code",
   "execution_count": 27,
   "metadata": {},
   "outputs": [
    {
     "data": {
      "image/png": "[encoded data removed]",
      "text/plain": [
       "<matplotlib.figure.Figure at 0xac0fe52c>"
      ]
     },
     "metadata": {},
     "output_type": "display_data"
    }
   ],
   "source": [
    "ppplot = TwoD_NMR_MAT_plot(absSpec.real, pinfo, info )"
   ]
  },
  {
   "cell_type": "code",
   "execution_count": 28,
   "metadata": {},
   "outputs": [
    {
     "name": "stdout",
     "output_type": "stream",
     "text": [
      "Help on function evolve_ip in module pygamma.pygamma:\n",
      "\n",
      "evolve_ip(*args)\n",
      "    evolve_ip(gen_op sigma, gen_op ham, double time)\n",
      "    evolve_ip(gen_op sigma, gen_op U)\n",
      "\n",
      "None\n"
     ]
    }
   ],
   "source": [
    "print help(evolve_ip)"
   ]
  },
  {
   "cell_type": "code",
   "execution_count": null,
   "metadata": {
    "collapsed": true
   },
   "outputs": [],
   "source": []
  },
  {
   "cell_type": "code",
   "execution_count": null,
   "metadata": {
    "collapsed": true
   },
   "outputs": [],
   "source": []
  }
 ],
 "metadata": {
  "kernelspec": {
   "display_name": "Python 3",
   "language": "python",
   "name": "python3"
  },
  "language_info": {
   "codemirror_mode": {
    "name": "ipython",
    "version": 3
   },
   "file_extension": ".py",
   "mimetype": "text/x-python",
   "name": "python",
   "nbconvert_exporter": "python",
   "pygments_lexer": "ipython3",
   "version": "3.7.3"
  }
 },
 "nbformat": 4,
 "nbformat_minor": 1
}
