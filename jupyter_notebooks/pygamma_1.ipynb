{
 "cells": [
  {
   "cell_type": "code",
   "execution_count": 1,
   "metadata": {
    "collapsed": true
   },
   "outputs": [],
   "source": [
    "import pygamma as pg\n",
    "import pylab"
   ]
  },
  {
   "cell_type": "code",
   "execution_count": null,
   "metadata": {
    "collapsed": true
   },
   "outputs": [],
   "source": [
    "s = pg.Isotope('1H')"
   ]
  },
  {
   "cell_type": "code",
   "execution_count": null,
   "metadata": {},
   "outputs": [],
   "source": [
    "print(s)"
   ]
  },
  {
   "cell_type": "code",
   "execution_count": null,
   "metadata": {},
   "outputs": [],
   "source": [
    "print( s.qn(),\n",
    "       s.HS(),\n",
    "       s.number() )"
   ]
  },
  {
   "cell_type": "code",
   "execution_count": null,
   "metadata": {
    "collapsed": true
   },
   "outputs": [],
   "source": [
    "isotope_info = \"\"\"\n",
    "\n",
    "Isotope Symbol:      s.symbol()              {}\n",
    "Isotope Name:        s.name()                {}\n",
    "Isotope Element:     s.element()             {}\n",
    "Quantum Number:      s.qn()                  {}\n",
    "Hilbert Space:       s.HS()                  {}\n",
    "Isotope Number:      s.number()              {}\n",
    "Isotope Mass:        s.mass()                {}\n",
    "Isotope Weight:      s.wwight()              {}\n",
    "Gyromagnetic Ratio:  s.gamma()               {}\n",
    "Receptivity:         s.receptivity()         {}\n",
    "Relative Frequency:  s.relative_frequency    {}\n",
    "Electron:            s.electron()            {}\n",
    "\n",
    "\n",
    "\"\"\""
   ]
  },
  {
   "cell_type": "code",
   "execution_count": null,
   "metadata": {},
   "outputs": [],
   "source": [
    "print( isotope_info.format(\n",
    "                               s.symbol(),\n",
    "                               s.name(),\n",
    "                               s.element(),\n",
    "                               s.qn(), \n",
    "                               s.HS(),\n",
    "                               s.number(),\n",
    "                               s.mass(),\n",
    "                               s.weight(),\n",
    "                               s.gamma(),\n",
    "                               s.receptivity(),\n",
    "                               s.relative_frequency(),\n",
    "                               s.electron()\n",
    "                           \n",
    "                          )\n",
    "     )"
   ]
  },
  {
   "cell_type": "code",
   "execution_count": null,
   "metadata": {},
   "outputs": [],
   "source": [
    "for v in s.printStrings():\n",
    "    print v"
   ]
  },
  {
   "cell_type": "code",
   "execution_count": null,
   "metadata": {
    "collapsed": true
   },
   "outputs": [],
   "source": [
    "ss = pg.spin_system(2)\n",
    "ss.Omega(400.0)\n",
    "ss.spectrometer_frequency(400.0)\n",
    "ss.shift(0,30)\n",
    "ss.shift(1,-31)\n",
    "ham_cs = pg.Hcs(ss)\n",
    "detect = pg.Fp(ss)\n",
    "ss_eq  = pg.sigma_eq(ss)"
   ]
  },
  {
   "cell_type": "code",
   "execution_count": null,
   "metadata": {},
   "outputs": [],
   "source": [
    "fid = pg.rowVector(256)"
   ]
  },
  {
   "cell_type": "code",
   "execution_count": null,
   "metadata": {
    "collapsed": true
   },
   "outputs": [],
   "source": [
    "ss_0 = pg.Iypuls( ss, ss_eq, 90.0 )"
   ]
  },
  {
   "cell_type": "code",
   "execution_count": null,
   "metadata": {
    "collapsed": true
   },
   "outputs": [],
   "source": [
    "pg.acquire(pg.gen_op(detect), ss_0, ham_cs,   0.01, 256, fid)"
   ]
  },
  {
   "cell_type": "code",
   "execution_count": null,
   "metadata": {
    "collapsed": true
   },
   "outputs": [],
   "source": [
    "pg.exponential_multiply( fid, -5 )"
   ]
  },
  {
   "cell_type": "code",
   "execution_count": null,
   "metadata": {
    "collapsed": true
   },
   "outputs": [],
   "source": [
    "spec =fid.FFT()"
   ]
  },
  {
   "cell_type": "code",
   "execution_count": null,
   "metadata": {},
   "outputs": [],
   "source": [
    "pylab.plot( spec.Real() );"
   ]
  },
  {
   "cell_type": "code",
   "execution_count": null,
   "metadata": {
    "collapsed": true
   },
   "outputs": [],
   "source": []
  }
 ],
 "metadata": {
  "kernelspec": {
   "display_name": "Python [Root]",
   "language": "python",
   "name": "Python [Root]"
  },
  "language_info": {
   "codemirror_mode": {
    "name": "ipython",
    "version": 2
   },
   "file_extension": ".py",
   "mimetype": "text/x-python",
   "name": "python",
   "nbconvert_exporter": "python",
   "pygments_lexer": "ipython2",
   "version": "2.7.12"
  }
 },
 "nbformat": 4,
 "nbformat_minor": 1
}
