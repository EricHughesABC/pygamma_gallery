{
 "cells": [
  {
   "cell_type": "code",
   "execution_count": 32,
   "metadata": {},
   "outputs": [],
   "source": [
    "import numpy as np\n",
    "import pygamma as pg\n",
    "import nmrglue as ng\n",
    "from scipy import fftpack"
   ]
  },
  {
   "cell_type": "code",
   "execution_count": null,
   "metadata": {},
   "outputs": [],
   "source": []
  },
  {
   "cell_type": "code",
   "execution_count": 2,
   "metadata": {},
   "outputs": [],
   "source": [
    "from matplotlib import pyplot as plt"
   ]
  },
  {
   "cell_type": "code",
   "execution_count": 3,
   "metadata": {},
   "outputs": [],
   "source": [
    "%matplotlib inline"
   ]
  },
  {
   "cell_type": "code",
   "execution_count": 4,
   "metadata": {},
   "outputs": [
    {
     "name": "stdout",
     "output_type": "stream",
     "text": [
      "Spin Index :      0      \n",
      "Isotope    :      1H     \n",
      "Momentum   :     1/2     \n",
      "Shifts     :     0.00 Hz \n",
      "           :     0.25 ppm\n",
      "Omega      :   400.00 MHz\n",
      "\n"
     ]
    }
   ],
   "source": [
    "sys=pg.spin_system()     # define the system, read in\n",
    "sys.read(\"cs_1_100.sys\") # from disk\n",
    "\n",
    "print( sys)"
   ]
  },
  {
   "cell_type": "markdown",
   "metadata": {},
   "source": [
    "### Create 1D spectrum"
   ]
  },
  {
   "cell_type": "code",
   "execution_count": 5,
   "metadata": {},
   "outputs": [],
   "source": [
    "dt1 = 0.001 # t1 time increment\n",
    "dt2 = 0.001 # t2 time increment\n",
    "t1pts = 256 # points on t1 axis\n",
    "t2pts = 256 # points on t2 axis"
   ]
  },
  {
   "cell_type": "code",
   "execution_count": 6,
   "metadata": {},
   "outputs": [],
   "source": [
    "H = pg.Hcs(sys)                                               # // Hamiltonian, weak coupling\n",
    "detect = pg.gen_op(pg.Fp(sys))                                  # // F+ for detection operator\n",
    "fid = pg.row_vector(t2pts)                                    #block_1D tmp(t2pts); // 1D-data block storage\n"
   ]
  },
  {
   "cell_type": "code",
   "execution_count": 7,
   "metadata": {},
   "outputs": [],
   "source": [
    "sigma0 = pg.sigma_eq(sys)                      # // equilibrium density matrix\n",
    "sigma1 = pg.Iypuls(sys, sigma0, 90)  \n",
    "sigma1 = pg.evolve(sigma1, H, 1*dt2)"
   ]
  },
  {
   "cell_type": "code",
   "execution_count": 8,
   "metadata": {},
   "outputs": [],
   "source": [
    "pg.FID(sigma1,detect,H,dt2,t2pts,fid)"
   ]
  },
  {
   "cell_type": "code",
   "execution_count": 9,
   "metadata": {},
   "outputs": [],
   "source": [
    "pg.exponential_multiply(fid,-5)"
   ]
  },
  {
   "cell_type": "code",
   "execution_count": 10,
   "metadata": {},
   "outputs": [],
   "source": [
    "spec = fid.FFT()"
   ]
  },
  {
   "cell_type": "code",
   "execution_count": 11,
   "metadata": {},
   "outputs": [],
   "source": [
    "npspec = spec.toNParray()"
   ]
  },
  {
   "cell_type": "code",
   "execution_count": 12,
   "metadata": {},
   "outputs": [],
   "source": [
    "udic = {'ndim': 1,\n",
    "         0: {'sw': 1/dt2,\n",
    "          'complex': True,\n",
    "          'obs': 400.0,\n",
    "          'car': 0,\n",
    "          'size': len(npspec),\n",
    "          'label': '1H',\n",
    "          'encoding': 'direct',\n",
    "          'time': False,\n",
    "          'freq': True}}"
   ]
  },
  {
   "cell_type": "code",
   "execution_count": 13,
   "metadata": {},
   "outputs": [],
   "source": [
    "uc0 = ng.fileiobase.unit_conversion(udic[0]['size'],udic[0]['complex'], udic[0]['sw'], udic[0]['obs'], udic[0]['car'])"
   ]
  },
  {
   "cell_type": "code",
   "execution_count": 14,
   "metadata": {},
   "outputs": [
    {
     "data": {
      "image/png": "[encoded data removed]",
      "text/plain": [
       "<Figure size 432x288 with 1 Axes>"
      ]
     },
     "metadata": {
      "needs_background": "light"
     },
     "output_type": "display_data"
    }
   ],
   "source": [
    "plt.plot(uc0.ppm_scale(), npspec.real)\n",
    "plt.xlim(uc0.ppm_limits())\n",
    "plt.xlabel('ppm', fontsize=14)\n",
    "plt.yticks([])\n",
    "ax = plt.gca()\n",
    "ax.spines['top'].set_visible(False)\n",
    "ax.spines['left'].set_visible(False)\n",
    "ax.spines['right'].set_visible(False)\n",
    "ax.tick_params(axis='both', which='major', labelsize=14)\n"
   ]
  },
  {
   "cell_type": "code",
   "execution_count": 15,
   "metadata": {},
   "outputs": [
    {
     "data": {
      "image/png": "[encoded data removed]",
      "text/plain": [
       "<Figure size 432x288 with 1 Axes>"
      ]
     },
     "metadata": {
      "needs_background": "light"
     },
     "output_type": "display_data"
    }
   ],
   "source": [
    "plt.plot(uc0.hz_scale(), npspec.real)\n",
    "plt.xlim(uc0.hz_limits())\n",
    "plt.xlabel('Hz', fontsize=14)\n",
    "plt.yticks([])\n",
    "ax = plt.gca()\n",
    "ax.spines['top'].set_visible(False)\n",
    "ax.spines['left'].set_visible(False)\n",
    "ax.spines['right'].set_visible(False)\n",
    "ax.tick_params(axis='both', which='major', labelsize=14)"
   ]
  },
  {
   "cell_type": "markdown",
   "metadata": {},
   "source": [
    "### 2D States Example"
   ]
  },
  {
   "cell_type": "markdown",
   "metadata": {},
   "source": [
    "### Perform pulse sequence"
   ]
  },
  {
   "cell_type": "code",
   "execution_count": 16,
   "metadata": {},
   "outputs": [],
   "source": [
    "Hcs = pg.Hcs(sys)                                               # // Hamiltonian,chemical shift\n",
    "\n",
    "detect = pg.gen_op(pg.Fp(sys))                                  # // F+ for detection operator"
   ]
  },
  {
   "cell_type": "code",
   "execution_count": 17,
   "metadata": {},
   "outputs": [],
   "source": [
    "fidp_list = []\n",
    "\n",
    "sigma0 = pg.sigma_eq(sys)                      # // equilibrium density matrix\n",
    "\n",
    "for t1 in range(t1pts):\n",
    "    fid = pg.row_vector(t2pts, pg.complex(0,0))\n",
    "\n",
    "    sigma1 = pg.Iypuls(sys, sigma0, 90)  \n",
    "    sigma1=pg.evolve(sigma1,H,t1*dt1)         #; // evolution during t1\n",
    "    pg.FID(sigma1,detect,H,dt2,t2pts,fid)\n",
    "    fidp_list.append(fid)\n",
    "\n",
    "fidm_list = []\n",
    "for t1 in range(t1pts):\n",
    "    fid = pg.row_vector(t2pts, pg.complex(0,0))\n",
    "\n",
    "    sigma1 = pg.Ixpuls(sys, sigma0, 90)  \n",
    "    sigma1=pg.evolve(sigma1,H,t1*dt1)         #; // evolution during t1\n",
    "    pg.FID(sigma1,detect,H,dt2,t2pts,fid)\n",
    "    fidm_list.append(fid)"
   ]
  },
  {
   "cell_type": "code",
   "execution_count": 18,
   "metadata": {},
   "outputs": [
    {
     "name": "stderr",
     "output_type": "stream",
     "text": [
      "/home/eric/anaconda3/lib/python3.7/site-packages/numpy/core/numeric.py:538: ComplexWarning: Casting complex values to real discards the imaginary part\n",
      "  return array(a, dtype, copy=False, order=order)\n"
     ]
    },
    {
     "data": {
      "text/plain": [
       "[<matplotlib.lines.Line2D at 0x7f5c36ef0a58>]"
      ]
     },
     "execution_count": 18,
     "metadata": {},
     "output_type": "execute_result"
    },
    {
     "data": {
      "image/png": "[encoded data removed]",
      "text/plain": [
       "<Figure size 432x288 with 1 Axes>"
      ]
     },
     "metadata": {
      "needs_background": "light"
     },
     "output_type": "display_data"
    }
   ],
   "source": [
    "plt.plot(((fidp_list[0])[0:20]).toNParray())\n",
    "plt.plot(((fidp_list[1])[0:20]).toNParray())"
   ]
  },
  {
   "cell_type": "code",
   "execution_count": 19,
   "metadata": {},
   "outputs": [
    {
     "data": {
      "text/plain": [
       "[<matplotlib.lines.Line2D at 0x7f5c36e92940>]"
      ]
     },
     "execution_count": 19,
     "metadata": {},
     "output_type": "execute_result"
    },
    {
     "data": {
      "image/png": "[encoded data removed]",
      "text/plain": [
       "<Figure size 432x288 with 1 Axes>"
      ]
     },
     "metadata": {
      "needs_background": "light"
     },
     "output_type": "display_data"
    }
   ],
   "source": [
    "plt.plot(((fidm_list[0])[0:20]).toNParray())\n",
    "plt.plot(((fidm_list[1])[0:20]).toNParray())"
   ]
  },
  {
   "cell_type": "markdown",
   "metadata": {},
   "source": [
    "### Apply linebradening and FFT in direct dimension"
   ]
  },
  {
   "cell_type": "code",
   "execution_count": 20,
   "metadata": {},
   "outputs": [],
   "source": [
    "for t1 in range(t1pts):\n",
    "    pg.exponential_multiply(fidp_list[t1],-5)"
   ]
  },
  {
   "cell_type": "code",
   "execution_count": 21,
   "metadata": {},
   "outputs": [],
   "source": [
    "for t1 in range(t1pts):\n",
    "    pg.exponential_multiply(fidm_list[t1],-5)"
   ]
  },
  {
   "cell_type": "code",
   "execution_count": 28,
   "metadata": {},
   "outputs": [],
   "source": [
    "specp = np.zeros((t1pts,t2pts), dtype=np.complex128)\n",
    "specm = np.zeros((t1pts,t2pts), dtype=np.complex128)\n",
    "for t1 in range(t1pts):\n",
    "    specp[t1] = (fidm_list[t1].FFT()).toNParray()\n",
    "    specm[t1] = (fidm_list[t1].FFT()).toNParray()\n"
   ]
  },
  {
   "cell_type": "code",
   "execution_count": 29,
   "metadata": {},
   "outputs": [
    {
     "data": {
      "text/plain": [
       "[<matplotlib.lines.Line2D at 0x7f5c36c3a470>]"
      ]
     },
     "execution_count": 29,
     "metadata": {},
     "output_type": "execute_result"
    },
    {
     "data": {
      "image/png": "[encoded data removed]",
      "text/plain": [
       "<Figure size 432x288 with 1 Axes>"
      ]
     },
     "metadata": {
      "needs_background": "light"
     },
     "output_type": "display_data"
    }
   ],
   "source": [
    "plt.plot(specp[0].real)\n",
    "plt.plot(specm[0].real)"
   ]
  },
  {
   "cell_type": "code",
   "execution_count": 30,
   "metadata": {},
   "outputs": [],
   "source": [
    "specpm = specp.real + 1j*specm.real"
   ]
  },
  {
   "cell_type": "code",
   "execution_count": 35,
   "metadata": {},
   "outputs": [],
   "source": [
    "specpm2 = fftpack.fftshift(fftpack.fft(specpm, axis=0), axes=0)"
   ]
  },
  {
   "cell_type": "code",
   "execution_count": 36,
   "metadata": {},
   "outputs": [
    {
     "data": {
      "text/plain": [
       "<matplotlib.image.AxesImage at 0x7f5c36b2c4a8>"
      ]
     },
     "execution_count": 36,
     "metadata": {},
     "output_type": "execute_result"
    },
    {
     "data": {
      "image/png": "[encoded data removed]",
      "text/plain": [
       "<Figure size 432x288 with 1 Axes>"
      ]
     },
     "metadata": {
      "needs_background": "light"
     },
     "output_type": "display_data"
    }
   ],
   "source": [
    "plt.imshow(specpm2.real)"
   ]
  },
  {
   "cell_type": "code",
   "execution_count": 37,
   "metadata": {},
   "outputs": [
    {
     "data": {
      "text/plain": [
       "<matplotlib.contour.QuadContourSet at 0x7f5c36b0a128>"
      ]
     },
     "execution_count": 37,
     "metadata": {},
     "output_type": "execute_result"
    },
    {
     "data": {
      "image/png": "[encoded data removed]",
      "text/plain": [
       "<Figure size 432x288 with 1 Axes>"
      ]
     },
     "metadata": {
      "needs_background": "light"
     },
     "output_type": "display_data"
    }
   ],
   "source": [
    "plt.contourf(specpm2.real)"
   ]
  },
  {
   "cell_type": "code",
   "execution_count": null,
   "metadata": {},
   "outputs": [],
   "source": []
  }
 ],
 "metadata": {
  "kernelspec": {
   "display_name": "Python 3",
   "language": "python",
   "name": "python3"
  },
  "language_info": {
   "codemirror_mode": {
    "name": "ipython",
    "version": 3
   },
   "file_extension": ".py",
   "mimetype": "text/x-python",
   "name": "python",
   "nbconvert_exporter": "python",
   "pygments_lexer": "ipython3",
   "version": "3.7.3"
  }
 },
 "nbformat": 4,
 "nbformat_minor": 2
}
