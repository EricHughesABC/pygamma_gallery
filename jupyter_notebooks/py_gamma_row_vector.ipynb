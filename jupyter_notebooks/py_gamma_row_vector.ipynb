{
 "cells": [
  {
   "cell_type": "code",
   "execution_count": 1,
   "metadata": {
    "collapsed": true
   },
   "outputs": [],
   "source": [
    "import pygamma as pg\n",
    "import pylab"
   ]
  },
  {
   "cell_type": "code",
   "execution_count": 2,
   "metadata": {
    "collapsed": true
   },
   "outputs": [],
   "source": [
    "ss = pg.spin_system(2)\n",
    "ss.Omega(400.0)\n",
    "ss.spectrometer_frequency(400.0)\n",
    "ss.shift(0,30)\n",
    "ss.shift(1,-31)\n",
    "ham_cs = pg.Hcs(ss)\n",
    "detect = pg.Fp(ss)\n",
    "ss_eq  = pg.sigma_eq(ss)"
   ]
  },
  {
   "cell_type": "code",
   "execution_count": 3,
   "metadata": {
    "collapsed": true
   },
   "outputs": [],
   "source": [
    "fid = pg.row_vector(256)"
   ]
  },
  {
   "cell_type": "code",
   "execution_count": 4,
   "metadata": {
    "collapsed": true
   },
   "outputs": [],
   "source": [
    "ss_0 = pg.Iypuls( ss, ss_eq, 90.0 )"
   ]
  },
  {
   "cell_type": "code",
   "execution_count": 5,
   "metadata": {
    "collapsed": true
   },
   "outputs": [],
   "source": [
    "pg.acquire(pg.gen_op(detect), ss_0, ham_cs,   0.01, 256, fid)"
   ]
  },
  {
   "cell_type": "code",
   "execution_count": 6,
   "metadata": {
    "collapsed": true
   },
   "outputs": [],
   "source": [
    "pg.exponential_multiply( fid, -5 )"
   ]
  },
  {
   "cell_type": "code",
   "execution_count": 7,
   "metadata": {
    "collapsed": true
   },
   "outputs": [],
   "source": [
    "spec =fid.FFT()"
   ]
  },
  {
   "cell_type": "code",
   "execution_count": 8,
   "metadata": {},
   "outputs": [
    {
     "data": {
      "image/png": "[encoded data removed]",
      "text/plain": [
       "<matplotlib.figure.Figure at 0x1815ae50>"
      ]
     },
     "metadata": {},
     "output_type": "display_data"
    }
   ],
   "source": [
    "pylab.plot( spec.Real() );"
   ]
  },
  {
   "cell_type": "markdown",
   "metadata": {},
   "source": [
    "# Added python methods"
   ]
  },
  {
   "cell_type": "code",
   "execution_count": 9,
   "metadata": {},
   "outputs": [
    {
     "data": {
      "text/plain": [
       "(1.0314117335740964-0.2083751689956162j)"
      ]
     },
     "execution_count": 9,
     "metadata": {},
     "output_type": "execute_result"
    }
   ],
   "source": [
    "spec[4]"
   ]
  },
  {
   "cell_type": "code",
   "execution_count": 10,
   "metadata": {},
   "outputs": [
    {
     "name": "stdout",
     "output_type": "stream",
     "text": [
      "self.size() 6\n",
      "self.elements() 6\n",
      "1.03141173357,-0.208375168996\n",
      "1.0315832691,-0.24688472697\n",
      "1.03182655712,-0.285922243077\n",
      "1.03214501071,-0.325582392659\n",
      "1.03254278271,-0.365965213467\n",
      "1.03302484957,-0.407177112754\n",
      "\n"
     ]
    }
   ],
   "source": [
    "ttt = spec[4:10]\n",
    "print ttt"
   ]
  },
  {
   "cell_type": "code",
   "execution_count": 11,
   "metadata": {},
   "outputs": [
    {
     "data": {
      "text/plain": [
       "[1.0314117335740964,\n",
       " 1.03158326909946,\n",
       " 1.0318265571239924,\n",
       " 1.0321450107081183,\n",
       " 1.0325427827088531,\n",
       " 1.0330248495678334]"
      ]
     },
     "execution_count": 11,
     "metadata": {},
     "output_type": "execute_result"
    }
   ],
   "source": [
    "ttt.Real()"
   ]
  },
  {
   "cell_type": "code",
   "execution_count": 12,
   "metadata": {},
   "outputs": [
    {
     "data": {
      "text/plain": [
       "[-0.2083751689956162,\n",
       " -0.24688472697034067,\n",
       " -0.2859222430769098,\n",
       " -0.3255823926587155,\n",
       " -0.3659652134671152,\n",
       " -0.4071771127544501]"
      ]
     },
     "execution_count": 12,
     "metadata": {},
     "output_type": "execute_result"
    }
   ],
   "source": [
    "ttt.Imag()"
   ]
  },
  {
   "cell_type": "code",
   "execution_count": 13,
   "metadata": {},
   "outputs": [
    {
     "name": "stdout",
     "output_type": "stream",
     "text": [
      "(1+3j)\n"
     ]
    }
   ],
   "source": [
    "ttt[0] = pg.complex(1,3)\n",
    "print ttt[0]"
   ]
  },
  {
   "cell_type": "code",
   "execution_count": 13,
   "metadata": {
    "collapsed": true
   },
   "outputs": [],
   "source": []
  }
 ],
 "metadata": {},
 "nbformat": 4,
 "nbformat_minor": 1
}
