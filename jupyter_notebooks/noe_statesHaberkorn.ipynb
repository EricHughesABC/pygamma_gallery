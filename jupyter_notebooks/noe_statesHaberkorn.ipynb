{
 "cells": [
  {
   "cell_type": "code",
   "execution_count": 1,
   "metadata": {},
   "outputs": [],
   "source": [
    "\n",
    "import pygamma\n",
    "import pylab\n",
    "import numpy as np\n",
    "import nmrglue\n",
    "from pygamma import spin_system, Hcs, HJw, Fm, gen_op, sigma_eq, Iypuls, Ixpuls, Ixypuls, evolve, FID, row_vector\n",
    "\n",
    "from scipy import fftpack\n",
    "\n",
    "import matplotlib.pyplot as plt\n",
    "from matplotlib.ticker import NullFormatter\n",
    "\n",
    "%matplotlib inline"
   ]
  },
  {
   "cell_type": "code",
   "execution_count": 2,
   "metadata": {},
   "outputs": [],
   "source": [
    "mmm = np.ones((3,4))"
   ]
  },
  {
   "cell_type": "code",
   "execution_count": 3,
   "metadata": {},
   "outputs": [
    {
     "data": {
      "text/plain": [
       "array([[1., 1., 1., 1.],\n",
       "       [1., 1., 1., 1.],\n",
       "       [1., 1., 1., 1.]])"
      ]
     },
     "execution_count": 3,
     "metadata": {},
     "output_type": "execute_result"
    }
   ],
   "source": [
    "mmm"
   ]
  },
  {
   "cell_type": "code",
   "execution_count": 4,
   "metadata": {},
   "outputs": [],
   "source": [
    "rrr = np.array([1,2,3])\n",
    "ccc = np.array([1,2,3,4])"
   ]
  },
  {
   "cell_type": "code",
   "execution_count": 5,
   "metadata": {},
   "outputs": [
    {
     "data": {
      "text/plain": [
       "array([[1., 2., 3., 4.],\n",
       "       [1., 2., 3., 4.],\n",
       "       [1., 2., 3., 4.]])"
      ]
     },
     "execution_count": 5,
     "metadata": {},
     "output_type": "execute_result"
    }
   ],
   "source": [
    "mmm*ccc"
   ]
  },
  {
   "cell_type": "code",
   "execution_count": 6,
   "metadata": {},
   "outputs": [
    {
     "data": {
      "text/plain": [
       "array([[1., 1., 1., 1.],\n",
       "       [2., 2., 2., 2.],\n",
       "       [3., 3., 3., 3.]])"
      ]
     },
     "execution_count": 6,
     "metadata": {},
     "output_type": "execute_result"
    }
   ],
   "source": [
    "(mmm.transpose()*rrr).transpose()"
   ]
  },
  {
   "cell_type": "code",
   "execution_count": 7,
   "metadata": {},
   "outputs": [
    {
     "data": {
      "text/plain": [
       "array([[1., 1., 1., 1.],\n",
       "       [2., 2., 2., 2.],\n",
       "       [3., 3., 3., 3.]])"
      ]
     },
     "execution_count": 7,
     "metadata": {},
     "output_type": "execute_result"
    }
   ],
   "source": [
    "mmm*rrr[:,np.newaxis]"
   ]
  },
  {
   "cell_type": "code",
   "execution_count": 8,
   "metadata": {},
   "outputs": [],
   "source": [
    "dt1 = 0.001 # t1 time increment\n",
    "dt2 = 0.001 # t2 time increment\n",
    "t1pts = 1024 # points on t1 axis\n",
    "t2pts = 1024 # points on t2 axis"
   ]
  },
  {
   "cell_type": "code",
   "execution_count": 9,
   "metadata": {},
   "outputs": [
    {
     "name": "stdout",
     "output_type": "stream",
     "text": [
      "Spin Index :      0            1      \n",
      "Isotope    :      1H           1H     \n",
      "Momentum   :     1/2          1/2     \n",
      "Shifts     :     0.00 Hz     -0.00 Hz \n",
      "           :     0.50 ppm    -0.25 ppm\n",
      "Js Spin 0  :                  0.00 Hz \n",
      "Omega      :   400.00 MHz   400.00 MHz\n",
      "\n"
     ]
    }
   ],
   "source": [
    "sys=spin_system()     # define the system, read in\n",
    "sys.read(\"cs_2.sys\") # from disk\n",
    "\n",
    "print( sys)"
   ]
  },
  {
   "cell_type": "code",
   "execution_count": 36,
   "metadata": {},
   "outputs": [],
   "source": [
    "tmp = row_vector(t2pts)                                    #block_1D tmp(t2pts); // 1D-data block storage\n",
    "data1 = np.zeros((t1pts,t2pts), dtype=np.complex128) #block_2D data(t1pts,t2pts); // 2D-data matrix storage\n",
    "data2 = np.zeros((t1pts,t2pts), dtype=np.complex128) #block_2D data(t1pts,t2pts); // 2D-data matrix storage\n",
    "\n",
    "H = Hcs(sys)                                             # // Hamiltonian chemical shift\n",
    "detect = gen_op(Fm(sys))                                  # // F- for detection operator"
   ]
  },
  {
   "cell_type": "code",
   "execution_count": 37,
   "metadata": {},
   "outputs": [],
   "source": [
    "sigma0 = sigma_eq(sys)                      # // equilibrium density matrix\n",
    "\n",
    "X = 0.\n",
    "Y = 90.\n",
    "X_ = 180.0\n",
    "Y_ = 270.0\n",
    "\n",
    "mixing_time = 1.0\n",
    "for t1 in range(t1pts):\n",
    "    # X X X\n",
    "    sigma = Ixypuls(sys, sigma0, X, 90)            #; // apply first 90 y-pulse\n",
    "    sigma = evolve(sigma, H, t1*dt1)         #; // evolution during t1\n",
    "    sigma = Ixypuls(sys, sigma, X, 90)            #; // apply second 90 y-pulse\n",
    "    sigma = evolve(sigma, H, mixing_time)         #; // evolution during t1\n",
    "    sigma = Ixypuls(sys, sigma, X, 90)            #; // apply second 90 y-pulse\n",
    "\n",
    "    FID(sigma,detect,H,dt2,t2pts,tmp)       #; // acquisition\n",
    "\n",
    "    data1[t1] +=  tmp.toNParray()\n",
    "    \n",
    "    # Y Y X\n",
    "    sigma = Ixypuls(sys, sigma0, Y, 90)            #; // apply first 90 y-pulse\n",
    "    sigma = evolve(sigma, H, t1*dt1)         #; // evolution during t1\n",
    "    sigma = Ixypuls(sys, sigma, Y, 90)            #; // apply second 90 y-pulse\n",
    "    sigma = evolve(sigma, H, mixing_time)         #; // evolution during t1\n",
    "    sigma = Ixypuls(sys, sigma, X, 90)            #; // apply second 90 y-pulse\n",
    "\n",
    "    FID(sigma,detect,H,dt2,t2pts,tmp)       #; // acquisition\n",
    "\n",
    "    data1[t1] +=  tmp.toNParray()\n",
    "    \n",
    "    # X_  X_  X\n",
    "    sigma = Ixypuls(sys, sigma0, X_, 90)            #; // apply first 90 y-pulse\n",
    "    sigma = evolve(sigma, H, t1*dt1)         #; // evolution during t1\n",
    "    sigma = Ixypuls(sys, sigma, X_, 90)            #; // apply second 90 y-pulse\n",
    "    sigma = evolve(sigma, H, mixing_time)         #; // evolution during t1\n",
    "    sigma = Ixypuls(sys, sigma, X, 90)            #; // apply second 90 y-pulse\n",
    "\n",
    "    FID(sigma,detect,H,dt2,t2pts,tmp)       #; // acquisition\n",
    "\n",
    "    data1[t1] +=  tmp.toNParray()\n",
    "    \n",
    "    # Y_  Y_  X\n",
    "    sigma = Ixypuls(sys, sigma0, Y_, 90)            #; // apply first 90 y-pulse\n",
    "    sigma = evolve(sigma, H, t1*dt1)         #; // evolution during t1\n",
    "    sigma = Ixypuls(sys, sigma, Y_, 90)            #; // apply second 90 y-pulse\n",
    "    sigma = evolve(sigma, H, mixing_time)         #; // evolution during t1\n",
    "    sigma = Ixypuls(sys, sigma, Y, 90)            #; // apply second 90 y-pulse\n",
    "\n",
    "    FID(sigma,detect,H,dt2,t2pts,tmp)       #; // acquisition\n",
    "\n",
    "    data1[t1] +=  tmp.toNParray()\n"
   ]
  },
  {
   "cell_type": "code",
   "execution_count": 38,
   "metadata": {},
   "outputs": [],
   "source": [
    "sigma0 = sigma_eq(sys)                      # // equilibrium density matrix\n",
    "\n",
    "X = 0.\n",
    "Y = 90.\n",
    "X_ = 180.0\n",
    "Y_ = 270.0\n",
    "for t1 in range(t1pts):\n",
    "    # X Y X\n",
    "    sigma = Ixypuls(sys, sigma0, X, 90.)            #; // apply first 90 y-pulse\n",
    "    sigma = evolve(sigma, H, t1*dt1)         #; // evolution during t1\n",
    "    sigma = Ixypuls(sys, sigma, Y, 90.)            #; // apply second 90 y-pulse\n",
    "    sigma = evolve(sigma, H, mixing_time)         #; // evolution during t1\n",
    "    sigma = Ixypuls(sys, sigma, X, 90.)            #; // apply second 90 y-pulse\n",
    "\n",
    "    FID(sigma,detect,H,dt2,t2pts,tmp)       #; // acquisition\n",
    "\n",
    "    data2[t1] +=  tmp.toNParray()\n",
    "    \n",
    "    # Y X_ X\n",
    "    sigma = Ixypuls(sys, sigma0, Y, 90.)            #; // apply first 90 y-pulse\n",
    "    sigma = evolve(sigma, H, t1*dt1)         #; // evolution during t1\n",
    "    sigma = Ixypuls(sys, sigma, X_, 90.)            #; // apply second 90 y-pulse\n",
    "    sigma = evolve(sigma, H, mixing_time)         #; // evolution during t1\n",
    "    sigma = Ixypuls(sys, sigma, X, 90.)            #; // apply second 90 y-pulse\n",
    "\n",
    "    FID(sigma,detect,H,dt2,t2pts,tmp)       #; // acquisition\n",
    "\n",
    "    data2[t1] +=  tmp.toNParray()\n",
    "    \n",
    "    # X_  Y_  X\n",
    "    sigma = Ixypuls(sys, sigma0, X_, 90.)            #; // apply first 90 y-pulse\n",
    "    sigma = evolve(sigma, H, t1*dt1)         #; // evolution during t1\n",
    "    sigma = Ixypuls(sys, sigma, Y_, 9.0)            #; // apply second 90 y-pulse\n",
    "    sigma = evolve(sigma, H, mixing_time)         #; // evolution during t1\n",
    "    sigma = Ixypuls(sys, sigma, X, 90.)            #; // apply second 90 y-pulse\n",
    "\n",
    "    FID(sigma,detect,H,dt2,t2pts,tmp)       #; // acquisition\n",
    "\n",
    "    data2[t1] +=  tmp.toNParray()\n",
    "    \n",
    "    # Y_  X  X\n",
    "    sigma = Ixypuls(sys, sigma0, Y_, 90.)            #; // apply first 90 y-pulse\n",
    "    sigma = evolve(sigma, H, t1*dt1)         #; // evolution during t1\n",
    "    sigma = Ixypuls(sys, sigma, X, 90.)            #; // apply second 90 y-pulse\n",
    "    sigma = evolve(sigma, H, mixing_time)         #; // evolution during t1\n",
    "    sigma = Ixypuls(sys, sigma, Y, 90.)            #; // apply second 90 y-pulse\n",
    "\n",
    "    FID(sigma,detect,H,dt2,t2pts,tmp)       #; // acquisition\n",
    "\n",
    "    data2[t1] +=  tmp.toNParray()"
   ]
  },
  {
   "cell_type": "code",
   "execution_count": 39,
   "metadata": {},
   "outputs": [
    {
     "data": {
      "text/plain": [
       "<matplotlib.image.AxesImage at 0x7fde021669b0>"
      ]
     },
     "execution_count": 39,
     "metadata": {},
     "output_type": "execute_result"
    },
    {
     "data": {
      "image/png": "[encoded data removed]",
      "text/plain": [
       "<Figure size 432x288 with 1 Axes>"
      ]
     },
     "metadata": {
      "needs_background": "light"
     },
     "output_type": "display_data"
    }
   ],
   "source": [
    "plt.imshow(data1.real)"
   ]
  },
  {
   "cell_type": "code",
   "execution_count": 40,
   "metadata": {},
   "outputs": [
    {
     "data": {
      "image/png": "[encoded data removed]",
      "text/plain": [
       "<Figure size 432x288 with 1 Axes>"
      ]
     },
     "metadata": {
      "needs_background": "light"
     },
     "output_type": "display_data"
    }
   ],
   "source": [
    "lb=5.0\n",
    "ttt = np.linspace(0,dt1*t2pts, t2pts)\n",
    "exp_linebroadening = np.exp(-ttt*lb*2*np.pi)\n",
    "plt.plot(exp_linebroadening);"
   ]
  },
  {
   "cell_type": "code",
   "execution_count": 41,
   "metadata": {},
   "outputs": [],
   "source": [
    "data1 = data1*exp_linebroadening\n",
    "data2 = data2*exp_linebroadening"
   ]
  },
  {
   "cell_type": "code",
   "execution_count": 42,
   "metadata": {},
   "outputs": [],
   "source": [
    "sss1 = fftpack.fft(data1, axis=1)\n",
    "sss1 = fftpack.fftshift(sss1,axes=1)"
   ]
  },
  {
   "cell_type": "code",
   "execution_count": 43,
   "metadata": {},
   "outputs": [],
   "source": [
    "sss2 = fftpack.fft(data2, axis=1)\n",
    "sss2 = fftpack.fftshift(sss2,axes=1)"
   ]
  },
  {
   "cell_type": "code",
   "execution_count": 51,
   "metadata": {},
   "outputs": [
    {
     "data": {
      "image/png": "[encoded data removed]",
      "text/plain": [
       "<Figure size 432x288 with 1 Axes>"
      ]
     },
     "metadata": {
      "needs_background": "light"
     },
     "output_type": "display_data"
    }
   ],
   "source": [
    "plt.plot(sss1[0].real, label='r')\n",
    "plt.plot(sss1[0].imag, label='i')\n",
    "plt.legend();"
   ]
  },
  {
   "cell_type": "code",
   "execution_count": 52,
   "metadata": {},
   "outputs": [
    {
     "data": {
      "image/png": "[encoded data removed]",
      "text/plain": [
       "<Figure size 432x288 with 1 Axes>"
      ]
     },
     "metadata": {
      "needs_background": "light"
     },
     "output_type": "display_data"
    }
   ],
   "source": [
    "plt.plot(sss2[0].real, label='r')\n",
    "plt.plot(sss2[0].imag, label='i')\n",
    "plt.legend();"
   ]
  },
  {
   "cell_type": "code",
   "execution_count": 45,
   "metadata": {},
   "outputs": [
    {
     "data": {
      "application/vnd.jupyter.widget-view+json": {
       "model_id": "25298a0f66c141438a669addda6b8341",
       "version_major": 2,
       "version_minor": 0
      },
      "text/plain": [
       "interactive(children=(FloatSlider(value=-0.0015926535897929917, description='phcorr0', max=3.141592653589793, …"
      ]
     },
     "metadata": {},
     "output_type": "display_data"
    }
   ],
   "source": [
    "nmrglue.process.proc_autophase.manual_ps(sss1[0], notebook=True)"
   ]
  },
  {
   "cell_type": "code",
   "execution_count": 46,
   "metadata": {},
   "outputs": [],
   "source": [
    "ph0_1 = 106.649\n",
    "ph1_1 = -0.34"
   ]
  },
  {
   "cell_type": "code",
   "execution_count": 56,
   "metadata": {},
   "outputs": [
    {
     "data": {
      "application/vnd.jupyter.widget-view+json": {
       "model_id": "d1c25e63a2f54912aa1d4a5f99ff35ea",
       "version_major": 2,
       "version_minor": 0
      },
      "text/plain": [
       "interactive(children=(FloatSlider(value=-0.0015926535897929917, description='phcorr0', max=3.141592653589793, …"
      ]
     },
     "metadata": {},
     "output_type": "display_data"
    }
   ],
   "source": [
    "nmrglue.process.proc_autophase.manual_ps(sss2[0]*1j, notebook=True)"
   ]
  },
  {
   "cell_type": "code",
   "execution_count": 78,
   "metadata": {},
   "outputs": [],
   "source": [
    "ph0_2 = 0\n",
    "ph1_2 = -0.34"
   ]
  },
  {
   "cell_type": "code",
   "execution_count": 79,
   "metadata": {},
   "outputs": [],
   "source": [
    "phased_data1 = nmrglue.proc_base.ps(sss1, p0=ph0_1, p1=ph1_1)"
   ]
  },
  {
   "cell_type": "code",
   "execution_count": 80,
   "metadata": {},
   "outputs": [],
   "source": [
    "phased_data2 = nmrglue.proc_base.ps(sss2, p0=ph0_2, p1=ph1_2)"
   ]
  },
  {
   "cell_type": "code",
   "execution_count": 81,
   "metadata": {},
   "outputs": [],
   "source": [
    "fid = phased_data1.real + 1j*phased_data2.real"
   ]
  },
  {
   "cell_type": "code",
   "execution_count": null,
   "metadata": {},
   "outputs": [],
   "source": []
  },
  {
   "cell_type": "code",
   "execution_count": 82,
   "metadata": {},
   "outputs": [
    {
     "data": {
      "text/plain": [
       "<matplotlib.image.AxesImage at 0x7fde020fa470>"
      ]
     },
     "execution_count": 82,
     "metadata": {},
     "output_type": "execute_result"
    },
    {
     "data": {
      "image/png": "[encoded data removed]",
      "text/plain": [
       "<Figure size 432x288 with 1 Axes>"
      ]
     },
     "metadata": {
      "needs_background": "light"
     },
     "output_type": "display_data"
    }
   ],
   "source": [
    "plt.imshow(fid.real)"
   ]
  },
  {
   "cell_type": "code",
   "execution_count": 83,
   "metadata": {},
   "outputs": [
    {
     "data": {
      "text/plain": [
       "[<matplotlib.lines.Line2D at 0x7fde02056eb8>]"
      ]
     },
     "execution_count": 83,
     "metadata": {},
     "output_type": "execute_result"
    },
    {
     "data": {
      "image/png": "[encoded data removed]",
      "text/plain": [
       "<Figure size 432x288 with 1 Axes>"
      ]
     },
     "metadata": {
      "needs_background": "light"
     },
     "output_type": "display_data"
    }
   ],
   "source": [
    "plt.plot(fid[0].real)\n",
    "plt.plot(fid[-1].real)"
   ]
  },
  {
   "cell_type": "code",
   "execution_count": 84,
   "metadata": {},
   "outputs": [],
   "source": [
    "fid = fid*exp_linebroadening[:,np.newaxis]"
   ]
  },
  {
   "cell_type": "code",
   "execution_count": 85,
   "metadata": {},
   "outputs": [
    {
     "data": {
      "text/plain": [
       "<matplotlib.image.AxesImage at 0x7fde01a67b70>"
      ]
     },
     "execution_count": 85,
     "metadata": {},
     "output_type": "execute_result"
    },
    {
     "data": {
      "image/png": "[encoded data removed]",
      "text/plain": [
       "<Figure size 432x288 with 1 Axes>"
      ]
     },
     "metadata": {
      "needs_background": "light"
     },
     "output_type": "display_data"
    }
   ],
   "source": [
    "plt.imshow(fid.real)"
   ]
  },
  {
   "cell_type": "code",
   "execution_count": 86,
   "metadata": {},
   "outputs": [
    {
     "data": {
      "text/plain": [
       "[<matplotlib.lines.Line2D at 0x7fde01a88358>]"
      ]
     },
     "execution_count": 86,
     "metadata": {},
     "output_type": "execute_result"
    },
    {
     "data": {
      "image/png": "[encoded data removed]",
      "text/plain": [
       "<Figure size 432x288 with 1 Axes>"
      ]
     },
     "metadata": {
      "needs_background": "light"
     },
     "output_type": "display_data"
    }
   ],
   "source": [
    "plt.plot(fid[0].imag)\n",
    "plt.plot(fid[-1].imag)"
   ]
  },
  {
   "cell_type": "code",
   "execution_count": 87,
   "metadata": {},
   "outputs": [],
   "source": [
    "spec = fftpack.fftshift(fftpack.fft(fid,axis=0), axes=0)"
   ]
  },
  {
   "cell_type": "code",
   "execution_count": 88,
   "metadata": {},
   "outputs": [
    {
     "data": {
      "text/plain": [
       "<matplotlib.image.AxesImage at 0x7fde0199de80>"
      ]
     },
     "execution_count": 88,
     "metadata": {},
     "output_type": "execute_result"
    },
    {
     "data": {
      "image/png": "[encoded data removed]",
      "text/plain": [
       "<Figure size 432x288 with 1 Axes>"
      ]
     },
     "metadata": {
      "needs_background": "light"
     },
     "output_type": "display_data"
    }
   ],
   "source": [
    "plt.imshow(spec.imag)"
   ]
  },
  {
   "cell_type": "code",
   "execution_count": 89,
   "metadata": {},
   "outputs": [],
   "source": [
    "class TwoD_NMR_MAT_plot:\n",
    "    \n",
    "    def __init__(self, exp, pinfo, info, dimensions_ppm=[]):\n",
    "        \n",
    "#        print exp.shape\n",
    "        \n",
    "        self.exp = exp\n",
    "        self.pinfo = pinfo\n",
    "        self.info  = info\n",
    "        \n",
    "        self.rr,self.cc = exp.shape\n",
    "        self.X = np.zeros(exp.shape)\n",
    "        self.Y = np.zeros(exp.shape)\n",
    "        \n",
    "        r1=0\n",
    "        r2=self.rr\n",
    "\n",
    "        c1=0\n",
    "        c2=self.cc\n",
    "        \n",
    "#        print r2,c2\n",
    "        \n",
    "        self.create_axes(  pinfo, info, self.rr, self.cc, dimensions_ppm )\n",
    "          \n",
    "        self.create_plot_layout(self.dimensions_index)\n",
    "        \n",
    "        self.plot_plots()\n",
    "        \n",
    "\n",
    "        \n",
    "    def create_axes( self, pinfo, info, rr,cc, dimensions_ppm):\n",
    "                \n",
    "        self.f1_offset_p = pinfo['procs' ]['OFFSET']\n",
    "        self.f1_sw_hz     = pinfo['procs' ]['SW_p']\n",
    "        self.f1_omega    = pinfo['procs' ]['SF']\n",
    "        self.f1_sw_ppm   = self.f1_sw_hz/self.f1_omega\n",
    "        \n",
    "        self.f2_offset_p = pinfo['proc2s' ]['OFFSET']\n",
    "        self.f2_sw_hz     = pinfo['proc2s' ]['SW_p']\n",
    "        self.f2_omega    = pinfo['proc2s' ]['SF']\n",
    "        self.f2_sw_ppm   = self.f2_sw_hz/self.f2_omega\n",
    "#        print self.f1_sw_ppm\n",
    "        \n",
    "        self.f1 = np.linspace(self.f1_offset_p, self.f1_offset_p-self.f1_sw_ppm,  self.rr)\n",
    "        self.f2 = np.linspace(self.f2_offset_p, self.f2_offset_p-self.f2_sw_ppm,  self.cc)\n",
    "        \n",
    "        self.dw_f1_ppm = self.f1[1]-self.f1[0]\n",
    "        self.dw_f2_ppm = self.f2[1]-self.f2[0]\n",
    "        \n",
    "        for r in range(self.rr):\n",
    "    \n",
    "            for c in range( self.cc):\n",
    "        \n",
    "                self.Y[r,c] = self.f1[r]\n",
    "                self.X[r,c] = self.f2[c] \n",
    "                \n",
    "#        print dimensions_ppm       \n",
    "        if dimensions_ppm == []:\n",
    "            self.dimensions_index = np.array([0,self.rr-1,0,self.cc-1])\n",
    "        else:\n",
    "            r1 = int( (dimensions_ppm[1]-self.f1_offset_p)/self.dw_f1_ppm)\n",
    "            r2 = int( (dimensions_ppm[0]-self.f1_offset_p)/self.dw_f1_ppm)\n",
    "            c1 = int( (dimensions_ppm[2]-self.f2_offset_p)/self.dw_f2_ppm)\n",
    "            c2 = int( (dimensions_ppm[3]-self.f2_offset_p)/self.dw_f2_ppm)\n",
    "            \n",
    "            self.dimensions_index = np.array([r1,r2,c1,c2 ])\n",
    "            \n",
    "#        print \"self.dimensions_index\", self.dimensions_index\n",
    "            \n",
    "        self.Z1 = self.exp[self.dimensions_index[0]:self.dimensions_index[1],self.dimensions_index[2]:self.dimensions_index[3]]\n",
    "        self.X1 =   self.X[self.dimensions_index[0]:self.dimensions_index[1],self.dimensions_index[2]:self.dimensions_index[3]]\n",
    "        self.Y1 =   self.Y[self.dimensions_index[0]:self.dimensions_index[1],self.dimensions_index[2]:self.dimensions_index[3]]\n",
    "        \n",
    "        \n",
    "    def create_plot_layout( self, dimensions_index):\n",
    "        \n",
    "#        print \"dimensions_index\",dimensions_index\n",
    "        \n",
    "        nullfmt   = NullFormatter()         # no labels\n",
    "\n",
    "        # definitions for the axes\n",
    "        left, width = 0.1, 0.65\n",
    "        bottom, height = 0.1, 0.65\n",
    "        bottom_h = left_h = left+width+0.02\n",
    "\n",
    "        rect_scatter = [left, bottom, width, height]\n",
    "        rect_histx = [left, bottom_h, width, 0.2]\n",
    "        rect_histy = [left_h, bottom, 0.2, height]\n",
    "\n",
    "        # start with a rectangular Figure\n",
    "        plt.figure(2, figsize=(6,6))\n",
    "\n",
    "        self.axScatter = plt.axes(rect_scatter)\n",
    "        self.axHistx = plt.axes(rect_histx)\n",
    "        self.axHisty = plt.axes(rect_histy)\n",
    "\n",
    "# no labels\n",
    "        self.axHistx.xaxis.set_major_formatter(nullfmt)\n",
    "        self.axHisty.yaxis.set_major_formatter(nullfmt)\n",
    "        \n",
    "        self.axScatter.tick_params(axis='x', labelsize=16)\n",
    "        self.axScatter.tick_params(axis='y', labelsize=16)\n",
    "        self.axScatter.set_xlabel('${^1}$H [ppm]',fontsize=16)\n",
    "        #ax.set_xlim(-60, 60)\n",
    "        self.axScatter.set_ylabel('${^1}$H [ppm]', fontsize=16)\n",
    "        \n",
    "        self.axHistx.axis('off')\n",
    "        self.axHisty.axis('off')\n",
    "\n",
    "        f1_start = self.f1[dimensions_index[0]]\n",
    "        f1_end   = self.f1[dimensions_index[1]]\n",
    "\n",
    "        f2_start = self.f2[dimensions_index[2]]\n",
    "        f2_end   = self.f2[dimensions_index[3]]\n",
    "\n",
    "        self.axScatter.set_ylim( (f1_start, f1_end) )\n",
    "        self.axScatter.set_xlim( (f2_start, f2_end) )\n",
    "        \n",
    "        \n",
    "\n",
    "    def plot_plots(self):\n",
    "        \n",
    "        # the scatter plot:\n",
    "        cl = np.linspace(self.Z1.max()*0.01, self.Z1.max()*1.1,10)\n",
    "#        print \"Z1.shape\",self.Z1.shape\n",
    "        \n",
    "\n",
    "        sum_f1 = self.Z1.sum(axis=0)\n",
    "#        print \"len(sum_f1)\",len(sum_f1)\n",
    "        sum_f2 = self.Z1.sum(axis=1)\n",
    "#        print \"len(sum_f2)\",len(sum_f2)\n",
    "\n",
    "        cset = self.axScatter.contour(self.X1, self.Y1, self.Z1,  cl,  colors='red')\n",
    "        #\n",
    "        self.axHistx.plot(sum_f1, 'r-')\n",
    "        self.axHisty.plot(sum_f2,range(len(sum_f2)),'r')\n",
    "\n",
    "\n",
    "        self.axHistx.set_xlim( (0,len(sum_f1)-1) )\n",
    "        self.axHisty.set_ylim( (0,len(sum_f2)-1) )        \n",
    "        \n"
   ]
  },
  {
   "cell_type": "code",
   "execution_count": 90,
   "metadata": {},
   "outputs": [],
   "source": [
    "info = {}\n",
    "pinfo = {}\n",
    "\n",
    "pinfo['procs']={}\n",
    "pinfo['proc2s']={}\n",
    "\n"
   ]
  },
  {
   "cell_type": "code",
   "execution_count": 91,
   "metadata": {},
   "outputs": [],
   "source": [
    "pinfo['procs']['OFFSET']=1.25"
   ]
  },
  {
   "cell_type": "code",
   "execution_count": 92,
   "metadata": {},
   "outputs": [],
   "source": [
    "pinfo['procs' ]['SW_p']=1.0/dt1"
   ]
  },
  {
   "cell_type": "code",
   "execution_count": 93,
   "metadata": {},
   "outputs": [],
   "source": [
    "pinfo['procs' ]['SF']=sys.spectrometer_frequency()"
   ]
  },
  {
   "cell_type": "code",
   "execution_count": 94,
   "metadata": {},
   "outputs": [],
   "source": [
    "pinfo['proc2s' ]['OFFSET'] =1.25\n",
    "pinfo['proc2s' ]['SW_p']=1.0/dt2\n",
    "pinfo['proc2s' ]['SF']=sys.spectrometer_frequency()"
   ]
  },
  {
   "cell_type": "code",
   "execution_count": 95,
   "metadata": {},
   "outputs": [
    {
     "data": {
      "image/png": "[encoded data removed]",
      "text/plain": [
       "<Figure size 432x432 with 3 Axes>"
      ]
     },
     "metadata": {
      "needs_background": "light"
     },
     "output_type": "display_data"
    }
   ],
   "source": [
    "ppplot = TwoD_NMR_MAT_plot(1*spec.real, pinfo, info )"
   ]
  },
  {
   "cell_type": "code",
   "execution_count": 33,
   "metadata": {},
   "outputs": [
    {
     "name": "stdout",
     "output_type": "stream",
     "text": [
      "['__builtins__', '__cached__', '__doc__', '__file__', '__loader__', '__name__', '__package__', '__path__', '__spec__', '__version__', 'agilent', 'analysis', 'analysisbase', 'bruker', 'convert', 'fileio', 'fileiobase', 'helpers', 'integration', 'jcampdx', 'leastsqbound', 'linesh', 'lineshapes1d', 'misc', 'nmrml', 'peakpick', 'pipe', 'pipe_proc', 'proc_autophase', 'proc_base', 'proc_bl', 'proc_lp', 'process', 'rnmrtk', 'segmentation', 'simpson', 'sparky', 'table', 'tecmag', 'util', 'varian']\n"
     ]
    }
   ],
   "source": [
    "print(dir(nmrglue))"
   ]
  },
  {
   "cell_type": "code",
   "execution_count": 34,
   "metadata": {},
   "outputs": [
    {
     "data": {
      "application/vnd.jupyter.widget-view+json": {
       "model_id": "0ba8715a74854c738d0168c027225bc2",
       "version_major": 2,
       "version_minor": 0
      },
      "text/plain": [
       "interactive(children=(FloatSlider(value=-0.0015926535897929917, description='phcorr0', max=3.141592653589793, …"
      ]
     },
     "metadata": {},
     "output_type": "display_data"
    }
   ],
   "source": [
    "nmrglue.process.proc_autophase.manual_ps(spec, notebook=True)"
   ]
  },
  {
   "cell_type": "code",
   "execution_count": null,
   "metadata": {},
   "outputs": [],
   "source": []
  }
 ],
 "metadata": {
  "kernelspec": {
   "display_name": "Python 3",
   "language": "python",
   "name": "python3"
  },
  "language_info": {
   "codemirror_mode": {
    "name": "ipython",
    "version": 3
   },
   "file_extension": ".py",
   "mimetype": "text/x-python",
   "name": "python",
   "nbconvert_exporter": "python",
   "pygments_lexer": "ipython3",
   "version": "3.7.3"
  }
 },
 "nbformat": 4,
 "nbformat_minor": 2
}
