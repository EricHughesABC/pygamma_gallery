{
 "cells": [
  {
   "cell_type": "code",
   "execution_count": 27,
   "metadata": {
    "collapsed": true
   },
   "outputs": [],
   "source": [
    "\"\"\"/* cosyrush.cc ****************************************************************-*-c++-*-\n",
    "**\n",
    "**\n",
    "**\n",
    "Example program for the GAMMA Project\n",
    "**\n",
    "**\n",
    "**\n",
    "** The Program reads a spin system (number of spins, chemical shifts and\n",
    "**\n",
    "** J-coupling constants) from a file and simulates a normal COSY experiment **\n",
    "** using RuSH for quadrature detection in t1\n",
    "**\n",
    "**\n",
    "**\n",
    "** NOTE: Set to work only on HOMONUCLEAR systems\n",
    "**\n",
    "**\n",
    "**\n",
    "**************************************************************************************** */\n",
    "#include <gamma.h>\n",
    "\n",
    "// Define Constants\n",
    "\n",
    "const int t1pts = 512;  // Number of t1 points\n",
    "const int t2pts = 512;  // Number of t2 points\n",
    "\n",
    "// Begin Program\n",
    "\n",
    "main (int argc, char* argv[])  // 22 1.5 COSY with RuSH Method\n",
    "{\n",
    "    cout << “\\Homonuclear COSY Simulation with RuSH Mode\\n”;\n",
    "\n",
    "    //Read in the Spin System\n",
    "\n",
    "    String filename;                                                       // Name of spin system file\n",
    "    query_parameter(argc, argv, 1, “\\nSpin system filename? “, filename);  // Get filename from command\n",
    "                                                                           // line or ask for it\n",
    "    spin_system sys;                                                       // Declare spin system sys\n",
    "    sys.read(filename);                                                    // Read system from filename \n",
    "    \n",
    "    // Set Offsets and Spectral Widths\n",
    "\n",
    "    double offset = sys.center();                 // Find approx. spectrum center\n",
    "    sys.offsetShifts(offset);                     // Offset shifts so centered\n",
    "    double NyqF = sys.Nyquist(0, 1.4);            // Approximate Nyquist frequency\n",
    "    double t2dt = 1.0/(2.0*NyqF);                 // t2 time increment\n",
    "    double t1dt = t2dt;                           // t1 time increment\n",
    "\n",
    "    //  Set Up Hamiltonian\n",
    "\n",
    "    char J;\n",
    "    query_parameter(argc, argv, 2, “\\nWeak or strong coupling (w/s)?”, J);\n",
    "    gen_op H;\n",
    "\n",
    "    if (J == ‘w’)\n",
    "        H = Hcs(sys) + HJw(sys);\n",
    "    else\n",
    "        H = Hcs(sys) + HJ(sys);\n",
    "\n",
    "    gen_op Upx = Ixypuls_U(sys,0.0,90.0);          // Propagator for x pulse\n",
    "    gen_op Upy = Ixypuls_U(sys,90.0,90.0);         // Propagator for y pulse\n",
    "    gen_op Ud1 = prop(H, t1dt);                    // Propagator t1 delay increment\n",
    "    gen_op D = Fm(sys);                            // Detector to F-\n",
    "    gen_op sigma0, sigma1, sigma2, sigma3;         // Set up density matrices\n",
    "    \n",
    "    block_1D t2BLK(t2pts);                         // Set 1D block for output Pulse Sequence and I/O Setup\n",
    "    \n",
    "    // Declare and open two files\n",
    "\n",
    "    File cosyRe, cosyIm;\n",
    "\n",
    "    cosyRe.open(“cosyRuSH.Redat”,io_writeonly, a_create);\n",
    "    cosyIm.open(“cosyRuSH.Imdat”,io_writeonly, a_create);\n",
    "\n",
    "    // Apply Pulse Sequence\n",
    "\n",
    "    gen_op sigma0 = sigma_eq(sys);                // Set density matrix equilibrium\n",
    "    gen_op sigma1 = evolve(sigma0, Upx);          // Apply first (PI/2)x pulse\n",
    "    gen_op sigma2 = sigma1;                       // Initial sigma2 (t1 = 0)   \n",
    "\n",
    "    for (int t1=0; t1<t1pts; t1++)                // Loop over all t1 increments\n",
    "    {\n",
    "        sigma3 = evolve(sigma2, Upx);             // Apply second (PI/2)x pulse\n",
    "        FID(sigma3,D,H,t2dt,t2pts,t2BLK);         // Acquire data for reals\n",
    "        Felix(cosyRe, t2BLK);                     // Output block for reals: Felix\n",
    "        \n",
    "        sigma3 = evolve(sigma2, Upy);             // Apply second (PI/2)y pulse\n",
    "        FID(sigma3,D,H,t2dt,t2pts,t2BLK);         // Acquire data for imaginaries\n",
    "        Felix(cosyIm, t2BLK);                     // Output block for imags: Felix\n",
    "        evolve_ip(sigma2, Ud1);                   // evolution to next t1\n",
    "    }\n",
    "\n",
    "    cosyRe.close();                               // Close files\n",
    "    cosyIm.close();\n",
    "\n",
    "\n",
    "\"\"\";"
   ]
  },
  {
   "cell_type": "code",
   "execution_count": 28,
   "metadata": {
    "collapsed": true
   },
   "outputs": [],
   "source": [
    "import pygamma\n",
    "import numpy \n",
    "import nmrglue\n",
    "from pygamma import spin_system, Hcs, HJw, HJ, Fm, Fp, gen_op, sigma_eq, Iypuls, Ixpuls,evolve, FID, row_vector, evolve_ip\n",
    "\n",
    "from scipy import fftpack\n",
    "\n",
    "import matplotlib.pyplot as plt\n",
    "from matplotlib.ticker import NullFormatter\n",
    "\n",
    "%matplotlib inline"
   ]
  },
  {
   "cell_type": "markdown",
   "metadata": {},
   "source": [
    "### DEFINE SYSTEM & NMR PARAMETERS"
   ]
  },
  {
   "cell_type": "code",
   "execution_count": 29,
   "metadata": {
    "collapsed": true
   },
   "outputs": [],
   "source": [
    "t1dt = 0.002 # t1 time increment\n",
    "t2dt = 0.002 # t2 time increment\n",
    "t1pts = 512 # points on t1 axis\n",
    "t2pts = 512 # points on t2 axis"
   ]
  },
  {
   "cell_type": "code",
   "execution_count": 30,
   "metadata": {},
   "outputs": [
    {
     "name": "stdout",
     "output_type": "stream",
     "text": [
      "Spin Index :      0            1            2      \n",
      "Isotope    :      1H           1H           1H     \n",
      "Momentum   :     1/2          1/2          1/2     \n",
      "Shifts     :     0.00 Hz      0.00 Hz      0.00 Hz \n",
      "           :     0.50 ppm     0.25 ppm     0.10 ppm\n",
      "Js Spin 0  :                 10.00 Hz      0.00 Hz \n",
      "Js Spin 1  :                              15.00 Hz \n",
      "Omega      :   400.00 MHz   400.00 MHz   400.00 MHz\n",
      "\n"
     ]
    }
   ],
   "source": [
    "sys=spin_system()     # define the system, read in\n",
    "sys.read(\"cosy1.sys\") # from disk\n",
    "\n",
    "print sys"
   ]
  },
  {
   "cell_type": "code",
   "execution_count": 31,
   "metadata": {},
   "outputs": [],
   "source": [
    "#     // Set Offsets and Spectral Widths\n",
    "\n",
    "#     double offset = sys.center();                 // Find approx. spectrum center\n",
    "#     sys.offsetShifts(offset);                     // Offset shifts so centered\n",
    "#     double NyqF = sys.Nyquist(0, 1.4);            // Approximate Nyquist frequency\n",
    "#     double t2dt = 1.0/(2.0*NyqF);                 // t2 time increment\n",
    "#     double t1dt = t2dt;                           // t1 time increment\n",
    "\n",
    "offset = sys.center()\n",
    "sys.offsetShifts(offset)\n",
    "# NyqF = sys.Nyquist(0,0, 1.4)\n",
    "# t2dt = 1.0/(2.0*NyqF)\n",
    "# t1dt = t2dt\n",
    "\n"
   ]
  },
  {
   "cell_type": "markdown",
   "metadata": {},
   "source": [
    "### SET UP NECESSARY VARIABLES\n"
   ]
  },
  {
   "cell_type": "code",
   "execution_count": 32,
   "metadata": {},
   "outputs": [],
   "source": [
    "tmp = row_vector(t2pts)                                    #block_1D tmp(t2pts); // 1D-data block storage\n",
    "data1 = numpy.zeros((t1pts,t2pts), dtype=numpy.complex128) #block_2D data(t1pts,t2pts); // 2D-data matrix storage\n",
    "data2 = numpy.zeros((t1pts,t2pts), dtype=numpy.complex128) #block_2D data(t1pts,t2pts); // 2D-data matrix storage\n",
    "\n",
    "H = Hcs(sys)+ HJ(sys)                                    # // Hamiltonian, weak coupling\n",
    "detect = gen_op(Fm(sys))                                  # // F- for detection operator\n",
    "sigma0 = sigma_eq(sys)\n",
    "\n",
    "sigma1 = Ixpuls(sys, sigma0, 90.0)   # pulse 1 real\n",
    "sigma2 = Iypuls(sys, sigma0, 90.0)   # pulse 1 imag\n"
   ]
  },
  {
   "cell_type": "markdown",
   "metadata": {},
   "source": [
    "### APPLY PULSE SEQUENCE"
   ]
  },
  {
   "cell_type": "code",
   "execution_count": 33,
   "metadata": {
    "collapsed": true
   },
   "outputs": [],
   "source": [
    "Ud1 = pygamma.prop(H, t1dt)\n",
    "\n",
    "for i in range(t1pts):\n",
    "        \n",
    "    # real        \n",
    "    sigma3 = Ixpuls(sys, sigma1, 90.0)        \n",
    "    FID(sigma3,detect,H,t2dt,t2pts,tmp)\n",
    "    data1[i] =  tmp.toNParray()\n",
    "    evolve_ip(sigma1, Ud1)\n",
    "\n",
    "    #imag\n",
    "    sigma4 = Ixpuls(sys, sigma2, 90.0)      \n",
    "    FID(sigma4,detect,H,t2dt,t2pts,tmp)\n",
    "    data2[i] =  tmp.toNParray()\n",
    "    evolve_ip(sigma2, Ud1)\n",
    "        "
   ]
  },
  {
   "cell_type": "markdown",
   "metadata": {},
   "source": [
    "### Apply Lorentzian linebroadening  in both dimensions, 2D-FFT and display in phase sensitive mode"
   ]
  },
  {
   "cell_type": "code",
   "execution_count": 34,
   "metadata": {},
   "outputs": [
    {
     "data": {
      "image/png": "[encoded data removed]",
      "text/plain": [
       "<matplotlib.figure.Figure at 0x7fba8bee0ed0>"
      ]
     },
     "metadata": {},
     "output_type": "display_data"
    }
   ],
   "source": [
    "ph1 = numpy.pi*0\n",
    "aq = 1./t2dt\n",
    "\n",
    "ttt = numpy.arange(t2pts)/aq\n",
    "llb  = numpy.exp(-ttt*3)\n",
    "\n",
    "plt.plot(ttt,llb);"
   ]
  },
  {
   "cell_type": "code",
   "execution_count": 35,
   "metadata": {},
   "outputs": [],
   "source": [
    "ddd1 =  llb*data1\n",
    "ddd2 =  llb*data2"
   ]
  },
  {
   "cell_type": "code",
   "execution_count": 36,
   "metadata": {},
   "outputs": [
    {
     "data": {
      "image/png": "[encoded data removed]",
      "text/plain": [
       "<matplotlib.figure.Figure at 0x7fba904f0590>"
      ]
     },
     "metadata": {},
     "output_type": "display_data"
    }
   ],
   "source": [
    "plt.plot(ddd1[64].real);\n",
    "plt.plot(ddd1[64].imag);"
   ]
  },
  {
   "cell_type": "code",
   "execution_count": 37,
   "metadata": {
    "collapsed": true
   },
   "outputs": [],
   "source": [
    "fid1 = fftpack.fft(ddd1, axis=1)\n",
    "fid1 = fftpack.fftshift(fid1, axes=1)"
   ]
  },
  {
   "cell_type": "code",
   "execution_count": 38,
   "metadata": {
    "collapsed": true
   },
   "outputs": [],
   "source": [
    "fid2 = fftpack.fft(ddd2, axis=1)\n",
    "fid2 = fftpack.fftshift(fid2, axes=1)"
   ]
  },
  {
   "cell_type": "code",
   "execution_count": 39,
   "metadata": {
    "collapsed": true
   },
   "outputs": [],
   "source": [
    "fid1 = fid1*llb[:,numpy.newaxis]"
   ]
  },
  {
   "cell_type": "code",
   "execution_count": 40,
   "metadata": {
    "collapsed": true
   },
   "outputs": [],
   "source": [
    "fid2 = fid2*llb[:,numpy.newaxis]"
   ]
  },
  {
   "cell_type": "code",
   "execution_count": 41,
   "metadata": {
    "collapsed": true
   },
   "outputs": [],
   "source": [
    "fid = fid1.real+1j*fid2.real"
   ]
  },
  {
   "cell_type": "code",
   "execution_count": 42,
   "metadata": {
    "collapsed": true
   },
   "outputs": [],
   "source": [
    "spec = fftpack.fft(fid, axis=0)"
   ]
  },
  {
   "cell_type": "code",
   "execution_count": 43,
   "metadata": {
    "collapsed": true
   },
   "outputs": [],
   "source": [
    "spec = fftpack.fftshift(spec, axes=0)"
   ]
  },
  {
   "cell_type": "markdown",
   "metadata": {},
   "source": [
    "### Plot in ppm making use of NMRGLUE python package"
   ]
  },
  {
   "cell_type": "code",
   "execution_count": 44,
   "metadata": {
    "collapsed": true
   },
   "outputs": [],
   "source": [
    "class TwoD_NMR_MAT_plot:\n",
    "    \n",
    "    def __init__(self, exp, pinfo, info, dimensions_ppm=[]):\n",
    "        \n",
    "#        print exp.shape\n",
    "        \n",
    "        self.exp = exp\n",
    "        self.pinfo = pinfo\n",
    "        self.info  = info\n",
    "        \n",
    "        self.rr,self.cc = exp.shape\n",
    "        self.X = numpy.zeros(exp.shape)\n",
    "        self.Y = numpy.zeros(exp.shape)\n",
    "        \n",
    "        r1=0\n",
    "        r2=self.rr\n",
    "\n",
    "        c1=0\n",
    "        c2=self.cc\n",
    "        \n",
    "#        print r2,c2\n",
    "        \n",
    "        self.create_axes(  pinfo, info, self.rr, self.cc, dimensions_ppm )\n",
    "          \n",
    "        self.create_plot_layout(self.dimensions_index)\n",
    "        \n",
    "        self.plot_plots()\n",
    "        \n",
    "\n",
    "        \n",
    "    def create_axes( self, pinfo, info, rr,cc, dimensions_ppm):\n",
    "                \n",
    "        self.f1_offset_p = pinfo['procs' ]['OFFSET']\n",
    "        self.f1_sw_hz     = pinfo['procs' ]['SW_p']\n",
    "        self.f1_omega    = pinfo['procs' ]['SF']\n",
    "        self.f1_sw_ppm   = self.f1_sw_hz/self.f1_omega\n",
    "        \n",
    "        self.f2_offset_p = pinfo['proc2s' ]['OFFSET']\n",
    "        self.f2_sw_hz     = pinfo['proc2s' ]['SW_p']\n",
    "        self.f2_omega    = pinfo['proc2s' ]['SF']\n",
    "        self.f2_sw_ppm   = self.f2_sw_hz/self.f2_omega\n",
    "#        print self.f1_sw_ppm\n",
    "        \n",
    "        self.f1 = numpy.linspace(self.f1_offset_p, self.f1_offset_p-self.f1_sw_ppm,  self.rr)\n",
    "        self.f2 = numpy.linspace(self.f2_offset_p, self.f2_offset_p-self.f2_sw_ppm,  self.cc)\n",
    "        \n",
    "        self.dw_f1_ppm = self.f1[1]-self.f1[0]\n",
    "        self.dw_f2_ppm = self.f2[1]-self.f2[0]\n",
    "        \n",
    "        for r in range(self.rr):\n",
    "    \n",
    "            for c in range( self.cc):\n",
    "        \n",
    "                self.Y[r,c] = self.f1[r]\n",
    "                self.X[r,c] = self.f2[c] \n",
    "                \n",
    "#        print dimensions_ppm       \n",
    "        if dimensions_ppm == []:\n",
    "            self.dimensions_index = numpy.array([0,self.rr-1,0,self.cc-1])\n",
    "        else:\n",
    "            r1 = int( (dimensions_ppm[1]-self.f1_offset_p)/self.dw_f1_ppm)\n",
    "            r2 = int( (dimensions_ppm[0]-self.f1_offset_p)/self.dw_f1_ppm)\n",
    "            c1 = int( (dimensions_ppm[2]-self.f2_offset_p)/self.dw_f2_ppm)\n",
    "            c2 = int( (dimensions_ppm[3]-self.f2_offset_p)/self.dw_f2_ppm)\n",
    "            \n",
    "            self.dimensions_index = numpy.array([r1,r2,c1,c2 ])\n",
    "            \n",
    "#        print \"self.dimensions_index\", self.dimensions_index\n",
    "            \n",
    "        self.Z1 = self.exp[self.dimensions_index[0]:self.dimensions_index[1],self.dimensions_index[2]:self.dimensions_index[3]]\n",
    "        self.X1 =   self.X[self.dimensions_index[0]:self.dimensions_index[1],self.dimensions_index[2]:self.dimensions_index[3]]\n",
    "        self.Y1 =   self.Y[self.dimensions_index[0]:self.dimensions_index[1],self.dimensions_index[2]:self.dimensions_index[3]]\n",
    "        \n",
    "        \n",
    "    def create_plot_layout( self, dimensions_index):\n",
    "        \n",
    "#        print \"dimensions_index\",dimensions_index\n",
    "        \n",
    "        nullfmt   = NullFormatter()         # no labels\n",
    "\n",
    "        # definitions for the axes\n",
    "        left, width = 0.1, 0.65\n",
    "        bottom, height = 0.1, 0.65\n",
    "        bottom_h = left_h = left+width+0.02\n",
    "\n",
    "        rect_scatter = [left, bottom, width, height]\n",
    "        rect_histx = [left, bottom_h, width, 0.2]\n",
    "        rect_histy = [left_h, bottom, 0.2, height]\n",
    "\n",
    "        # start with a rectangular Figure\n",
    "        plt.figure(2, figsize=(6,6))\n",
    "\n",
    "        self.axScatter = plt.axes(rect_scatter)\n",
    "        self.axHistx = plt.axes(rect_histx)\n",
    "        self.axHisty = plt.axes(rect_histy)\n",
    "\n",
    "# no labels\n",
    "        self.axHistx.xaxis.set_major_formatter(nullfmt)\n",
    "        self.axHisty.yaxis.set_major_formatter(nullfmt)\n",
    "        \n",
    "        self.axScatter.tick_params(axis='x', labelsize=16)\n",
    "        self.axScatter.tick_params(axis='y', labelsize=16)\n",
    "        self.axScatter.set_xlabel('${^1}$H [ppm]',fontsize=16)\n",
    "        #ax.set_xlim(-60, 60)\n",
    "        self.axScatter.set_ylabel('${^1}$H [ppm]', fontsize=16)\n",
    "        \n",
    "        self.axHistx.axis('off')\n",
    "        self.axHisty.axis('off')\n",
    "\n",
    "        f1_start = self.f1[dimensions_index[0]]\n",
    "        f1_end   = self.f1[dimensions_index[1]]\n",
    "\n",
    "        f2_start = self.f2[dimensions_index[2]]\n",
    "        f2_end   = self.f2[dimensions_index[3]]\n",
    "\n",
    "        self.axScatter.set_ylim( (f1_start, f1_end) )\n",
    "        self.axScatter.set_xlim( (f2_start, f2_end) )\n",
    "        \n",
    "        \n",
    "\n",
    "    def plot_plots(self):\n",
    "        \n",
    "        # the scatter plot:\n",
    "        cl = numpy.linspace(self.Z1.max()*0.01, self.Z1.max()*1.1,10)\n",
    "#        print \"Z1.shape\",self.Z1.shape\n",
    "        \n",
    "\n",
    "        sum_f1 = self.Z1.sum(axis=0)\n",
    "#        print \"len(sum_f1)\",len(sum_f1)\n",
    "        sum_f2 = self.Z1.sum(axis=1)\n",
    "#        print \"len(sum_f2)\",len(sum_f2)\n",
    "\n",
    "        cset = self.axScatter.contour(self.X1, self.Y1, self.Z1,  cl)\n",
    "        #\n",
    "        self.axHistx.plot(sum_f1, 'r-')\n",
    "        self.axHisty.plot(sum_f2,range(len(sum_f2)),'r')\n",
    "\n",
    "\n",
    "        self.axHistx.set_xlim( (0,len(sum_f1)-1) )\n",
    "        self.axHisty.set_ylim( (0,len(sum_f2)-1) )        \n",
    "        \n"
   ]
  },
  {
   "cell_type": "code",
   "execution_count": 45,
   "metadata": {
    "collapsed": true
   },
   "outputs": [],
   "source": [
    "info = {}\n",
    "pinfo = {}\n",
    "\n",
    "pinfo['procs']={}\n",
    "pinfo['proc2s']={}\n",
    "\n",
    "pinfo['procs']['OFFSET']=0.91\n",
    "pinfo['procs' ]['SW_p']=1.0/t1dt\n",
    "pinfo['procs' ]['SF']=sys.spectrometer_frequency()\n",
    "\n",
    "pinfo['proc2s' ]['OFFSET'] = 0.91\n",
    "pinfo['proc2s' ]['SW_p']=1.0/t2dt\n",
    "pinfo['proc2s' ]['SF']=sys.spectrometer_frequency()"
   ]
  },
  {
   "cell_type": "code",
   "execution_count": 46,
   "metadata": {},
   "outputs": [
    {
     "data": {
      "image/png": "[encoded data removed]",
      "text/plain": [
       "<matplotlib.figure.Figure at 0x7fba904a3e90>"
      ]
     },
     "metadata": {},
     "output_type": "display_data"
    }
   ],
   "source": [
    "#ppplot = TwoD_NMR_MAT_plot(spec.real, pinfo, info, [0.05,0.55, 0.55,0.05] )\n",
    "#ppplot = TwoD_NMR_MAT_plot(spec.real, pinfo, info,[-0.6,0,0,-0.6])\n",
    "ppplot = TwoD_NMR_MAT_plot(spec.imag, pinfo, info)"
   ]
  },
  {
   "cell_type": "code",
   "execution_count": null,
   "metadata": {
    "collapsed": true
   },
   "outputs": [],
   "source": []
  },
  {
   "cell_type": "code",
   "execution_count": null,
   "metadata": {
    "collapsed": true
   },
   "outputs": [],
   "source": []
  },
  {
   "cell_type": "code",
   "execution_count": null,
   "metadata": {
    "collapsed": true
   },
   "outputs": [],
   "source": []
  }
 ],
 "metadata": {
  "kernelspec": {
   "display_name": "Python [Root]",
   "language": "python",
   "name": "Python [Root]"
  },
  "language_info": {
   "codemirror_mode": {
    "name": "ipython",
    "version": 2
   },
   "file_extension": ".py",
   "mimetype": "text/x-python",
   "name": "python",
   "nbconvert_exporter": "python",
   "pygments_lexer": "ipython2",
   "version": "2.7.13"
  }
 },
 "nbformat": 4,
 "nbformat_minor": 1
}
