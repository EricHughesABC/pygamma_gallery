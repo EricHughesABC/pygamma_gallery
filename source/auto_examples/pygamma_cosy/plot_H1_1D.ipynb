{
  "cells": [
    {
      "cell_type": "code",
      "execution_count": null,
      "metadata": {
        "collapsed": false
      },
      "outputs": [],
      "source": [
        "%matplotlib inline"
      ]
    },
    {
      "cell_type": "markdown",
      "metadata": {},
      "source": [
        "\n1H Single Pulse\n###############\n\nAn example of simulating a single pulse experiment using pygamma. \n"
      ]
    },
    {
      "cell_type": "code",
      "execution_count": null,
      "metadata": {
        "collapsed": false
      },
      "outputs": [],
      "source": [
        "import nmrglue as ng\nimport pygamma as pg\n\nimport matplotlib.pyplot as plt\n\n    \nsys = pg.spin_system()     # define the system, read in\nsys.read(\"cosy1.sys\") # from disk\n\nprint( sys)\n\ndt2 = 0.002 # t2 time increment\nt2pts = 1024 # points on t2 axis\n\nudic = {'ndim': 1,\n         0: { 'sw': 1/dt2,\n              'dw': dt2,\n              'complex': True,\n              'obs': 400.0,\n              'car': 0,\n              'size': t2pts,\n              'label': '1H',\n              'encoding': 'direct',\n              'time': False,\n              'freq': True\n            }\n        }\n\nfid = pg.row_vector(t2pts)      #block_1D tmp(t2pts); // 1D-data block storage\n\nH = pg.Hcs(sys)+ pg.HJw(sys)             # // Hamiltonian, weak coupling\ndetect = pg.gen_op(pg.Fp(sys))     # // F+ for detection operator\n\nsigma0 = pg.sigma_eq(sys)                      # // equilibrium density matrix\nsigma1 = pg.Iypuls(sys, sigma0, 90)  \npg.FID(sigma1,detect,H,dt2,t2pts,fid)\n\npg.exponential_multiply(fid,-5)\nspec = fid.FFT()\n\nnpspec = spec.toNParray()\n\nuc0 = ng.fileiobase.unit_conversion(udic[0]['size'],\n                                     udic[0]['complex'], \n                                     udic[0]['sw'], \n                                     udic[0]['obs'], \n                                     udic[0]['car'])"
      ]
    },
    {
      "cell_type": "markdown",
      "metadata": {},
      "source": [
        "Plot 1D spectrum\n\n\n"
      ]
    },
    {
      "cell_type": "code",
      "execution_count": null,
      "metadata": {
        "collapsed": false
      },
      "outputs": [],
      "source": [
        "plt.plot(uc0.ppm_scale(), npspec.real)\nplt.xlim(uc0.ppm_limits())\nplt.xlabel('ppm', fontsize=14)\nplt.yticks([])\nax = plt.gca()\nax.spines['top'].set_visible(False)\nax.spines['left'].set_visible(False)\nax.spines['right'].set_visible(False)\nax.tick_params(axis='both', which='major', labelsize=14)"
      ]
    }
  ],
  "metadata": {
    "kernelspec": {
      "display_name": "Python 3",
      "language": "python",
      "name": "python3"
    },
    "language_info": {
      "codemirror_mode": {
        "name": "ipython",
        "version": 3
      },
      "file_extension": ".py",
      "mimetype": "text/x-python",
      "name": "python",
      "nbconvert_exporter": "python",
      "pygments_lexer": "ipython3",
      "version": "3.7.1"
    }
  },
  "nbformat": 4,
  "nbformat_minor": 0
}