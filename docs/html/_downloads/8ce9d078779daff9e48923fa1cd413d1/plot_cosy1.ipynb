{
  "cells": [
    {
      "cell_type": "code",
      "execution_count": null,
      "metadata": {
        "collapsed": false
      },
      "outputs": [],
      "source": [
        "%matplotlib inline"
      ]
    },
    {
      "cell_type": "markdown",
      "metadata": {},
      "source": [
        "\npygamma cosy\n############\n\nAn example of simulating a 2D cosy experiment using pygamma. The example is translated from the original C++ code and the 2D plot is displayed in absolute mode\n\n"
      ]
    },
    {
      "cell_type": "code",
      "execution_count": null,
      "metadata": {
        "collapsed": false
      },
      "outputs": [],
      "source": [
        "#import pygamma\nfrom pygamma import spin_system, Hcs, HJw, Fm, gen_op, sigma_eq, Iypuls, evolve, FID, row_vector\n\n#import nmrglue\n\nimport numpy as np\nfrom scipy import fftpack\n\nimport matplotlib.pyplot as plt\nfrom matplotlib.ticker import NullFormatter\n\nclass TwoD_NMR_MAT_plot:\n    \n    def __init__(self, exp, pinfo, info, dimensions_ppm=[]):\n        \n#        print exp.shape\n        \n        self.exp = exp\n        self.pinfo = pinfo\n        self.info  = info\n        \n        self.rr,self.cc = exp.shape\n        self.X = np.zeros(exp.shape)\n        self.Y = np.zeros(exp.shape)\n        \n#        r1=0\n#        r2=self.rr\n#\n#        c1=0\n#        c2=self.cc\n        \n#        print r2,c2\n        \n        self.create_axes(  pinfo, info, self.rr, self.cc, dimensions_ppm )\n          \n        self.create_plot_layout(self.dimensions_index)\n        \n        self.plot_plots()\n        \n\n        \n    def create_axes( self, pinfo, info, rr,cc, dimensions_ppm):\n                \n        self.f1_offset_p = pinfo['procs' ]['OFFSET']\n        self.f1_sw_hz     = pinfo['procs' ]['SW_p']\n        self.f1_omega    = pinfo['procs' ]['SF']\n        self.f1_sw_ppm   = self.f1_sw_hz/self.f1_omega\n        \n        self.f2_offset_p = pinfo['proc2s' ]['OFFSET']\n        self.f2_sw_hz     = pinfo['proc2s' ]['SW_p']\n        self.f2_omega    = pinfo['proc2s' ]['SF']\n        self.f2_sw_ppm   = self.f2_sw_hz/self.f2_omega\n#        print self.f1_sw_ppm\n        \n        self.f1 = np.linspace(self.f1_offset_p, self.f1_offset_p-self.f1_sw_ppm,  self.rr)\n        self.f2 = np.linspace(self.f2_offset_p, self.f2_offset_p-self.f2_sw_ppm,  self.cc)\n        \n        self.dw_f1_ppm = self.f1[1]-self.f1[0]\n        self.dw_f2_ppm = self.f2[1]-self.f2[0]\n        \n        for r in range(self.rr):\n    \n            for c in range( self.cc):\n        \n                self.Y[r,c] = self.f1[r]\n                self.X[r,c] = self.f2[c] \n                \n#        print dimensions_ppm       \n        if dimensions_ppm == []:\n            self.dimensions_index = np.array([0,self.rr-1,0,self.cc-1])\n        else:\n            r1 = int( (dimensions_ppm[1]-self.f1_offset_p)/self.dw_f1_ppm)\n            r2 = int( (dimensions_ppm[0]-self.f1_offset_p)/self.dw_f1_ppm)\n            c1 = int( (dimensions_ppm[2]-self.f2_offset_p)/self.dw_f2_ppm)\n            c2 = int( (dimensions_ppm[3]-self.f2_offset_p)/self.dw_f2_ppm)\n            \n            self.dimensions_index = np.array([r1,r2,c1,c2 ])\n            \n#        print \"self.dimensions_index\", self.dimensions_index\n            \n        self.Z1 = self.exp[self.dimensions_index[0]:self.dimensions_index[1],self.dimensions_index[2]:self.dimensions_index[3]]\n        self.X1 =   self.X[self.dimensions_index[0]:self.dimensions_index[1],self.dimensions_index[2]:self.dimensions_index[3]]\n        self.Y1 =   self.Y[self.dimensions_index[0]:self.dimensions_index[1],self.dimensions_index[2]:self.dimensions_index[3]]\n        \n        \n    def create_plot_layout( self, dimensions_index):\n        \n#        print \"dimensions_index\",dimensions_index\n        \n        nullfmt   = NullFormatter()         # no labels\n\n        # definitions for the axes\n        left, width = 0.1, 0.65\n        bottom, height = 0.1, 0.65\n        bottom_h = left_h = left+width+0.02\n\n        rect_scatter = [left, bottom, width, height]\n        rect_histx = [left, bottom_h, width, 0.2]\n        rect_histy = [left_h, bottom, 0.2, height]\n\n        # start with a rectangular Figure\n        plt.figure(2, figsize=(9,9))\n\n        \n\n        self.axScatter = plt.axes(rect_scatter)\n        self.axHistx = plt.axes(rect_histx)\n        self.axHisty = plt.axes(rect_histy)\n\n# no labels\n        self.axHistx.xaxis.set_major_formatter(nullfmt)\n        self.axHisty.yaxis.set_major_formatter(nullfmt)\n        \n        self.axScatter.tick_params(axis='x', labelsize=16)\n        self.axScatter.tick_params(axis='y', labelsize=16)\n        self.axScatter.set_xlabel('${^1}$H [ppm]',fontsize=16)\n        #ax.set_xlim(-60, 60)\n        self.axScatter.set_ylabel('${^1}$H [ppm]', fontsize=16)\n        \n        self.axHistx.axis('off')\n        self.axHisty.axis('off')\n\n        f1_start = self.f1[dimensions_index[0]]\n        f1_end   = self.f1[dimensions_index[1]]\n\n        f2_start = self.f2[dimensions_index[2]]\n        f2_end   = self.f2[dimensions_index[3]]\n\n        self.axScatter.set_ylim( (f1_start, f1_end) )\n        self.axScatter.set_xlim( (f2_start, f2_end) )\n        \n        \n\n    def plot_plots(self):\n        \n        # the scatter plot:\n        cl = np.linspace(self.Z1.max()*0.01, self.Z1.max()*1.1,10)\n#        print \"Z1.shape\",self.Z1.shape\n        \n\n        sum_f1 = self.Z1.sum(axis=0)\n#        print \"len(sum_f1)\",len(sum_f1)\n        sum_f2 = self.Z1.sum(axis=1)\n#        print \"len(sum_f2)\",len(sum_f2)\n\n        cset = self.axScatter.contour(self.X1, self.Y1, self.Z1,  cl,  colors='red')\n        #\n        self.axHistx.plot(sum_f1, 'r-')\n        self.axHisty.plot(sum_f2,range(len(sum_f2)),'r')\n\n\n        self.axHistx.set_xlim( (0,len(sum_f1)-1) )\n        self.axHisty.set_ylim( (0,len(sum_f2)-1) )     \n        \n        plt.tight_layout()\n        \n\n\nif __name__ == \"__main__\":\n    \n    # DEFINE SYSTEM & NMR PARAMETERS\n    \n    dt1   = 0.001 # t1 time increment\n    dt2   = 0.001 # t2 time increment\n    t1pts = 1024 # points on t1 axis\n    t2pts = 1024 # points on t2 axis\n\n    # Read in spin system for cosy experiment\n    \n    sys=spin_system()     # define the system, read in\n    sys.read(\"cosy1.sys\") # from disk\n    \n    # set up some neccessary variables\n    \n    tmp = row_vector(t2pts)                                    #block_1D tmp(t2pts); // 1D-data block storage\n    data = np.zeros((t1pts,t2pts), dtype=np.complex128) #block_2D data(t1pts,t2pts); // 2D-data matrix storage\n    \n    H = Hcs(sys)+ HJw(sys)                                    # // Hamiltonian, weak coupling\n    detect = gen_op(Fm(sys))                                  # // F- for detection operator\n\n    # APPLY PULSE SEQUENCE\n    \n    sigma0 = sigma_eq(sys)               #  equilibrium density matrix\n    sigma1 = Iypuls(sys, sigma0, 90)     #  apply first 90 y-pulse\n    \n    for t1 in range(t1pts):\n        sigma=evolve(sigma1, H, t1*dt1)         # evolution during t1\n        sigma=Iypuls(sys, sigma, 90)            # apply second 90 y-pulse\n        FID(sigma,detect,H,dt2,t2pts,tmp)       # acquisition\n    \n        data[t1] =  tmp.toNParray()             # save FID\n        \n    # Apply QSIN processing in both dimensions, 2D-FFT and display in absolute mode\n    \n    ph1 = np.pi/1.\n    aq = 1./dt2\n    \n    ttt = np.arange(t2pts)/aq\n    \n    qsin = (np.sin((2.0*np.pi-ph1)*ttt+ph1))**2\n    \n    ddd1 =  qsin*data\n    \n    fid = fftpack.fft(ddd1, axis=1)\n    fid = fftpack.fftshift(fid, axes=1)\n    \n    fid = qsin*(fid.transpose())\n    \n    spec = fftpack.fft(fid, axis=1)\n    spec = fftpack.fftshift(spec, axes=1)\n    \n    absSpec = abs(spec)\n    absSpec = np.fliplr(absSpec)   # flip spectrum up down and left to right to obtain correct  Bruker configuration\n    absSpec = np.flipud(absSpec)\n    \n    # Plot in ppm making use of NMRGLUE python package\n    \n    info = {}\n    pinfo = {}\n    \n    pinfo['procs']={}\n    pinfo['proc2s']={}\n    \n    pinfo['procs']['OFFSET']=1.25\n    pinfo['procs' ]['SW_p']=1.0/dt1\n    pinfo['procs' ]['SF']=sys.spectrometer_frequency()\n    \n    pinfo['proc2s' ]['OFFSET'] =1.25\n    pinfo['proc2s' ]['SW_p']=1.0/dt2\n    pinfo['proc2s' ]['SF']=sys.spectrometer_frequency()\n    \n    ppplot = TwoD_NMR_MAT_plot(absSpec, pinfo, info, [0.05,0.55, 0.55,0.05] )\n    \n    plt.show()"
      ]
    }
  ],
  "metadata": {
    "kernelspec": {
      "display_name": "Python 3",
      "language": "python",
      "name": "python3"
    },
    "language_info": {
      "codemirror_mode": {
        "name": "ipython",
        "version": 3
      },
      "file_extension": ".py",
      "mimetype": "text/x-python",
      "name": "python",
      "nbconvert_exporter": "python",
      "pygments_lexer": "ipython3",
      "version": "3.6.5"
    }
  },
  "nbformat": 4,
  "nbformat_minor": 0
}