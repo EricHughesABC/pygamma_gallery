{
  "cells": [
    {
      "cell_type": "code",
      "execution_count": null,
      "metadata": {
        "collapsed": false
      },
      "outputs": [],
      "source": [
        "%matplotlib inline"
      ]
    },
    {
      "cell_type": "markdown",
      "metadata": {},
      "source": [
        "\n#################\nHammersley Sphere\n#################\n"
      ]
    },
    {
      "cell_type": "code",
      "execution_count": null,
      "metadata": {
        "collapsed": false
      },
      "outputs": [],
      "source": [
        "import numpy as np\nfrom matplotlib import pyplot as plt\nfrom mpl_toolkits.mplot3d import Axes3D\n\ndef return_point(m, n, p):\n    \"\"\"\n    m is the index number of the Hammersley point to calculate\n    n is the maximun number of points\n    p is the order of the Hammersley point, 1,2,3,4,... etc\n    l is the power of x to go out to and is hard coded to 10 in this example\n    :return type double\n    \"\"\"\n\n    if p == 1:\n        return m / float(n)\n\n    v = 0.0\n\n    for j in range(10, -1, -1):\n        num = m // p ** j\n\n        if num > 0:\n            m -= num * p ** j\n            v += num / (p ** (j + 1))\n\n    return (v)\n\nif __name__ == \"__main__\":\n\n    npts = 500\n    h_1 = np.zeros(npts)\n\n    h_7 = np.zeros(npts)\n\n    for m in range(npts):\n        h_1[m] = return_point(m, npts, 1)\n        h_7[m] = return_point(m, npts, 7)\n\n    phirad = h_1 * 2.0 * np.pi\n    h7 = 2.0 * h_7 - 1.0  # map from [0,1] to [-1,1]\n    st = np.sqrt(1.0 - h7 * h7)\n\n    xxx = st * np.cos(phirad)\n    yyy = st * np.sin(phirad)\n    zzz = h7\n\n    fig = plt.figure()\n    ax = fig.gca(projection='3d')\n\n    ax.plot(xxx, yyy, zzz, '.')\n    ax.set_xticks([-1.0, -0.5, 0.0, 0.5, 1.0]);\n    ax.set_yticks([-1.0, -0.5, 0.0, 0.5, 1.0]);\n    ax.set_zticks([-1.0, -0.5, 0.0, 0.5, 1.0]);\n    ax.set_title(\"Ham Points, 1 and 7\", fontsize=14)\n\n    plt.show()"
      ]
    }
  ],
  "metadata": {
    "kernelspec": {
      "display_name": "Python 3",
      "language": "python",
      "name": "python3"
    },
    "language_info": {
      "codemirror_mode": {
        "name": "ipython",
        "version": 3
      },
      "file_extension": ".py",
      "mimetype": "text/x-python",
      "name": "python",
      "nbconvert_exporter": "python",
      "pygments_lexer": "ipython3",
      "version": "3.7.3"
    }
  },
  "nbformat": 4,
  "nbformat_minor": 0
}