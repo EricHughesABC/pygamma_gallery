{
  "cells": [
    {
      "cell_type": "code",
      "execution_count": null,
      "metadata": {
        "collapsed": false
      },
      "outputs": [],
      "source": [
        "%matplotlib inline"
      ]
    },
    {
      "cell_type": "markdown",
      "metadata": {},
      "source": [
        "\n# Hammersley vs Random \n\n\nIn this example we compare the tiling efficiency of just choosing random \nnumbers for $\\theta$ and $\\phi$ tiling angles compared to using Hammersley Points\n\n"
      ]
    },
    {
      "cell_type": "code",
      "execution_count": null,
      "metadata": {
        "collapsed": false
      },
      "outputs": [],
      "source": [
        "import numpy as np\nfrom scipy import fftpack\nfrom matplotlib import pyplot as plt\nimport sys\n\n\ndef return_Hammersley_points_array( l, n, p):\n    \"\"\"\n    l is the power of x to go out to p^m\n    n is the maximun number of points\n    p is the order of the Hammersley point, 1,2,3,4,... etc\n    \n    returns\n    --------\n    np.array of double\n    \n    \"\"\"\n    \n    vvv = np.zeros(n)\n    \n    for m in range(n):\n        m1=1*m\n        if p == 1:\n            vvv[m] =  m1/n\n        else:        \n            v = 0.0\n           \n            for j in range(l,-1,-1):\n                num = m1//p**j\n                \n                if num > 0:\n                    m1 -= num*p**j\n                    v  += num / ( p ** (j+1) )\n                    \n            vvv[m]=v\n                \n    return(vvv)\n\n\ndef omega_cs( theta, phi, iso_cs=0.0, asymm_cs=100, eta_cs=1.0):\n        \n    return (iso_cs +0.5* asymm_cs*(3.0 * (np.cos(theta)**2) -1.0 - eta_cs*(np.sin(theta)**2)*np.cos( 2.0 * phi ))), np.sin(theta)\n\nif __name__ == \"__main__\":\n    \n    # Define CSA powder pattern \n    \n    # Principal components of the chemical shift shielding tensor\n    \n    s_zz = -120.0\n    s_yy = -50.0\n    s_xx =  100.0\n    \n    ncols = 256\n    nrows = 256\n    \n    sw = 500.0\n    dt = 1/sw\n    time_axis = np.arange(ncols)*dt\n    lb = 2.0\n    axis_Hz = np.linspace( -sw/2., sw/2., ncols )\n    \n    # Check for Haeberlens convention\n    \n    iso_cs =(s_zz+s_yy+s_xx)/3.\n    \n    if abs(s_zz-iso_cs) >= abs(s_xx-iso_cs) and abs(s_xx-iso_cs) >= abs(s_yy-iso_cs):\n        h_zz = s_zz\n        h_yy = s_yy\n        h_xx = s_xx\n        \n    elif abs(s_zz-iso_cs) < abs(s_xx-iso_cs) and abs(s_xx-iso_cs) >= abs(s_yy-iso_cs):\n        h_zz = s_xx\n        h_yy = s_yy\n        h_xx = s_zz\n\n    else:\n        print(\"problem with assignment of cs tensors\")\n        sys.exit()\n    \n    asymm_cs = h_zz-iso_cs\n    eta_cs   = (h_xx-h_yy)/(h_zz-iso_cs)\n    \n    # Calculate Hammersley Points and Powder pattern\n    N_particles = 2**17\n     \n    theta = return_Hammersley_points_array(22, N_particles, 2) \n    phi   = return_Hammersley_points_array(22, N_particles, 3) \n    \n    omega_ham, solid_angle_ham = omega_cs(theta*np.pi,2*np.pi*phi, eta_cs=eta_cs, iso_cs=iso_cs, asymm_cs=asymm_cs)\n    \n    # Calculate random Points \n    \n    pts = np.random.rand(2,N_particles)\n    \n    theta = pts[0]*np.pi\n    phi   = pts[1]*2.0*np.pi\n    \n    omega_rand, solid_angle_rand = omega_cs( pts[0]*np.pi,pts[1]*2.0*np.pi, eta_cs=eta_cs, iso_cs=iso_cs, asymm_cs=asymm_cs)\n    \n    # Propogate FID\n    \n    ccc_rand = np.cos( np.outer( 2*np.pi*omega_rand, time_axis ))\n    sss_rand = np.sin( np.outer( 2*np.pi*omega_rand, time_axis ))\n    \n    ccc_ham = np.cos( np.outer( 2*np.pi*omega_ham, time_axis ))\n    sss_ham = np.sin( np.outer( 2*np.pi*omega_ham, time_axis ))\n    \n    ## Apply solid angle weighting\n    \n    ccc_rand =  solid_angle_rand.reshape((N_particles,1)) *ccc_rand\n    sss_rand =  solid_angle_rand.reshape((N_particles,1)) *sss_rand\n\n    ccc_rand = ccc_rand.sum( axis=0)\n    sss_rand = sss_rand.sum( axis=0)\n\n    ccc_ham =  solid_angle_ham.reshape((N_particles,1)) *ccc_ham\n    sss_ham =  solid_angle_ham.reshape((N_particles,1)) *sss_ham\n\n    ccc_ham = ccc_ham.sum( axis=0)\n    sss_ham = sss_ham.sum( axis=0)\n    \n    # create complex array, apply exponential linebroadeining, FFT\n    \n    fid_rand = ccc_rand*np.exp(-lb*time_axis) + 1J * sss_rand*np.exp(-lb*time_axis)\n    spec_rand = fftpack.fft(fid_rand)\n    spec_rand = fftpack.fftshift(spec_rand)\n    \n    fid_ham = ccc_ham*np.exp(-lb*time_axis) + 1J * sss_ham*np.exp(-lb*time_axis)\n    spec_ham = fftpack.fft(fid_ham)\n    spec_ham = fftpack.fftshift(spec_ham)\n    \n    \n    # display Spectra side by side\n    \n    fig, axs = plt.subplots(1, 2, figsize=(12, 6), sharey=True)\n    \n    ax = axs.flatten()\n    \n    ax[0].plot(axis_Hz,(spec_rand.real/(spec_rand.real).max())  );\n    ax[1].plot(axis_Hz,(spec_ham.real/(spec_ham.real).max())  );\n    l,r = ax[0].get_xlim()\n    ax[0].set_xlim(r,l)\n    ax[1].set_xlim(r,l)\n\n    ax[0].spines['top'].set_visible(False)\n    ax[0].spines['left'].set_visible(False)\n    ax[0].spines['right'].set_visible(False)\n    \n    ax[1].spines['top'].set_visible(False)\n    ax[1].spines['left'].set_visible(False)\n    ax[1].spines['right'].set_visible(False)\n    \n    ax[0].set_yticks([])\n    ax[1].set_yticks([])\n    \n    ax[0].set_xlabel( 'Hz', fontsize=14 )\n    ax[1].set_xlabel( 'Hz', fontsize=14 )\n    \n    ax[0].set_title(str(N_particles) +\" Random Pts\", fontsize=14)\n    ax[1].set_title(str(N_particles) +\" Hammersley Pts\", fontsize=14)\n    \n    plt.show()"
      ]
    }
  ],
  "metadata": {
    "kernelspec": {
      "display_name": "Python 3",
      "language": "python",
      "name": "python3"
    },
    "language_info": {
      "codemirror_mode": {
        "name": "ipython",
        "version": 3
      },
      "file_extension": ".py",
      "mimetype": "text/x-python",
      "name": "python",
      "nbconvert_exporter": "python",
      "pygments_lexer": "ipython3",
      "version": "3.6.5"
    }
  },
  "nbformat": 4,
  "nbformat_minor": 0
}