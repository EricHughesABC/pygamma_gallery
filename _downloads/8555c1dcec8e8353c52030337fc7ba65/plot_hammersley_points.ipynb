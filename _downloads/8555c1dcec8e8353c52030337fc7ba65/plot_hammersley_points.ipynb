{
  "cells": [
    {
      "cell_type": "code",
      "execution_count": null,
      "metadata": {
        "collapsed": false
      },
      "outputs": [],
      "source": [
        "%matplotlib inline"
      ]
    },
    {
      "cell_type": "markdown",
      "metadata": {},
      "source": [
        "\n###################\nHammersley 2D-plane\n###################\n\nHammersley points are a series of pseudo random points with a low discrepancy that are suitable for use in solid state NMR simulations where powder averaging is performed.\n\nReferences\n==========\n\n- Hammersley, J. M.; Handscomb, D. C. (1964). Monte Carlo Methods. doi:10.1007/978-94-009-5819-7\n- Tien-Tsin Wong, Wai-Shing Luk & Pheng-Ann Heng (1997) Sampling with Hammersley and Halton Points, Journal of Graphics Tools, 2:2, 9-24, doi: 10.1080/10867651.1997.10487471\n\nExamples of Hammersley points for tiling a 2-D plane\n====================================================\n"
      ]
    },
    {
      "cell_type": "code",
      "execution_count": null,
      "metadata": {
        "collapsed": false
      },
      "outputs": [],
      "source": [
        "import numpy as np\nfrom matplotlib import pyplot as plt\n\n\n\ndef return_point(m, n, p):\n    \"\"\"\n    m is the index number of the Hammersley point to calculate\n    n is the maximun number of points\n    p is the order of the Hammersley point, 1,2,3,4,... etc\n    l is the power of x to go out to and is hard coded to 10 in this example\n    :return type double\n    \"\"\"\n\n    if p == 1:\n        return m / n\n\n    v = 0.0\n\n    for j in range(10, -1, -1):\n        num = m // p ** j\n\n        if num > 0:\n            m -= num * p ** j\n            v += num / (p ** (j + 1))\n\n    return (v)\n\nif __name__ == \"__main__\":\n\n    npts = 500\n    h_1 = np.zeros(npts)\n    h_2 = np.zeros(npts)\n    h_3 = np.zeros(npts)\n    h_4 = np.zeros(npts)\n    h_5 = np.zeros(npts)\n    h_7 = np.zeros(npts)\n\n    for m in range(npts):\n        h_1[m] = return_point(m, npts, 1)\n        h_2[m] = return_point(m, npts, 2)\n        h_3[m] = return_point(m, npts, 3)\n        h_4[m] = return_point(m, npts, 4)\n        h_5[m] = return_point(m, npts, 5)\n        h_7[m] = return_point(m, npts, 7)\n\n    fig, axs = plt.subplots(2, 2, figsize=(10, 10), sharey=True)\n\n    ax =axs.flatten()\n\n    ax[0].plot(h_1, h_2, '.')\n    ax[1].plot(h_1, h_2, '.')\n    ax[2].plot(h_1, h_4, '.')\n    ax[3].plot(h_1, h_5, '.')\n    ax[0].set_xlabel(\"p=1\", fontsize=14)\n    ax[0].set_ylabel(\"p=2\", fontsize=14)\n    ax[1].set_xlabel(\"p=1\", fontsize=14)\n    ax[1].set_ylabel(\"p=3\", fontsize=14)\n    ax[2].set_xlabel(\"p=1\", fontsize=14)\n    ax[2].set_ylabel(\"p=4\", fontsize=14);\n    ax[3].set_xlabel(\"p=1\", fontsize=14)\n    ax[3].set_ylabel(\"p=5\", fontsize=14);\n\n\n    plt.show()"
      ]
    }
  ],
  "metadata": {
    "kernelspec": {
      "display_name": "Python 3",
      "language": "python",
      "name": "python3"
    },
    "language_info": {
      "codemirror_mode": {
        "name": "ipython",
        "version": 3
      },
      "file_extension": ".py",
      "mimetype": "text/x-python",
      "name": "python",
      "nbconvert_exporter": "python",
      "pygments_lexer": "ipython3",
      "version": "3.7.3"
    }
  },
  "nbformat": 4,
  "nbformat_minor": 0
}