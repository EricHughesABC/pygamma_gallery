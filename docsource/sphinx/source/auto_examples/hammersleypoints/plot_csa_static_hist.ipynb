{
  "cells": [
    {
      "cell_type": "code",
      "execution_count": null,
      "metadata": {
        "collapsed": false
      },
      "outputs": [],
      "source": [
        "%matplotlib inline"
      ]
    },
    {
      "cell_type": "markdown",
      "metadata": {},
      "source": [
        "\n# CSA Histogram Approach\n\n\nStatic Chemical Shift Powder Pattern using a Histogram Approach\n\n\nThe equation for the static powder pattern for a simple chemical shift anisotropy interation is given by the following equation\n\n\\begin{align}H = \\delta_{iso} + \\frac {1}{2} \\delta \\left ( 3 \\cos^2 \\theta - 1 \\right ) - \\delta \\eta \\sin^2 \\theta \\cos 2 \\phi\\end{align}\n  \n  \nThere are a number of conventions for the assignment of $\\eta$ and $\\delta$, we have used Haeberlen's convention.\n\nif $\\sigma_{xx}$, $\\sigma_{yy}$ and $\\sigma_{zz}$ are the principal components of the chemical shielding tensor then they must have the following order.\n\n\\begin{align}\\left | \\sigma_{zz} - \\sigma_{iso} \\right | \\ge  \\left | \\sigma_{xx} - \\sigma_{iso} \\right | \\ge  \\left | \\sigma_{yy} - \\sigma_{iso} \\right |\\end{align}\nwhere\n\n\\begin{align}\\sigma_{iso} = \\frac {1}{3} \\left ( \\sigma_{xx} + \\sigma_{yy} + \\sigma_{zz} \\right )\\end{align}\nand then $\\delta$ and $\\eta$ ared defined as follows\n\n\\begin{align}\\delta = \\sigma_{zz} - \\sigma_{iso}\\end{align}\nand\n\n\\begin{align}\\eta = \\frac {\\sigma_{xx}-\\sigma_{yy}}{\\sigma_{zz}-\\sigma_{iso}}\\end{align}\n\n\nReferences\n~~~~~~~~~~\n\n- U. Haeberlen, In Advances in Magnetic Resonance; Suppl. 1; J. S. Waugh, Ed.; Academic Press, New York, 1976.\n\n"
      ]
    },
    {
      "cell_type": "code",
      "execution_count": null,
      "metadata": {
        "collapsed": false
      },
      "outputs": [],
      "source": [
        "import numpy as np\nfrom matplotlib import pyplot as plt\nimport sys\n\n\ndef return_Hammersley_points_array( l, n, p):\n    \"\"\"\n    l is the power of x to go out to p^m\n    n is the maximun number of points\n    p is the order of the Hammersley point, 1,2,3,4,... etc\n    \n    returns\n    --------\n    np.array of double\n    \n    \"\"\"\n    \n    vvv = np.zeros(n)\n    \n    for m in range(n):\n        m1=1*m\n        if p == 1:\n            vvv[m] =  m1/n\n        else:        \n            v = 0.0\n           \n            for j in range(l,-1,-1):\n                num = m1//p**j\n                \n                if num > 0:\n                    m1 -= num*p**j\n                    v  += num / ( p ** (j+1) )\n                    \n            vvv[m]=v\n                \n    return(vvv)\n\n\ndef omega_cs( theta, phi, iso_cs=0.0, asymm_cs=100, eta_cs=1.0):\n        \n    return (iso_cs +0.5* asymm_cs*(3.0 * (np.cos(theta)**2) -1.0 - eta_cs*(np.sin(theta)**2)*np.cos( 2.0 * phi ))), np.sin(theta)\n \n    \nif __name__ == \"__main__\":\n    \n    # Define CSA powder pattern \n    \n    # Principal components of the chemical shift shielding tensor\n    \n    s_zz = -120.0\n    s_yy = -50.0\n    s_xx =  100.0\n    \n    # Check for Haeberlens convention\n    \n    iso_cs =(s_zz+s_yy+s_xx)/3.\n    \n    if abs(s_zz-iso_cs) >= abs(s_xx-iso_cs) and abs(s_xx-iso_cs) >= abs(s_yy-iso_cs):\n        h_zz = s_zz\n        h_yy = s_yy\n        h_xx = s_xx\n        \n    elif abs(s_zz-iso_cs) < abs(s_xx-iso_cs) and abs(s_xx-iso_cs) >= abs(s_yy-iso_cs):\n        h_zz = s_xx\n        h_yy = s_yy\n        h_xx = s_zz\n\n    else:\n        print(\"problem with assignment of cs tensors\")\n        sys.exit()\n    \n    asymm_cs = h_zz-iso_cs\n    eta_cs   = (h_xx-h_yy)/(h_zz-iso_cs)\n    \n    # Calculate Hammersley Points and Powder pattern\n    N_particles = 2**17\n     \n    theta = return_Hammersley_points_array(22, N_particles, 2) \n    phi   = return_Hammersley_points_array(22, N_particles, 3) \n    \n    omega, solid_angle = omega_cs(theta*np.pi,2*np.pi*phi, eta_cs=eta_cs, iso_cs=iso_cs, asymm_cs=asymm_cs)\n    \n    # Plot Powder pattern and use sin(theta) solid angle weighting\n    \n    plt.hist(omega, bins = 200, weights=solid_angle, density=True);\n    plt.xlim(250.0, -250.0)\n    ax = plt.gca()\n    ax.spines['top'].set_visible(False)\n    ax.spines['left'].set_visible(False)\n    ax.spines['right'].set_visible(False)\n    plt.yticks([])\n    plt.xlabel('Hz', fontsize=14)\n    \n    ax.annotate('$\\sigma_{xx}$',\n            xy=(s_xx+5, 0.0030), xycoords='data',\n            xytext=(-50, 30), textcoords='offset points',\n            arrowprops=dict(arrowstyle=\"->\"),fontsize=14)\n    \n    ax.annotate('$\\sigma_{yy}$',\n            xy=(s_yy+5, 0.012), xycoords='data',\n            xytext=(-50, 00), textcoords='offset points',\n            arrowprops=dict(arrowstyle=\"->\"),fontsize=14)\n    \n    ax.annotate('$\\sigma_{zz}$',\n            xy=(s_zz-5, 0.0044), xycoords='data',\n            xytext=(50, 30), textcoords='offset points',\n            arrowprops=dict(arrowstyle=\"->\"),fontsize=14)\n    \n    plt.title(f\"{N_particles} Hammersley Pts CSA Calculated Histogram\", fontsize=14);\n    \n    plt.show()"
      ]
    }
  ],
  "metadata": {
    "kernelspec": {
      "display_name": "Python 3",
      "language": "python",
      "name": "python3"
    },
    "language_info": {
      "codemirror_mode": {
        "name": "ipython",
        "version": 3
      },
      "file_extension": ".py",
      "mimetype": "text/x-python",
      "name": "python",
      "nbconvert_exporter": "python",
      "pygments_lexer": "ipython3",
      "version": "3.6.5"
    }
  },
  "nbformat": 4,
  "nbformat_minor": 0
}